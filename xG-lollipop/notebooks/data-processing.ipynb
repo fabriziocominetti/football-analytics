{
 "cells": [
  {
   "cell_type": "markdown",
   "metadata": {},
   "source": [
    "### Data Processing"
   ]
  },
  {
   "cell_type": "code",
   "execution_count": 1,
   "metadata": {},
   "outputs": [],
   "source": [
    "import pandas as pd\n",
    "import numpy as np"
   ]
  },
  {
   "cell_type": "markdown",
   "metadata": {},
   "source": [
    "example with one match"
   ]
  },
  {
   "cell_type": "code",
   "execution_count": 2,
   "metadata": {},
   "outputs": [
    {
     "data": {
      "text/html": [
       "<div>\n",
       "<style scoped>\n",
       "    .dataframe tbody tr th:only-of-type {\n",
       "        vertical-align: middle;\n",
       "    }\n",
       "\n",
       "    .dataframe tbody tr th {\n",
       "        vertical-align: top;\n",
       "    }\n",
       "\n",
       "    .dataframe thead th {\n",
       "        text-align: right;\n",
       "    }\n",
       "</style>\n",
       "<table border=\"1\" class=\"dataframe\">\n",
       "  <thead>\n",
       "    <tr style=\"text-align: right;\">\n",
       "      <th></th>\n",
       "      <th>Unnamed: 0</th>\n",
       "      <th>id</th>\n",
       "      <th>event_type</th>\n",
       "      <th>team_id</th>\n",
       "      <th>player_id</th>\n",
       "      <th>player_name</th>\n",
       "      <th>x</th>\n",
       "      <th>y</th>\n",
       "      <th>min</th>\n",
       "      <th>min_added</th>\n",
       "      <th>...</th>\n",
       "      <th>shot_type</th>\n",
       "      <th>situation</th>\n",
       "      <th>period</th>\n",
       "      <th>is_own_goal</th>\n",
       "      <th>on_goal_shot.x</th>\n",
       "      <th>on_goal_shot.y</th>\n",
       "      <th>on_goal_shot.zoomRatio</th>\n",
       "      <th>first_name</th>\n",
       "      <th>last_name</th>\n",
       "      <th>team_color</th>\n",
       "    </tr>\n",
       "  </thead>\n",
       "  <tbody>\n",
       "    <tr>\n",
       "      <th>0</th>\n",
       "      <td>1</td>\n",
       "      <td>2445491797</td>\n",
       "      <td>Goal</td>\n",
       "      <td>8600</td>\n",
       "      <td>844504</td>\n",
       "      <td>Rodrigo Becao</td>\n",
       "      <td>102.34482</td>\n",
       "      <td>39.545</td>\n",
       "      <td>2</td>\n",
       "      <td>NaN</td>\n",
       "      <td>...</td>\n",
       "      <td>Header</td>\n",
       "      <td>FromCorner</td>\n",
       "      <td>FirstHalf</td>\n",
       "      <td>False</td>\n",
       "      <td>0.939484</td>\n",
       "      <td>0.054358</td>\n",
       "      <td>1.0</td>\n",
       "      <td>Rodrigo</td>\n",
       "      <td>Becao</td>\n",
       "      <td>#907850</td>\n",
       "    </tr>\n",
       "  </tbody>\n",
       "</table>\n",
       "<p>1 rows × 28 columns</p>\n",
       "</div>"
      ],
      "text/plain": [
       "   Unnamed: 0          id event_type  team_id  player_id    player_name  \\\n",
       "0           1  2445491797       Goal     8600     844504  Rodrigo Becao   \n",
       "\n",
       "           x       y  min  min_added  ...  shot_type   situation     period  \\\n",
       "0  102.34482  39.545    2        NaN  ...     Header  FromCorner  FirstHalf   \n",
       "\n",
       "   is_own_goal  on_goal_shot.x  on_goal_shot.y  on_goal_shot.zoomRatio  \\\n",
       "0        False        0.939484        0.054358                     1.0   \n",
       "\n",
       "   first_name last_name team_color  \n",
       "0     Rodrigo     Becao    #907850  \n",
       "\n",
       "[1 rows x 28 columns]"
      ]
     },
     "execution_count": 2,
     "metadata": {},
     "output_type": "execute_result"
    }
   ],
   "source": [
    "mil_udi = pd.read_csv(\"../data/rawData/serieA-mil_udi.csv\")\n",
    "mil_udi.head(1)"
   ]
  },
  {
   "cell_type": "markdown",
   "metadata": {},
   "source": [
    "UnicodeDecodeError: 'utf-8' codec can't decode byte 0xe6 in position 898: invalid continuation byte\n",
    "\n",
    "some players have undefined characters (solved manually)"
   ]
  },
  {
   "cell_type": "code",
   "execution_count": 3,
   "metadata": {},
   "outputs": [
    {
     "data": {
      "text/plain": [
       "Index(['Unnamed: 0', 'id', 'event_type', 'team_id', 'player_id', 'player_name',\n",
       "       'x', 'y', 'min', 'min_added', 'is_blocked', 'is_on_target', 'blocked_x',\n",
       "       'blocked_y', 'goal_crossed_y', 'goal_crossed_z', 'expected_goals',\n",
       "       'expected_goals_on_target', 'shot_type', 'situation', 'period',\n",
       "       'is_own_goal', 'on_goal_shot.x', 'on_goal_shot.y',\n",
       "       'on_goal_shot.zoomRatio', 'first_name', 'last_name', 'team_color'],\n",
       "      dtype='object')"
      ]
     },
     "execution_count": 3,
     "metadata": {},
     "output_type": "execute_result"
    }
   ],
   "source": [
    "mil_udi.columns"
   ]
  },
  {
   "cell_type": "code",
   "execution_count": 4,
   "metadata": {},
   "outputs": [
    {
     "data": {
      "text/html": [
       "<div>\n",
       "<style scoped>\n",
       "    .dataframe tbody tr th:only-of-type {\n",
       "        vertical-align: middle;\n",
       "    }\n",
       "\n",
       "    .dataframe tbody tr th {\n",
       "        vertical-align: top;\n",
       "    }\n",
       "\n",
       "    .dataframe thead th {\n",
       "        text-align: right;\n",
       "    }\n",
       "</style>\n",
       "<table border=\"1\" class=\"dataframe\">\n",
       "  <thead>\n",
       "    <tr style=\"text-align: right;\">\n",
       "      <th></th>\n",
       "      <th>team_id</th>\n",
       "      <th>player_id</th>\n",
       "      <th>player_name</th>\n",
       "      <th>min</th>\n",
       "      <th>expected_goals</th>\n",
       "      <th>event_type</th>\n",
       "      <th>team_color</th>\n",
       "    </tr>\n",
       "  </thead>\n",
       "  <tbody>\n",
       "    <tr>\n",
       "      <th>0</th>\n",
       "      <td>8600</td>\n",
       "      <td>844504</td>\n",
       "      <td>Rodrigo Becao</td>\n",
       "      <td>2</td>\n",
       "      <td>0.086003</td>\n",
       "      <td>Goal</td>\n",
       "      <td>#907850</td>\n",
       "    </tr>\n",
       "    <tr>\n",
       "      <th>1</th>\n",
       "      <td>8564</td>\n",
       "      <td>750027</td>\n",
       "      <td>Brahim Diaz</td>\n",
       "      <td>7</td>\n",
       "      <td>0.054140</td>\n",
       "      <td>AttemptSaved</td>\n",
       "      <td>#302028</td>\n",
       "    </tr>\n",
       "  </tbody>\n",
       "</table>\n",
       "</div>"
      ],
      "text/plain": [
       "   team_id  player_id    player_name  min  expected_goals    event_type  \\\n",
       "0     8600     844504  Rodrigo Becao    2        0.086003          Goal   \n",
       "1     8564     750027    Brahim Diaz    7        0.054140  AttemptSaved   \n",
       "\n",
       "  team_color  \n",
       "0    #907850  \n",
       "1    #302028  "
      ]
     },
     "execution_count": 4,
     "metadata": {},
     "output_type": "execute_result"
    }
   ],
   "source": [
    "mil_udi = mil_udi[['team_id', 'player_id', 'player_name', 'min', 'expected_goals', 'event_type', 'team_color']]\n",
    "mil_udi.head(2)"
   ]
  },
  {
   "cell_type": "code",
   "execution_count": 5,
   "metadata": {},
   "outputs": [],
   "source": [
    "mil_udi['match_id'] = 3919071"
   ]
  },
  {
   "cell_type": "code",
   "execution_count": 6,
   "metadata": {},
   "outputs": [],
   "source": [
    "mil_udi['team_name'] = np.where(mil_udi['team_id'] == 8564, 'AC Milan', 'Udinese')"
   ]
  },
  {
   "cell_type": "code",
   "execution_count": 7,
   "metadata": {},
   "outputs": [],
   "source": [
    "mil_udi['venue'] = np.where(mil_udi['team_id'] == 8564, 'H', 'A')"
   ]
  },
  {
   "cell_type": "code",
   "execution_count": 8,
   "metadata": {},
   "outputs": [],
   "source": [
    "mil_udi.to_csv(\"../data/serieA-mil_udi.csv\")"
   ]
  },
  {
   "cell_type": "code",
   "execution_count": 9,
   "metadata": {},
   "outputs": [],
   "source": [
    "sam_ata = pd.read_csv(\"../data/rawData/serieA-sam_ata.csv\")\n",
    "lec_int = pd.read_csv(\"../data/rawData/serieA-lec_int.csv\")\n",
    "mon_tor = pd.read_csv(\"../data/rawData/serieA-mon_tor.csv\")"
   ]
  },
  {
   "cell_type": "code",
   "execution_count": 10,
   "metadata": {},
   "outputs": [],
   "source": [
    "sam_ata = sam_ata[['team_id', 'player_id', 'player_name', 'min', 'expected_goals', 'event_type', 'team_color']]\n",
    "lec_int = lec_int[['team_id', 'player_id', 'player_name', 'min', 'expected_goals', 'event_type', 'team_color']]\n",
    "mon_tor = mon_tor[['team_id', 'player_id', 'player_name', 'min', 'expected_goals', 'event_type', 'team_color']]"
   ]
  },
  {
   "cell_type": "code",
   "execution_count": 11,
   "metadata": {},
   "outputs": [],
   "source": [
    "sam_ata['match_id'] = 3919073\n",
    "lec_int['match_id'] = 3919077\n",
    "mon_tor['match_id'] = 3919072"
   ]
  },
  {
   "cell_type": "code",
   "execution_count": 12,
   "metadata": {},
   "outputs": [],
   "source": [
    "sam_ata['team_name'] = np.where(sam_ata['team_id'] == 9882, 'Sampdoria', 'Atalanta')\n",
    "lec_int['team_name'] = np.where(lec_int['team_id'] == 9888, 'Lecce', 'Inter')\n",
    "mon_tor['team_name'] = np.where(mon_tor['team_id'] == 6504, 'Monza', 'Torino')"
   ]
  },
  {
   "cell_type": "code",
   "execution_count": 13,
   "metadata": {},
   "outputs": [],
   "source": [
    "sam_ata['venue'] = np.where(sam_ata['team_id'] == 9882, 'H', 'A')\n",
    "lec_int['venue'] = np.where(lec_int['team_id'] == 9888, 'H', 'A')\n",
    "mon_tor['venue'] = np.where(mon_tor['team_id'] == 6504, 'H', 'A')"
   ]
  },
  {
   "cell_type": "code",
   "execution_count": 14,
   "metadata": {},
   "outputs": [],
   "source": [
    "sam_ata.to_csv(\"../data/serieA-sam_ata.csv\")\n",
    "lec_int.to_csv(\"../data/serieA-lec_int.csv\")\n",
    "mon_tor.to_csv(\"../data/serieA-mon_tor.csv\")"
   ]
  },
  {
   "cell_type": "markdown",
   "metadata": {},
   "source": [
    "create one dataframe with all data"
   ]
  },
  {
   "cell_type": "code",
   "execution_count": 15,
   "metadata": {},
   "outputs": [
    {
     "name": "stderr",
     "output_type": "stream",
     "text": [
      "C:\\Users\\FC\\AppData\\Local\\Temp\\ipykernel_17504\\3214930175.py:1: FutureWarning: The frame.append method is deprecated and will be removed from pandas in a future version. Use pandas.concat instead.\n",
      "  serieA_1 = mil_udi.append(sam_ata)\n"
     ]
    },
    {
     "data": {
      "text/plain": [
       "43"
      ]
     },
     "execution_count": 15,
     "metadata": {},
     "output_type": "execute_result"
    }
   ],
   "source": [
    "serieA_1 = mil_udi.append(sam_ata)\n",
    "len(serieA_1)"
   ]
  },
  {
   "cell_type": "code",
   "execution_count": 16,
   "metadata": {},
   "outputs": [
    {
     "name": "stderr",
     "output_type": "stream",
     "text": [
      "C:\\Users\\FC\\AppData\\Local\\Temp\\ipykernel_17504\\3303198323.py:1: FutureWarning: The frame.append method is deprecated and will be removed from pandas in a future version. Use pandas.concat instead.\n",
      "  serieA_2 = serieA_1.append(lec_int)\n"
     ]
    },
    {
     "data": {
      "text/plain": [
       "72"
      ]
     },
     "execution_count": 16,
     "metadata": {},
     "output_type": "execute_result"
    }
   ],
   "source": [
    "serieA_2 = serieA_1.append(lec_int)\n",
    "len(serieA_2)"
   ]
  },
  {
   "cell_type": "code",
   "execution_count": 17,
   "metadata": {},
   "outputs": [
    {
     "name": "stderr",
     "output_type": "stream",
     "text": [
      "C:\\Users\\FC\\AppData\\Local\\Temp\\ipykernel_17504\\2272074313.py:1: FutureWarning: The frame.append method is deprecated and will be removed from pandas in a future version. Use pandas.concat instead.\n",
      "  serieA_3 = serieA_2.append(mon_tor)\n"
     ]
    },
    {
     "data": {
      "text/plain": [
       "100"
      ]
     },
     "execution_count": 17,
     "metadata": {},
     "output_type": "execute_result"
    }
   ],
   "source": [
    "serieA_3 = serieA_2.append(mon_tor)\n",
    "len(serieA_3)"
   ]
  },
  {
   "cell_type": "code",
   "execution_count": 18,
   "metadata": {},
   "outputs": [],
   "source": [
    "serieA_3.to_csv(\"../data/serieA-gw1.csv\")"
   ]
  }
 ],
 "metadata": {
  "kernelspec": {
   "display_name": "Python 3.10.4 ('football')",
   "language": "python",
   "name": "python3"
  },
  "language_info": {
   "codemirror_mode": {
    "name": "ipython",
    "version": 3
   },
   "file_extension": ".py",
   "mimetype": "text/x-python",
   "name": "python",
   "nbconvert_exporter": "python",
   "pygments_lexer": "ipython3",
   "version": "3.10.4"
  },
  "orig_nbformat": 4,
  "vscode": {
   "interpreter": {
    "hash": "177bbd7203d7d81d489fe1e7bb46364ed0d45ff427523d5b16e4bdab4ad77217"
   }
  }
 },
 "nbformat": 4,
 "nbformat_minor": 2
}
