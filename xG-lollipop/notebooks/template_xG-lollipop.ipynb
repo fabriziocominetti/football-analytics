{
 "cells": [
  {
   "cell_type": "markdown",
   "metadata": {},
   "source": [
    "## Competition - GWx - xG Lollipop"
   ]
  },
  {
   "cell_type": "markdown",
   "metadata": {},
   "source": [
    "#### Data Processing"
   ]
  },
  {
   "cell_type": "code",
   "execution_count": null,
   "metadata": {},
   "outputs": [],
   "source": [
    "# imports\n",
    "\n",
    "import pandas as pd\n",
    "import numpy as np\n",
    "\n",
    "import matplotlib.pyplot as plt\n",
    "import matplotlib.font_manager as fm\n",
    "from matplotlib import rcParams\n",
    "from highlight_text import fig_text\n",
    "\n",
    "from PIL import Image\n",
    "import urllib\n",
    "import os"
   ]
  },
  {
   "cell_type": "code",
   "execution_count": null,
   "metadata": {},
   "outputs": [],
   "source": [
    "# read data\n",
    "home_away1 = pd.read_csv(\"../data/rawData/competition-home_away1.csv\")\n",
    "home_away2 = pd.read_csv(\"../data/rawData/competition-home_away2.csv\")\n",
    "home_away3 = pd.read_csv(\"../data/rawData/competition-home_away3.csv\")\n",
    "home_away4 = pd.read_csv(\"../data/rawData/competition-home_away4.csv\")\n",
    "home_away5 = pd.read_csv(\"../data/rawData/competition-home_away5.csv\")\n",
    "home_away6 = pd.read_csv(\"../data/rawData/competition-home_away6.csv\")\n",
    "home_away7 = pd.read_csv(\"../data/rawData/competition-home_away7.csv\")\n",
    "home_away8 = pd.read_csv(\"../data/rawData/competition-home_away8.csv\")\n",
    "home_away9 = pd.read_csv(\"../data/rawData/competition-home_away9.csv\")\n",
    "home_away10 = pd.read_csv(\"../data/rawData/competition-home_away10.csv\")"
   ]
  },
  {
   "cell_type": "markdown",
   "metadata": {},
   "source": [
    "UnicodeDecodeError: 'utf-8' codec can't decode byte 0xe6 in position 898: invalid continuation byte\n",
    "\n",
    "some players have undefined characters (solved manually)"
   ]
  },
  {
   "cell_type": "code",
   "execution_count": null,
   "metadata": {},
   "outputs": [],
   "source": [
    "# select only relevant columns\n",
    "home_away1 = home_away1[['team_id', 'player_id', 'player_name', 'min', 'expected_goals', 'event_type', 'team_color']]\n",
    "home_away2 = home_away2[['team_id', 'player_id', 'player_name', 'min', 'expected_goals', 'event_type', 'team_color']]\n",
    "home_away3 = home_away3[['team_id', 'player_id', 'player_name', 'min', 'expected_goals', 'event_type', 'team_color']]\n",
    "home_away4 = home_away4[['team_id', 'player_id', 'player_name', 'min', 'expected_goals', 'event_type', 'team_color']]\n",
    "home_away5 = home_away5[['team_id', 'player_id', 'player_name', 'min', 'expected_goals', 'event_type', 'team_color']]\n",
    "home_away6 = home_away6[['team_id', 'player_id', 'player_name', 'min', 'expected_goals', 'event_type', 'team_color']]\n",
    "home_away7 = home_away7[['team_id', 'player_id', 'player_name', 'min', 'expected_goals', 'event_type', 'team_color']]\n",
    "home_away8 = home_away8[['team_id', 'player_id', 'player_name', 'min', 'expected_goals', 'event_type', 'team_color']]\n",
    "home_away9 = home_away9[['team_id', 'player_id', 'player_name', 'min', 'expected_goals', 'event_type', 'team_color']]\n",
    "home_away10 = home_away10[['team_id', 'player_id', 'player_name', 'min', 'expected_goals', 'event_type', 'team_color']]"
   ]
  },
  {
   "cell_type": "code",
   "execution_count": null,
   "metadata": {},
   "outputs": [],
   "source": [
    "# add match_id column (fotmob)\n",
    "home_away1['match_id'] = 0000000\n",
    "home_away2['match_id'] = 0000000\n",
    "home_away3['match_id'] = 0000000\n",
    "home_away4['match_id'] = 0000000\n",
    "home_away5['match_id'] = 0000000\n",
    "home_away6['match_id'] = 0000000\n",
    "home_away7['match_id'] = 0000000\n",
    "home_away8['match_id'] = 0000000\n",
    "home_away9['match_id'] = 0000000\n",
    "home_away10['match_id'] = 0000000"
   ]
  },
  {
   "cell_type": "code",
   "execution_count": null,
   "metadata": {},
   "outputs": [],
   "source": [
    "# add columns with home team and away team names\n",
    "home_away1['team_name'] = np.where(home_away1['team_id'] == 0000, 'HomeTeam', 'AwayTeam')\n",
    "home_away2['team_name'] = np.where(home_away1['team_id'] == 0000, 'HomeTeam', 'AwayTeam')\n",
    "home_away3['team_name'] = np.where(home_away1['team_id'] == 0000, 'HomeTeam', 'AwayTeam')\n",
    "home_away4['team_name'] = np.where(home_away1['team_id'] == 0000, 'HomeTeam', 'AwayTeam')\n",
    "home_away5['team_name'] = np.where(home_away1['team_id'] == 0000, 'HomeTeam', 'AwayTeam')\n",
    "home_away6['team_name'] = np.where(home_away1['team_id'] == 0000, 'HomeTeam', 'AwayTeam')\n",
    "home_away7['team_name'] = np.where(home_away1['team_id'] == 0000, 'HomeTeam', 'AwayTeam')\n",
    "home_away8['team_name'] = np.where(home_away1['team_id'] == 0000, 'HomeTeam', 'AwayTeam')\n",
    "home_away9['team_name'] = np.where(home_away1['team_id'] == 0000, 'HomeTeam', 'AwayTeam')\n",
    "home_away10['team_name'] = np.where(home_away1['team_id'] == 0000, 'HomeTeam', 'AwayTeam')"
   ]
  },
  {
   "cell_type": "code",
   "execution_count": null,
   "metadata": {},
   "outputs": [],
   "source": [
    "# add venue column\n",
    "home_away1['venue'] = np.where(home_away1['team_id'] == 0000, 'H', 'A')\n",
    "home_away2['venue'] = np.where(home_away2['team_id'] == 0000, 'H', 'A')\n",
    "home_away3['venue'] = np.where(home_away3['team_id'] == 0000, 'H', 'A')\n",
    "home_away4['venue'] = np.where(home_away4['team_id'] == 0000, 'H', 'A')\n",
    "home_away5['venue'] = np.where(home_away5['team_id'] == 0000, 'H', 'A')\n",
    "home_away6['venue'] = np.where(home_away6['team_id'] == 0000, 'H', 'A')\n",
    "home_away7['venue'] = np.where(home_away7['team_id'] == 0000, 'H', 'A')\n",
    "home_away8['venue'] = np.where(home_away8['team_id'] == 0000, 'H', 'A')\n",
    "home_away9['venue'] = np.where(home_away9['team_id'] == 0000, 'H', 'A')\n",
    "home_away10['venue'] = np.where(home_away10['team_id'] == 0000, 'H', 'A')"
   ]
  },
  {
   "cell_type": "code",
   "execution_count": null,
   "metadata": {},
   "outputs": [],
   "source": [
    "# save df to csv\n",
    "home_away1.to_csv(\"../data/competition-home_away1.csv\")\n",
    "home_away2.to_csv(\"../data/competition-home_away2.csv\")\n",
    "home_away3.to_csv(\"../data/competition-home_away3.csv\")\n",
    "home_away4.to_csv(\"../data/competition-home_away4.csv\")\n",
    "home_away5.to_csv(\"../data/competition-home_away5.csv\")\n",
    "home_away6.to_csv(\"../data/competition-home_away6.csv\")\n",
    "home_away7.to_csv(\"../data/competition-home_away7.csv\")\n",
    "home_away8.to_csv(\"../data/competition-home_away8.csv\")\n",
    "home_away9.to_csv(\"../data/competition-home_away9.csv\")\n",
    "home_away10.to_csv(\"../data/competition-home_away10.csv\")"
   ]
  },
  {
   "cell_type": "markdown",
   "metadata": {},
   "source": [
    "create one dataframe with all data"
   ]
  },
  {
   "cell_type": "code",
   "execution_count": null,
   "metadata": {},
   "outputs": [],
   "source": [
    "pdList = [home_away1, home_away2, home_away3, home_away4, home_away5,\n",
    "            home_away6, home_away7, home_away8, home_away9, home_away10]  # List of your dataframes\n",
    "competition_gwx = pd.concat(pdList)\n",
    "len(competition_gwx)"
   ]
  },
  {
   "cell_type": "code",
   "execution_count": null,
   "metadata": {},
   "outputs": [],
   "source": [
    "competition_gwx.to_csv(\"../data/competition_gwx.csv\")"
   ]
  },
  {
   "cell_type": "markdown",
   "metadata": {},
   "source": [
    "read and transform data"
   ]
  },
  {
   "cell_type": "code",
   "execution_count": null,
   "metadata": {},
   "outputs": [],
   "source": [
    "# read and transform data\n",
    "df = pd.read_csv(\"../data/competition_gwx.csv\", index_col=0)\n",
    "df.head()"
   ]
  },
  {
   "cell_type": "code",
   "execution_count": null,
   "metadata": {},
   "outputs": [],
   "source": [
    "df.columns"
   ]
  },
  {
   "cell_type": "code",
   "execution_count": null,
   "metadata": {},
   "outputs": [],
   "source": [
    "df['min'] = df['min'].astype(int)\n",
    "# df['expected_goals'] = df['expected_goals'].astype(float)"
   ]
  },
  {
   "cell_type": "code",
   "execution_count": null,
   "metadata": {},
   "outputs": [],
   "source": [
    "df.dtypes"
   ]
  },
  {
   "cell_type": "markdown",
   "metadata": {},
   "source": [
    "! own goals: they don't have xG, so I need to filled them with 0.5, in that way they will be visible"
   ]
  },
  {
   "cell_type": "markdown",
   "metadata": {},
   "source": [
    "function to plot the xG match axes"
   ]
  },
  {
   "cell_type": "code",
   "execution_count": null,
   "metadata": {},
   "outputs": [],
   "source": [
    "# function to plot the xG match axes\n",
    "\n",
    "def plot_axes_xg_by_match(ax, fig, match_id, data=df):\n",
    "    '''\n",
    "    this function plots the xG lollipop chart for a given match_id\n",
    "    '''\n",
    "    df = data.copy()\n",
    "    match_df = df[df['match_id'] == match_id].reset_index(drop=True)\n",
    "    match_df.sort_values(by='min', ascending=True).reset_index(drop=True)\n",
    "\n",
    "    home_conditional = (match_df['venue'] == 'H')\n",
    "    away_conditional = (match_df['venue'] == 'A')\n",
    "\n",
    "    # clean up the axes\n",
    "    ax.set_ylim(-1.05,1.05)\n",
    "    ax.set_xlim(-5,95)\n",
    "    ax.spines['left'].set_visible(False)\n",
    "    ax.spines['right'].set_visible(False)\n",
    "    ax.spines['top'].set_visible(False)\n",
    "    ax.yaxis.set_ticks([])\n",
    "    ax.xaxis.set_ticks(\n",
    "        [x for x in range(-2,45,10)] + [x for x in range(52,102,10)],\n",
    "        labels=[x for x in range(0,91,10)]\n",
    "    )\n",
    "    ax.tick_params(labelsize=7)\n",
    "\n",
    "    plt.rcParams['hatch.linewidth'] = 0.45\n",
    "\n",
    "    home_color = match_df[home_conditional]['team_color'].iloc[0]\n",
    "    for index, shot in enumerate(match_df[home_conditional]['expected_goals']):\n",
    "        minute = match_df[home_conditional]['min'].iloc[index]\n",
    "        if minute < 46:\n",
    "            offset_x = -2\n",
    "        else:\n",
    "            offset_x = 2\n",
    "        ax.plot([minute + offset_x, minute + offset_x], [0, shot], color=home_color)\n",
    "        if match_df[home_conditional]['event_type'].iloc[index] != 'Goal':\n",
    "            hatch = ''\n",
    "        else:\n",
    "            hatch = '/////////////'\n",
    "        ax.scatter([minute + offset_x], [shot + .025], marker='o', s=40, hatch=hatch, \n",
    "                color=\"white\", zorder=3, lw=1.15, ec=home_color)\n",
    "\n",
    "    away_color = match_df[away_conditional]['team_color'].iloc[0]\n",
    "    for index, shot in enumerate(match_df[away_conditional]['expected_goals']):\n",
    "        minute = match_df[away_conditional]['min'].iloc[index]\n",
    "        if minute < 46:\n",
    "            offset_x = -2\n",
    "        else:\n",
    "            offset_x = 2\n",
    "        ax.plot([minute + offset_x, minute + offset_x], [0, -1*shot], color=away_color)\n",
    "        if match_df[away_conditional]['event_type'].iloc[index] != 'Goal':\n",
    "            hatch = ''\n",
    "        else:\n",
    "            hatch = '/////////////'\n",
    "        ax.scatter([minute + offset_x], [-1*shot - .025], marker='o', s=40, hatch=hatch, \n",
    "                color=\"white\", zorder=3, lw=1.15, ec=away_color)\n",
    "\n",
    "    # make it pretty\n",
    "    ax.plot([-5,95], [0,0], color='black', lw=1.75)\n",
    "    ax.plot([45,45], [-1.05,1.05], color='white', lw=1.75, zorder=2)\n",
    "    ax.fill_between(\n",
    "        x=[-5,95], y1=[0], y2=[1.05],\n",
    "        color=home_color, alpha=0.1, zorder=1,\n",
    "        hatch=\".......\"\n",
    "    )\n",
    "    ax.fill_between(\n",
    "        x=[-5,95], y1=[0], y2=[-1.05],\n",
    "        color=away_color, alpha=0.1, zorder=1,\n",
    "        hatch=\".......\"\n",
    "    )\n",
    "\n",
    "    # add the logos and legend\n",
    "    home_team_id = match_df[home_conditional]['team_id'].iloc[0]\n",
    "    away_team_id = match_df[away_conditional]['team_id'].iloc[0]\n",
    "    home_team_name = match_df[home_conditional]['team_name'].iloc[0]\n",
    "    away_team_name = match_df[away_conditional]['team_name'].iloc[0]\n",
    "\n",
    "    DC_to_FC = ax.transData.transform\n",
    "    FC_to_NFC = fig.transFigure.inverted().transform\n",
    "    # native data to normalized data coordinates\n",
    "    DC_to_NFC = lambda x: FC_to_NFC(DC_to_FC(x))\n",
    "\n",
    "    fotmob_url = 'https://images.fotmob.com/image_resources/logo/teamlogo/'\n",
    "\n",
    "    ax_coords = DC_to_NFC([-2, .55])\n",
    "    logo_ax = fig.add_axes([ax_coords[0], ax_coords[1], 0.03, 0.03], anchor = 'W')\n",
    "    club_icon = Image.open(urllib.request.urlopen(f'{fotmob_url}{home_team_id:.0f}.png')).convert(\"LA\")\n",
    "    logo_ax.imshow(club_icon)\n",
    "    logo_ax.axis('off')\n",
    "\n",
    "    ax_coords = DC_to_NFC([-2, -.9])\n",
    "    logo_ax = fig.add_axes([ax_coords[0], ax_coords[1], 0.03, 0.03], anchor = 'W')\n",
    "    club_icon = Image.open(urllib.request.urlopen(f'{fotmob_url}{away_team_id:.0f}.png')).convert(\"LA\")\n",
    "    logo_ax.imshow(club_icon)\n",
    "    logo_ax.axis('off')\n",
    "\n",
    "    # compute goals and xG\n",
    "    home_xG = match_df[home_conditional]['expected_goals'].sum()\n",
    "    away_xG = match_df[away_conditional]['expected_goals'].sum()\n",
    "    home_goals = (match_df[home_conditional]['event_type'] == 'Goal').sum()\n",
    "    away_goals = (match_df[away_conditional]['event_type'] == 'Goal').sum()\n",
    "\n",
    "    ax.annotate(\n",
    "        xy=(0.02, 1.05),\n",
    "        text=f'{home_team_name} ({home_xG:.1f}) vs {away_team_name} ({away_xG:.1f}): {home_goals} - {away_goals}',\n",
    "        xycoords='axes fraction',\n",
    "        weight='bold',\n",
    "        size=9\n",
    "    )\n",
    "\n",
    "    return ax\n"
   ]
  },
  {
   "cell_type": "markdown",
   "metadata": {},
   "source": [
    "the final visual"
   ]
  },
  {
   "cell_type": "code",
   "execution_count": null,
   "metadata": {},
   "outputs": [],
   "source": [
    "# the final visual (4 games)\n",
    "\n",
    "layout_ = '''\n",
    "    AABB\n",
    "    ....\n",
    "    CCDD\n",
    "'''\n",
    "\n",
    "height_ratios = [1,.05,1]\n",
    "\n",
    "f = plt.figure(figsize=(10,10), dpi=300)\n",
    "axs = f.subplot_mosaic(\n",
    "    layout_, \n",
    "    gridspec_kw={\n",
    "        'height_ratios':height_ratios,\n",
    "        'hspace': 0.25\n",
    "    }\n",
    ")\n",
    "\n",
    "counter = 0\n",
    "df = df.sort_values(by='match_id').reset_index(drop=True)\n",
    "matches = list(df['match_id'].unique())\n",
    "for k, ax in axs.items():\n",
    "    match_id = matches[counter]\n",
    "    plot_axes_xg_by_match(ax, f, match_id=match_id, data=df)\n",
    "    counter += 1\n",
    "\n",
    "\n",
    "fig_text(\n",
    "    x = 0.12, y = .95, \n",
    "    s = \"<The> First Round of Competition 22/23\",\n",
    "    highlight_textprops=[{\"style\":\"italic\"}],\n",
    "    va = \"bottom\", ha = \"left\",\n",
    "    fontsize = 16, color = \"black\", weight = \"bold\"\n",
    ")\n",
    "fig_text(\n",
    "\tx = 0.12, y = .92,\n",
    "    s = \"xG lollipop timeline | Each circle is a shot | <Dashed circles represent goals>\",\n",
    "    # or Each circle is a shot, with the height representing the xG of the chance | <Dashed circles are goals and triangles are own goals>.\n",
    "    highlight_textprops=[{\"weight\": \"bold\", \"color\": \"black\"}],\n",
    "\tva = \"bottom\", ha = \"left\",\n",
    "\tfontsize = 12, color = \"#4E616C\"\n",
    ")\n",
    "\n",
    "plt.savefig(\n",
    "\t\"../figures/date_competition_2223_round1.png\",\n",
    "\tdpi = 600,\n",
    "\tfacecolor = \"#EFE9E6\",\n",
    "\tbbox_inches=\"tight\",\n",
    "    edgecolor=\"none\",\n",
    "\ttransparent = False\n",
    ")\n",
    "\n",
    "plt.savefig(\n",
    "\t\"../figures/date_competition_2223_round1_tr.png\",\n",
    "\tdpi = 600,\n",
    "\tfacecolor = \"none\",\n",
    "\tbbox_inches=\"tight\",\n",
    "    edgecolor=\"none\",\n",
    "\ttransparent = True\n",
    ")"
   ]
  },
  {
   "cell_type": "code",
   "execution_count": null,
   "metadata": {},
   "outputs": [],
   "source": [
    "# the final visual (10 games)\n",
    "\n",
    "layout_ = '''\n",
    "    AABBCC\n",
    "    ......\n",
    "    .GGHH.\n",
    "    ......\n",
    "    .IIJJ.\n",
    "    ......\n",
    "    DDEEFF\n",
    "'''\n",
    "\n",
    "height_ratios = [1,.05,1,.05,1,.05,1]\n",
    "\n",
    "f = plt.figure(figsize=(10,10), dpi=300)\n",
    "axs = f.subplot_mosaic(\n",
    "    layout_, \n",
    "    gridspec_kw={\n",
    "        'height_ratios':height_ratios,\n",
    "        'hspace': 0.35\n",
    "    }\n",
    ")\n",
    "\n",
    "counter = 0\n",
    "df = df.sort_values(by='match_id').reset_index(drop=True)\n",
    "matches = list(df['match_id'].unique())\n",
    "for k, ax in axs.items():\n",
    "    match_id = matches[counter]\n",
    "    plot_axes_xg_by_match(ax, f, match_id=match_id, data=df)\n",
    "    counter += 1\n",
    "\n",
    "\n",
    "fig_text(\n",
    "    x = 0.12, y = .98, \n",
    "    s = \"<The> First Round of Competition 22/23\",\n",
    "    # highlight_textprops=[{\"style\":\"italic\"}],\n",
    "    va = \"bottom\", ha = \"left\",\n",
    "    fontsize = 18, color = \"black\", weight = \"bold\"\n",
    ")\n",
    "fig_text(\n",
    "\tx = 0.12, y = .93, \n",
    "    s = \"Each circle is a shot, with the height representing the xG of the chance | <Dashed circles are goals and triangles are own goals>.\",\n",
    "    highlight_textprops=[{\"weight\": \"bold\", \"color\": \"black\"}],\n",
    "\tva = \"bottom\", ha = \"left\",\n",
    "\tfontsize = 12, color = \"#4E616C\"\n",
    ")\n",
    "\n",
    "plt.savefig(\n",
    "\t\"../figures/date_competition_2223_round1.png\",\n",
    "\tdpi = 600,\n",
    "\tfacecolor = \"#EFE9E6\",\n",
    "\tbbox_inches=\"tight\",\n",
    "    edgecolor=\"none\",\n",
    "\ttransparent = False\n",
    ")\n",
    "\n",
    "plt.savefig(\n",
    "\t\"../figures/date_competition_2223_round1.png\",\n",
    "\tdpi = 600,\n",
    "\tfacecolor = \"none\",\n",
    "\tbbox_inches=\"tight\",\n",
    "    edgecolor=\"none\",\n",
    "\ttransparent = True\n",
    ")"
   ]
  }
 ],
 "metadata": {
  "kernelspec": {
   "display_name": "Python 3.10.4 ('football')",
   "language": "python",
   "name": "python3"
  },
  "language_info": {
   "codemirror_mode": {
    "name": "ipython",
    "version": 3
   },
   "file_extension": ".py",
   "mimetype": "text/x-python",
   "name": "python",
   "nbconvert_exporter": "python",
   "pygments_lexer": "ipython3",
   "version": "3.10.4"
  },
  "orig_nbformat": 4,
  "vscode": {
   "interpreter": {
    "hash": "177bbd7203d7d81d489fe1e7bb46364ed0d45ff427523d5b16e4bdab4ad77217"
   }
  }
 },
 "nbformat": 4,
 "nbformat_minor": 2
}
