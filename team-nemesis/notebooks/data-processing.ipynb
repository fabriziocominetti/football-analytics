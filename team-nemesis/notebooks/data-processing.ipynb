{
 "cells": [
  {
   "cell_type": "markdown",
   "metadata": {},
   "source": [
    "### Data Processing"
   ]
  },
  {
   "cell_type": "code",
   "execution_count": 1,
   "metadata": {},
   "outputs": [],
   "source": [
    "import numpy as np\n",
    "import pandas as pd"
   ]
  },
  {
   "cell_type": "markdown",
   "metadata": {},
   "source": [
    "data from season 2005/06"
   ]
  },
  {
   "cell_type": "code",
   "execution_count": 2,
   "metadata": {},
   "outputs": [
    {
     "data": {
      "text/html": [
       "<div>\n",
       "<style scoped>\n",
       "    .dataframe tbody tr th:only-of-type {\n",
       "        vertical-align: middle;\n",
       "    }\n",
       "\n",
       "    .dataframe tbody tr th {\n",
       "        vertical-align: top;\n",
       "    }\n",
       "\n",
       "    .dataframe thead th {\n",
       "        text-align: right;\n",
       "    }\n",
       "</style>\n",
       "<table border=\"1\" class=\"dataframe\">\n",
       "  <thead>\n",
       "    <tr style=\"text-align: right;\">\n",
       "      <th></th>\n",
       "      <th>HomeTeam</th>\n",
       "      <th>AwayTeam</th>\n",
       "      <th>HomeGoals</th>\n",
       "      <th>AwayGoals</th>\n",
       "    </tr>\n",
       "  </thead>\n",
       "  <tbody>\n",
       "    <tr>\n",
       "      <th>0</th>\n",
       "      <td>Fiorentina</td>\n",
       "      <td>Sampdoria</td>\n",
       "      <td>2.0</td>\n",
       "      <td>1.0</td>\n",
       "    </tr>\n",
       "    <tr>\n",
       "      <th>1</th>\n",
       "      <td>Livorno</td>\n",
       "      <td>Lecce</td>\n",
       "      <td>2.0</td>\n",
       "      <td>1.0</td>\n",
       "    </tr>\n",
       "  </tbody>\n",
       "</table>\n",
       "</div>"
      ],
      "text/plain": [
       "     HomeTeam   AwayTeam  HomeGoals  AwayGoals\n",
       "0  Fiorentina  Sampdoria        2.0        1.0\n",
       "1     Livorno      Lecce        2.0        1.0"
      ]
     },
     "execution_count": 2,
     "metadata": {},
     "output_type": "execute_result"
    }
   ],
   "source": [
    "serieA = pd.read_csv('../data/serieAData.csv')\n",
    "serieA.head(2)"
   ]
  },
  {
   "cell_type": "code",
   "execution_count": 3,
   "metadata": {},
   "outputs": [
    {
     "data": {
      "text/plain": [
       "41"
      ]
     },
     "execution_count": 3,
     "metadata": {},
     "output_type": "execute_result"
    }
   ],
   "source": [
    "# count distinct values\n",
    "serieA['HomeTeam'].nunique()"
   ]
  },
  {
   "cell_type": "markdown",
   "metadata": {},
   "source": [
    "41 different teams in the dataframe"
   ]
  },
  {
   "cell_type": "code",
   "execution_count": 4,
   "metadata": {},
   "outputs": [
    {
     "data": {
      "text/plain": [
       "6465"
      ]
     },
     "execution_count": 4,
     "metadata": {},
     "output_type": "execute_result"
    }
   ],
   "source": [
    "len(serieA)"
   ]
  },
  {
   "cell_type": "code",
   "execution_count": 5,
   "metadata": {},
   "outputs": [
    {
     "data": {
      "text/plain": [
       "17.013157894736842"
      ]
     },
     "execution_count": 5,
     "metadata": {},
     "output_type": "execute_result"
    }
   ],
   "source": [
    "games_per_season = 38\n",
    "number_of_seasons = 17\n",
    "matches_per_year = 380\n",
    "len(serieA) / matches_per_year"
   ]
  },
  {
   "cell_type": "markdown",
   "metadata": {},
   "source": [
    "aggregate the data"
   ]
  },
  {
   "cell_type": "code",
   "execution_count": 8,
   "metadata": {},
   "outputs": [],
   "source": [
    "# aggregate and get results\n",
    "\n",
    "df_agg = pd.DataFrame(columns=['team','opponent','sum_points','num_games'], dtype=float)\n",
    "df_results = pd.DataFrame(columns=['team','opponent','result','num_occurences'], dtype=float)\n",
    "\n",
    "for team in serieA['HomeTeam'].unique():\n",
    "    df_interim = pd.DataFrame(columns=['team','opponent','result','home'], dtype=float)\n",
    "\n",
    "    # get all the home games of the team\n",
    "    home = serieA[serieA['HomeTeam'] == team]\n",
    "    # for every such game, get the opponent and the result, from the perspective of the home team\n",
    "    home.reset_index(inplace=True)\n",
    "    for i in range(len(home)):\n",
    "        opponent = home['AwayTeam'][i]\n",
    "        if home['HomeGoals'][i] > home['AwayGoals'][i]: # if the home team won\n",
    "            df_interim.loc[len(df_interim)]=[team, opponent, 3, 1 ]\n",
    "        elif home['HomeGoals'][i] < home['AwayGoals'][i]: # if the home team lost\n",
    "            df_interim.loc[len(df_interim)]=[team, opponent, 0, 1 ]\n",
    "        else: # if it was a draw\n",
    "            df_interim.loc[len(df_interim)]=[team, opponent, 1, 1 ]\n",
    "    \n",
    "    # get all the matches that this team was away\n",
    "    away = serieA[serieA['AwayTeam']==team]\n",
    "    away.reset_index(inplace=True)\n",
    "    # for every such game, get the opponent and the result, from the perspective of the away team\n",
    "    for i in range(len(away)):\n",
    "        opponent = away['HomeTeam'][i]\n",
    "        if away['HomeGoals'][i] > away['AwayGoals'][i]: # if the away team lost\n",
    "            df_interim.loc[len(df_interim)]=[team, opponent, 0, 0 ]\n",
    "        elif away['HomeGoals'][i] < away['AwayGoals'][i]: # if the away team won\n",
    "            df_interim.loc[len(df_interim)]=[team, opponent, 3, 0 ]\n",
    "        else: # if it was a draw\n",
    "            df_interim.loc[len(df_interim)]=[team, opponent, 1, 0 ]\n",
    "            \n",
    "    # calculate the result summary and store that\n",
    "    t = pd.DataFrame({'sum_points': df_interim.groupby(['team', 'opponent'])['result'].sum(),\n",
    "                      'num_games' : df_interim.groupby(['team', 'opponent'])['result'].size()})\n",
    "    t['pct_points'] = t['sum_points']/(t['num_games']*3)*100\n",
    "    t.reset_index(inplace=True)\n",
    "    df_agg = pd.concat([df_agg, t])\n",
    "    \n",
    "    # for more accuracy in reporting, calculate also the exact number of games for each result\n",
    "    \n",
    "    t = pd.DataFrame({'num_occurences' : df_interim.groupby(['team', 'opponent','result']).size()})\n",
    "    t.reset_index(inplace=True)\n",
    "    df_results = pd.concat([df_results, t])"
   ]
  },
  {
   "cell_type": "code",
   "execution_count": 9,
   "metadata": {},
   "outputs": [],
   "source": [
    "df_results.to_csv('../data/results_per_team_and_opponent.csv', index=False)\n",
    "df_agg.to_csv('../data/aggregated_result_per_team_and_opponent.csv', index=False)"
   ]
  },
  {
   "cell_type": "code",
   "execution_count": 10,
   "metadata": {},
   "outputs": [
    {
     "data": {
      "text/html": [
       "<div>\n",
       "<style scoped>\n",
       "    .dataframe tbody tr th:only-of-type {\n",
       "        vertical-align: middle;\n",
       "    }\n",
       "\n",
       "    .dataframe tbody tr th {\n",
       "        vertical-align: top;\n",
       "    }\n",
       "\n",
       "    .dataframe thead th {\n",
       "        text-align: right;\n",
       "    }\n",
       "</style>\n",
       "<table border=\"1\" class=\"dataframe\">\n",
       "  <thead>\n",
       "    <tr style=\"text-align: right;\">\n",
       "      <th></th>\n",
       "      <th>team</th>\n",
       "      <th>opponent</th>\n",
       "      <th>result</th>\n",
       "      <th>num_occurences</th>\n",
       "    </tr>\n",
       "  </thead>\n",
       "  <tbody>\n",
       "    <tr>\n",
       "      <th>0</th>\n",
       "      <td>Fiorentina</td>\n",
       "      <td>Ascoli</td>\n",
       "      <td>1.0</td>\n",
       "      <td>1.0</td>\n",
       "    </tr>\n",
       "    <tr>\n",
       "      <th>1</th>\n",
       "      <td>Fiorentina</td>\n",
       "      <td>Ascoli</td>\n",
       "      <td>3.0</td>\n",
       "      <td>3.0</td>\n",
       "    </tr>\n",
       "    <tr>\n",
       "      <th>2</th>\n",
       "      <td>Fiorentina</td>\n",
       "      <td>Atalanta</td>\n",
       "      <td>0.0</td>\n",
       "      <td>6.0</td>\n",
       "    </tr>\n",
       "    <tr>\n",
       "      <th>3</th>\n",
       "      <td>Fiorentina</td>\n",
       "      <td>Atalanta</td>\n",
       "      <td>1.0</td>\n",
       "      <td>9.0</td>\n",
       "    </tr>\n",
       "    <tr>\n",
       "      <th>4</th>\n",
       "      <td>Fiorentina</td>\n",
       "      <td>Atalanta</td>\n",
       "      <td>3.0</td>\n",
       "      <td>15.0</td>\n",
       "    </tr>\n",
       "  </tbody>\n",
       "</table>\n",
       "</div>"
      ],
      "text/plain": [
       "         team  opponent  result  num_occurences\n",
       "0  Fiorentina    Ascoli     1.0             1.0\n",
       "1  Fiorentina    Ascoli     3.0             3.0\n",
       "2  Fiorentina  Atalanta     0.0             6.0\n",
       "3  Fiorentina  Atalanta     1.0             9.0\n",
       "4  Fiorentina  Atalanta     3.0            15.0"
      ]
     },
     "execution_count": 10,
     "metadata": {},
     "output_type": "execute_result"
    }
   ],
   "source": [
    "df_results.head()"
   ]
  },
  {
   "cell_type": "code",
   "execution_count": 11,
   "metadata": {},
   "outputs": [
    {
     "data": {
      "text/html": [
       "<div>\n",
       "<style scoped>\n",
       "    .dataframe tbody tr th:only-of-type {\n",
       "        vertical-align: middle;\n",
       "    }\n",
       "\n",
       "    .dataframe tbody tr th {\n",
       "        vertical-align: top;\n",
       "    }\n",
       "\n",
       "    .dataframe thead th {\n",
       "        text-align: right;\n",
       "    }\n",
       "</style>\n",
       "<table border=\"1\" class=\"dataframe\">\n",
       "  <thead>\n",
       "    <tr style=\"text-align: right;\">\n",
       "      <th></th>\n",
       "      <th>team</th>\n",
       "      <th>opponent</th>\n",
       "      <th>sum_points</th>\n",
       "      <th>num_games</th>\n",
       "      <th>pct_points</th>\n",
       "    </tr>\n",
       "  </thead>\n",
       "  <tbody>\n",
       "    <tr>\n",
       "      <th>0</th>\n",
       "      <td>Fiorentina</td>\n",
       "      <td>Ascoli</td>\n",
       "      <td>10.0</td>\n",
       "      <td>4.0</td>\n",
       "      <td>83.333333</td>\n",
       "    </tr>\n",
       "    <tr>\n",
       "      <th>1</th>\n",
       "      <td>Fiorentina</td>\n",
       "      <td>Atalanta</td>\n",
       "      <td>54.0</td>\n",
       "      <td>30.0</td>\n",
       "      <td>60.000000</td>\n",
       "    </tr>\n",
       "    <tr>\n",
       "      <th>2</th>\n",
       "      <td>Fiorentina</td>\n",
       "      <td>Bari</td>\n",
       "      <td>7.0</td>\n",
       "      <td>4.0</td>\n",
       "      <td>58.333333</td>\n",
       "    </tr>\n",
       "    <tr>\n",
       "      <th>3</th>\n",
       "      <td>Fiorentina</td>\n",
       "      <td>Benevento</td>\n",
       "      <td>9.0</td>\n",
       "      <td>4.0</td>\n",
       "      <td>75.000000</td>\n",
       "    </tr>\n",
       "    <tr>\n",
       "      <th>4</th>\n",
       "      <td>Fiorentina</td>\n",
       "      <td>Bologna</td>\n",
       "      <td>51.0</td>\n",
       "      <td>26.0</td>\n",
       "      <td>65.384615</td>\n",
       "    </tr>\n",
       "  </tbody>\n",
       "</table>\n",
       "</div>"
      ],
      "text/plain": [
       "         team   opponent  sum_points  num_games  pct_points\n",
       "0  Fiorentina     Ascoli        10.0        4.0   83.333333\n",
       "1  Fiorentina   Atalanta        54.0       30.0   60.000000\n",
       "2  Fiorentina       Bari         7.0        4.0   58.333333\n",
       "3  Fiorentina  Benevento         9.0        4.0   75.000000\n",
       "4  Fiorentina    Bologna        51.0       26.0   65.384615"
      ]
     },
     "execution_count": 11,
     "metadata": {},
     "output_type": "execute_result"
    }
   ],
   "source": [
    "df_agg.head()"
   ]
  },
  {
   "cell_type": "markdown",
   "metadata": {},
   "source": [
    "get the total number of games that each team played across all these years"
   ]
  },
  {
   "cell_type": "markdown",
   "metadata": {},
   "source": [
    "extract the teams that played at least 300 games across all these years"
   ]
  },
  {
   "cell_type": "code",
   "execution_count": 12,
   "metadata": {},
   "outputs": [
    {
     "name": "stdout",
     "output_type": "stream",
     "text": [
      "41\n",
      "20\n"
     ]
    },
    {
     "data": {
      "text/html": [
       "<div>\n",
       "<style scoped>\n",
       "    .dataframe tbody tr th:only-of-type {\n",
       "        vertical-align: middle;\n",
       "    }\n",
       "\n",
       "    .dataframe tbody tr th {\n",
       "        vertical-align: top;\n",
       "    }\n",
       "\n",
       "    .dataframe thead th {\n",
       "        text-align: right;\n",
       "    }\n",
       "</style>\n",
       "<table border=\"1\" class=\"dataframe\">\n",
       "  <thead>\n",
       "    <tr style=\"text-align: right;\">\n",
       "      <th></th>\n",
       "      <th>team</th>\n",
       "      <th>total_num_games</th>\n",
       "      <th>HomeTeam</th>\n",
       "    </tr>\n",
       "  </thead>\n",
       "  <tbody>\n",
       "    <tr>\n",
       "      <th>0</th>\n",
       "      <td>Atalanta</td>\n",
       "      <td>570.0</td>\n",
       "      <td>Atalanta</td>\n",
       "    </tr>\n",
       "    <tr>\n",
       "      <th>285</th>\n",
       "      <td>Bologna</td>\n",
       "      <td>494.0</td>\n",
       "      <td>Bologna</td>\n",
       "    </tr>\n",
       "    <tr>\n",
       "      <th>532</th>\n",
       "      <td>Cagliari</td>\n",
       "      <td>608.0</td>\n",
       "      <td>Cagliari</td>\n",
       "    </tr>\n",
       "    <tr>\n",
       "      <th>836</th>\n",
       "      <td>Catania</td>\n",
       "      <td>304.0</td>\n",
       "      <td>Catania</td>\n",
       "    </tr>\n",
       "    <tr>\n",
       "      <th>988</th>\n",
       "      <td>Chievo</td>\n",
       "      <td>494.0</td>\n",
       "      <td>Chievo</td>\n",
       "    </tr>\n",
       "    <tr>\n",
       "      <th>1235</th>\n",
       "      <td>Empoli</td>\n",
       "      <td>304.0</td>\n",
       "      <td>Empoli</td>\n",
       "    </tr>\n",
       "    <tr>\n",
       "      <th>1387</th>\n",
       "      <td>Fiorentina</td>\n",
       "      <td>646.0</td>\n",
       "      <td>Fiorentina</td>\n",
       "    </tr>\n",
       "    <tr>\n",
       "      <th>1710</th>\n",
       "      <td>Genoa</td>\n",
       "      <td>570.0</td>\n",
       "      <td>Genoa</td>\n",
       "    </tr>\n",
       "    <tr>\n",
       "      <th>1995</th>\n",
       "      <td>Inter</td>\n",
       "      <td>646.0</td>\n",
       "      <td>Inter</td>\n",
       "    </tr>\n",
       "    <tr>\n",
       "      <th>2318</th>\n",
       "      <td>Juventus</td>\n",
       "      <td>608.0</td>\n",
       "      <td>Juventus</td>\n",
       "    </tr>\n",
       "    <tr>\n",
       "      <th>2622</th>\n",
       "      <td>Lazio</td>\n",
       "      <td>646.0</td>\n",
       "      <td>Lazio</td>\n",
       "    </tr>\n",
       "    <tr>\n",
       "      <th>2945</th>\n",
       "      <td>Milan</td>\n",
       "      <td>646.0</td>\n",
       "      <td>Milan</td>\n",
       "    </tr>\n",
       "    <tr>\n",
       "      <th>3268</th>\n",
       "      <td>Napoli</td>\n",
       "      <td>570.0</td>\n",
       "      <td>Napoli</td>\n",
       "    </tr>\n",
       "    <tr>\n",
       "      <th>3553</th>\n",
       "      <td>Palermo</td>\n",
       "      <td>418.0</td>\n",
       "      <td>Palermo</td>\n",
       "    </tr>\n",
       "    <tr>\n",
       "      <th>3762</th>\n",
       "      <td>Parma</td>\n",
       "      <td>456.0</td>\n",
       "      <td>Parma</td>\n",
       "    </tr>\n",
       "    <tr>\n",
       "      <th>3990</th>\n",
       "      <td>Roma</td>\n",
       "      <td>646.0</td>\n",
       "      <td>Roma</td>\n",
       "    </tr>\n",
       "    <tr>\n",
       "      <th>4313</th>\n",
       "      <td>Sampdoria</td>\n",
       "      <td>608.0</td>\n",
       "      <td>Sampdoria</td>\n",
       "    </tr>\n",
       "    <tr>\n",
       "      <th>4617</th>\n",
       "      <td>Sassuolo</td>\n",
       "      <td>342.0</td>\n",
       "      <td>Sassuolo</td>\n",
       "    </tr>\n",
       "    <tr>\n",
       "      <th>4788</th>\n",
       "      <td>Torino</td>\n",
       "      <td>494.0</td>\n",
       "      <td>Torino</td>\n",
       "    </tr>\n",
       "    <tr>\n",
       "      <th>5035</th>\n",
       "      <td>Udinese</td>\n",
       "      <td>646.0</td>\n",
       "      <td>Udinese</td>\n",
       "    </tr>\n",
       "  </tbody>\n",
       "</table>\n",
       "</div>"
      ],
      "text/plain": [
       "            team  total_num_games    HomeTeam\n",
       "0       Atalanta            570.0    Atalanta\n",
       "285      Bologna            494.0     Bologna\n",
       "532     Cagliari            608.0    Cagliari\n",
       "836      Catania            304.0     Catania\n",
       "988       Chievo            494.0      Chievo\n",
       "1235      Empoli            304.0      Empoli\n",
       "1387  Fiorentina            646.0  Fiorentina\n",
       "1710       Genoa            570.0       Genoa\n",
       "1995       Inter            646.0       Inter\n",
       "2318    Juventus            608.0    Juventus\n",
       "2622       Lazio            646.0       Lazio\n",
       "2945       Milan            646.0       Milan\n",
       "3268      Napoli            570.0      Napoli\n",
       "3553     Palermo            418.0     Palermo\n",
       "3762       Parma            456.0       Parma\n",
       "3990        Roma            646.0        Roma\n",
       "4313   Sampdoria            608.0   Sampdoria\n",
       "4617    Sassuolo            342.0    Sassuolo\n",
       "4788      Torino            494.0      Torino\n",
       "5035     Udinese            646.0     Udinese"
      ]
     },
     "execution_count": 12,
     "metadata": {},
     "output_type": "execute_result"
    }
   ],
   "source": [
    "tot_number_of_games = pd.DataFrame({'total_num_games' : df_agg.groupby('team')['num_games'].sum()})\n",
    "tot_number_of_games.reset_index(inplace = True)\n",
    "\n",
    "print(len(tot_number_of_games['team']))\n",
    "print(len(tot_number_of_games[tot_number_of_games['total_num_games'] > 300]))\n",
    "pd.merge(tot_number_of_games[tot_number_of_games['total_num_games'] > 300], serieA[['HomeTeam']],\n",
    "                            left_on='team', right_on='HomeTeam', how='inner').drop_duplicates().sort_values(by=['team'])"
   ]
  },
  {
   "cell_type": "code",
   "execution_count": 13,
   "metadata": {},
   "outputs": [
    {
     "name": "stdout",
     "output_type": "stream",
     "text": [
      "646\n"
     ]
    }
   ],
   "source": [
    "print(games_per_season * number_of_seasons)"
   ]
  },
  {
   "cell_type": "code",
   "execution_count": 14,
   "metadata": {},
   "outputs": [],
   "source": [
    "df_aggregated = pd.merge(tot_number_of_games.drop_duplicates(), df_agg, on ='team', how='inner')"
   ]
  },
  {
   "cell_type": "code",
   "execution_count": 15,
   "metadata": {},
   "outputs": [
    {
     "data": {
      "text/html": [
       "<div>\n",
       "<style scoped>\n",
       "    .dataframe tbody tr th:only-of-type {\n",
       "        vertical-align: middle;\n",
       "    }\n",
       "\n",
       "    .dataframe tbody tr th {\n",
       "        vertical-align: top;\n",
       "    }\n",
       "\n",
       "    .dataframe thead th {\n",
       "        text-align: right;\n",
       "    }\n",
       "</style>\n",
       "<table border=\"1\" class=\"dataframe\">\n",
       "  <thead>\n",
       "    <tr style=\"text-align: right;\">\n",
       "      <th></th>\n",
       "      <th>team</th>\n",
       "      <th>total_num_games</th>\n",
       "      <th>opponent</th>\n",
       "      <th>sum_points</th>\n",
       "      <th>num_games</th>\n",
       "      <th>pct_points</th>\n",
       "    </tr>\n",
       "  </thead>\n",
       "  <tbody>\n",
       "    <tr>\n",
       "      <th>0</th>\n",
       "      <td>Ascoli</td>\n",
       "      <td>76.0</td>\n",
       "      <td>Atalanta</td>\n",
       "      <td>0.0</td>\n",
       "      <td>2.0</td>\n",
       "      <td>0.000000</td>\n",
       "    </tr>\n",
       "    <tr>\n",
       "      <th>1</th>\n",
       "      <td>Ascoli</td>\n",
       "      <td>76.0</td>\n",
       "      <td>Cagliari</td>\n",
       "      <td>4.0</td>\n",
       "      <td>4.0</td>\n",
       "      <td>33.333333</td>\n",
       "    </tr>\n",
       "    <tr>\n",
       "      <th>2</th>\n",
       "      <td>Ascoli</td>\n",
       "      <td>76.0</td>\n",
       "      <td>Catania</td>\n",
       "      <td>2.0</td>\n",
       "      <td>2.0</td>\n",
       "      <td>33.333333</td>\n",
       "    </tr>\n",
       "    <tr>\n",
       "      <th>3</th>\n",
       "      <td>Ascoli</td>\n",
       "      <td>76.0</td>\n",
       "      <td>Chievo</td>\n",
       "      <td>5.0</td>\n",
       "      <td>4.0</td>\n",
       "      <td>41.666667</td>\n",
       "    </tr>\n",
       "    <tr>\n",
       "      <th>4</th>\n",
       "      <td>Ascoli</td>\n",
       "      <td>76.0</td>\n",
       "      <td>Empoli</td>\n",
       "      <td>6.0</td>\n",
       "      <td>4.0</td>\n",
       "      <td>50.000000</td>\n",
       "    </tr>\n",
       "  </tbody>\n",
       "</table>\n",
       "</div>"
      ],
      "text/plain": [
       "     team  total_num_games  opponent  sum_points  num_games  pct_points\n",
       "0  Ascoli             76.0  Atalanta         0.0        2.0    0.000000\n",
       "1  Ascoli             76.0  Cagliari         4.0        4.0   33.333333\n",
       "2  Ascoli             76.0   Catania         2.0        2.0   33.333333\n",
       "3  Ascoli             76.0    Chievo         5.0        4.0   41.666667\n",
       "4  Ascoli             76.0    Empoli         6.0        4.0   50.000000"
      ]
     },
     "execution_count": 15,
     "metadata": {},
     "output_type": "execute_result"
    }
   ],
   "source": [
    "df_aggregated.head()"
   ]
  },
  {
   "cell_type": "code",
   "execution_count": 16,
   "metadata": {},
   "outputs": [],
   "source": [
    "df_aggregated.to_csv('../data/aggregated_result_per_team_and_opponent.csv')"
   ]
  }
 ],
 "metadata": {
  "kernelspec": {
   "display_name": "Python 3.10.4 ('football')",
   "language": "python",
   "name": "python3"
  },
  "language_info": {
   "codemirror_mode": {
    "name": "ipython",
    "version": 3
   },
   "file_extension": ".py",
   "mimetype": "text/x-python",
   "name": "python",
   "nbconvert_exporter": "python",
   "pygments_lexer": "ipython3",
   "version": "3.10.4"
  },
  "orig_nbformat": 4,
  "vscode": {
   "interpreter": {
    "hash": "177bbd7203d7d81d489fe1e7bb46364ed0d45ff427523d5b16e4bdab4ad77217"
   }
  }
 },
 "nbformat": 4,
 "nbformat_minor": 2
}
