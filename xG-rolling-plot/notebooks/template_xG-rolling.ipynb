{
 "cells": [
  {
   "cell_type": "markdown",
   "metadata": {},
   "source": [
    "### xG Rolling Plots - TeamName"
   ]
  },
  {
   "cell_type": "markdown",
   "metadata": {},
   "source": [
    "Import libraries"
   ]
  },
  {
   "cell_type": "code",
   "execution_count": null,
   "metadata": {},
   "outputs": [],
   "source": [
    "import pandas as pd\n",
    "import matplotlib.pyplot as plt\n",
    "import matplotlib.ticker as ticker\n",
    "from highlight_text import fig_text"
   ]
  },
  {
   "cell_type": "markdown",
   "metadata": {},
   "source": [
    "Data"
   ]
  },
  {
   "cell_type": "code",
   "execution_count": null,
   "metadata": {},
   "outputs": [],
   "source": [
    "competition_2021 = pd.read_csv(\"../data/raw/Fbref-competition-2021.csv\")\n",
    "competition_2122 = pd.read_csv(\"../data/raw/Fbref-competition-2021.csv\")"
   ]
  },
  {
   "cell_type": "code",
   "execution_count": null,
   "metadata": {},
   "outputs": [],
   "source": [
    "competition_2021 = competition_2021[['Data', 'Casa', 'xG', 'xG.1', 'Ospiti']]\n",
    "competition_2122 = competition_2122[['Data', 'Casa', 'xG', 'xG.1', 'Ospiti']]"
   ]
  },
  {
   "cell_type": "code",
   "execution_count": null,
   "metadata": {},
   "outputs": [],
   "source": [
    "# column rename\n",
    "competition_2021.rename(columns={\"Data\": \"Date\", \"Casa\": \"HomeTeam\", \"xG\": \"xG HomeTeam\", \"xG.1\": \"xG AwayTeam\", \"Ospiti\": \"AwayTeam\"}, inplace=True)\n",
    "competition_2122.rename(columns={\"Data\": \"Date\", \"Casa\": \"HomeTeam\", \"xG\": \"xG HomeTeam\", \"xG.1\": \"xG AwayTeam\", \"Ospiti\": \"AwayTeam\"}, inplace=True)"
   ]
  },
  {
   "cell_type": "code",
   "execution_count": null,
   "metadata": {},
   "outputs": [],
   "source": [
    "# column date as timestamp\n",
    "competition_2021['Date'] = pd.to_datetime(competition_2021['Date'])\n",
    "competition_2122['Date'] = pd.to_datetime(competition_2122['Date'])"
   ]
  },
  {
   "cell_type": "code",
   "execution_count": null,
   "metadata": {},
   "outputs": [],
   "source": [
    "team_2021 = competition_2021.loc[(competition_2021.HomeTeam == 'TeamName') | (competition_2021.AwayTeam == 'TeamName')]\n",
    "team_2122 = competition_2122.loc[(competition_2122.HomeTeam == 'TeamName') | (competition_2122.AwayTeam == 'TeamName')]"
   ]
  },
  {
   "cell_type": "code",
   "execution_count": null,
   "metadata": {},
   "outputs": [],
   "source": [
    "team_2021.to_csv(\"../data/Fbref-team_2021.csv\")\n",
    "team_2122.to_csv(\"../data/Fbref-team_2122.csv\")"
   ]
  },
  {
   "cell_type": "markdown",
   "metadata": {},
   "source": [
    "#### Data Manipulation"
   ]
  },
  {
   "cell_type": "markdown",
   "metadata": {},
   "source": [
    "append the two dataframe"
   ]
  },
  {
   "cell_type": "code",
   "execution_count": null,
   "metadata": {},
   "outputs": [],
   "source": [
    "teamname = pd.concat([team_2021, team_2122])\n",
    "len(teamname)"
   ]
  },
  {
   "cell_type": "code",
   "execution_count": null,
   "metadata": {},
   "outputs": [],
   "source": [
    "teamname.to_csv(\"../data/teamname-xG.csv\")"
   ]
  },
  {
   "cell_type": "markdown",
   "metadata": {},
   "source": [
    "we need to create a series for both expected goals created and conceded regardless if the team played at home or away\n",
    "\n",
    "create a new DataFrame with six columns: team, opponent, variable, value, venue and date\n",
    "\n",
    "we'll split our df into two and then concatenate them back together\n",
    "\n",
    "by adding the venue column we could even deepen our analysis to only consider home or away performance"
   ]
  },
  {
   "cell_type": "code",
   "execution_count": null,
   "metadata": {},
   "outputs": [],
   "source": [
    "teamname.columns"
   ]
  },
  {
   "cell_type": "code",
   "execution_count": null,
   "metadata": {},
   "outputs": [],
   "source": [
    "home_df = teamname.copy()"
   ]
  },
  {
   "cell_type": "code",
   "execution_count": null,
   "metadata": {},
   "outputs": [],
   "source": [
    "home_df = home_df.melt(id_vars=['Date', 'HomeTeam', 'AwayTeam'])\n",
    "home_df['Venue'] = \"H\""
   ]
  },
  {
   "cell_type": "code",
   "execution_count": null,
   "metadata": {},
   "outputs": [],
   "source": [
    "home_df.rename(columns= {'HomeTeam': 'Team', 'AwayTeam': 'Opponent'}, inplace=True)\n",
    "home_df.replace({\"variable\":{'xG HomeTeam': 'xG_for', 'xG AwayTeam': 'xG_ag'}}, inplace=True)"
   ]
  },
  {
   "cell_type": "markdown",
   "metadata": {},
   "source": [
    "same for away data"
   ]
  },
  {
   "cell_type": "code",
   "execution_count": null,
   "metadata": {},
   "outputs": [],
   "source": [
    "away_df = teamname.copy()"
   ]
  },
  {
   "cell_type": "code",
   "execution_count": null,
   "metadata": {},
   "outputs": [],
   "source": [
    "away_df = away_df.melt(id_vars=['Date', 'AwayTeam', 'HomeTeam'])\n",
    "away_df['Venue'] = \"A\""
   ]
  },
  {
   "cell_type": "code",
   "execution_count": null,
   "metadata": {},
   "outputs": [],
   "source": [
    "away_df.rename(columns= {'AwayTeam': 'Team', 'HomeTeam': 'Opponent'}, inplace=True)\n",
    "away_df.replace({\"variable\":{'xG AwayTeam': 'xG_for', 'xG HomeTeam': 'xG_ag'}}, inplace=True)"
   ]
  },
  {
   "cell_type": "markdown",
   "metadata": {},
   "source": [
    "join it back together"
   ]
  },
  {
   "cell_type": "code",
   "execution_count": null,
   "metadata": {},
   "outputs": [],
   "source": [
    "df = pd.concat([home_df, away_df]).reset_index(drop = True)"
   ]
  },
  {
   "cell_type": "code",
   "execution_count": null,
   "metadata": {},
   "outputs": [],
   "source": [
    "df.head()"
   ]
  },
  {
   "cell_type": "markdown",
   "metadata": {},
   "source": [
    "filter the records related to AC Milan and compute the rolling average for the expected goals data"
   ]
  },
  {
   "cell_type": "code",
   "execution_count": null,
   "metadata": {},
   "outputs": [],
   "source": [
    "# filter team data\n",
    "df = df[df['Team'] == \"TeamName\"].reset_index(drop=True)\n",
    "df = df.sort_values(by='Date')"
   ]
  },
  {
   "cell_type": "code",
   "execution_count": null,
   "metadata": {},
   "outputs": [],
   "source": [
    "# xG conceded and xG created\n",
    "Y_for = df[df['variable'] == \"xG_for\"].reset_index(drop=True)\n",
    "Y_ag = df[df['variable'] == \"xG_ag\"].reset_index(drop=True)\n",
    "X = pd.Series(range(len(Y_for)))"
   ]
  },
  {
   "cell_type": "code",
   "execution_count": null,
   "metadata": {},
   "outputs": [],
   "source": [
    "# compute the rolling average (min_periods is used for the partial average)\n",
    "# here we're using a 10 game rolling average\n",
    "Y_for = Y_for.rolling(window=10, min_periods=0).mean()\n",
    "Y_ag = Y_ag.rolling(window=10, min_periods=0).mean()"
   ]
  },
  {
   "cell_type": "markdown",
   "metadata": {},
   "source": [
    "#### Data Visualization"
   ]
  },
  {
   "cell_type": "code",
   "execution_count": null,
   "metadata": {},
   "outputs": [],
   "source": [
    "from PIL import Image\n",
    "import urllib"
   ]
  },
  {
   "cell_type": "code",
   "execution_count": null,
   "metadata": {},
   "outputs": [],
   "source": [
    "fig = plt.figure(figsize=(4.5, 2.5), dpi=200, facecolor=\"#EFE9E6\")\n",
    "ax = plt.subplot(111, facecolor=\"#EFE9E6\")\n",
    "\n",
    "# remove top and right spines and change the color\n",
    "ax.spines[['top', 'right']].set_visible(False)\n",
    "ax.spines[['left', 'bottom']].set_color(\"grey\")\n",
    "\n",
    "# set the grid\n",
    "ax.grid(\n",
    "    visible = True, \n",
    "    lw = 0.75,\n",
    "    ls = \":\",\n",
    "    color = \"lightgrey\"\n",
    ")\n",
    "\n",
    "line_1 = ax.plot(X, Y_for, color=\"#??????\", zorder=4)\n",
    "line_2 = ax.plot(X, Y_ag, color=\"#??????\", zorder=4)\n",
    "\n",
    "ax.set_ylim(0)\n",
    "# add a line to mark the division between seasons\n",
    "ax.plot(\n",
    "    [38,38], # 38 games per season\n",
    "    [ax.get_ylim()[0], ax.get_ylim()[1]],\n",
    "    ls = \":\",\n",
    "    lw = 1.25,\n",
    "    color = \"grey\",\n",
    "    zorder = 2\n",
    ")\n",
    "\n",
    "# annotation with data coordinates and offset points\n",
    "ax.annotate(\n",
    "    xy = (38, .55),\n",
    "    xytext = (20, 10),\n",
    "    textcoords = 'offset points',\n",
    "    text = 'Change in CompetitionName season',\n",
    "    size = 6,\n",
    "    color = \"grey\",\n",
    "    arrowprops = dict(\n",
    "        arrowstyle=\"->\", shrinkA=0, shrinkB=5, color=\"grey\", linewidth=0.75,\n",
    "        connectionstyle=\"angle3,angleA=50,angleB=-30\"\n",
    "    ) # arrow to connect annotation\n",
    ")\n",
    "\n",
    "# fill between\n",
    "ax.fill_between(\n",
    "    X,\n",
    "    Y_ag['value'],\n",
    "    Y_for['value'],\n",
    "    where = Y_for['value'] > Y_ag['value'],\n",
    "    interpolate = True,\n",
    "    alpha = 0.85,\n",
    "    zorder = 3,\n",
    "    color = line_1[0].get_color()\n",
    ")\n",
    "\n",
    "ax.fill_between(\n",
    "    X,\n",
    "    Y_ag['value'],\n",
    "    Y_for['value'],\n",
    "    where = Y_ag['value'] > Y_for['value'],\n",
    "    interpolate = True,\n",
    "    alpha = 0.85,\n",
    "    color = line_2[0].get_color()\n",
    ")\n",
    "\n",
    "# customize the ticks to match spinecolor and adjust label size\n",
    "ax.tick_params(\n",
    "    color = \"grey\",\n",
    "    length = 5,\n",
    "    which = \"major\",\n",
    "    labelsize = 6,\n",
    "    labelcolor = \"grey\",\n",
    "    zorder = 3\n",
    ")\n",
    "\n",
    "# set x-axis major tick positions to only 19 game multiples\n",
    "ax.xaxis.set_major_locator(ticker.MultipleLocator(19))\n",
    "# set y-axis major tick positions to only 0.5xG multiples\n",
    "ax.yaxis.set_major_locator(ticker.MultipleLocator(0.5))\n",
    "\n",
    "# title and subtitle for the legend\n",
    "fig_text(\n",
    "    x = 0.12, y = 1.1,\n",
    "    s = \"TeamName\",\n",
    "    color = \"black\",\n",
    "    weight = \"bold\",\n",
    "    size = 10,\n",
    "    family = \"DM Sans\",\n",
    "    annotationbbox_kw={\"xycoords\": \"figure fraction\"}\n",
    ")\n",
    "\n",
    "fig_text(\n",
    "    x = 0.12, y = 1.02,\n",
    "    s = \"Expected goals <created> and <conceded> | 10-match rolling average \\nCompetitionName seasons 20/21 and 21/22\",\n",
    "    highlight_textprops=[\n",
    "        {\"color\": line_1[0].get_color(), \"weight\": \"bold\"},\n",
    "        {\"color\": line_2[0].get_color(), \"weight\": \"bold\"}\n",
    "    ],\n",
    "    color = \"black\",\n",
    "    size = 6,\n",
    "    annotationbbox_kw={\"xycoords\": \"figure fraction\"}\n",
    ")\n",
    "\n",
    "fotmob_url = \"https://images.fotmob.com/image_resources/logo/teamlogo/\"\n",
    "\n",
    "logo_ax = fig.add_axes([0.75, .99, 0.13, 0.13], zorder=1)\n",
    "club_icon = Image.open(urllib.request.urlopen(f\"{fotmob_url}8564.png\"))\n",
    "logo_ax.imshow(club_icon)\n",
    "logo_ax.axis(\"off\")"
   ]
  },
  {
   "cell_type": "markdown",
   "metadata": {},
   "source": [
    "save fig"
   ]
  },
  {
   "cell_type": "code",
   "execution_count": null,
   "metadata": {},
   "outputs": [],
   "source": [
    "fig.savefig('../figures/TeamName-xG-rolling-plot.png', bbox_inches='tight')"
   ]
  },
  {
   "cell_type": "markdown",
   "metadata": {},
   "source": [
    "team color palette"
   ]
  },
  {
   "cell_type": "markdown",
   "metadata": {},
   "source": [
    "#??????\n",
    "#??????"
   ]
  }
 ],
 "metadata": {
  "kernelspec": {
   "display_name": "Python 3.10.4 ('football')",
   "language": "python",
   "name": "python3"
  },
  "language_info": {
   "codemirror_mode": {
    "name": "ipython",
    "version": 3
   },
   "file_extension": ".py",
   "mimetype": "text/x-python",
   "name": "python",
   "nbconvert_exporter": "python",
   "pygments_lexer": "ipython3",
   "version": "3.10.4"
  },
  "orig_nbformat": 4,
  "vscode": {
   "interpreter": {
    "hash": "177bbd7203d7d81d489fe1e7bb46364ed0d45ff427523d5b16e4bdab4ad77217"
   }
  }
 },
 "nbformat": 4,
 "nbformat_minor": 2
}
