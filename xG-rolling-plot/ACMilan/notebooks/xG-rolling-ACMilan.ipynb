{
 "cells": [
  {
   "cell_type": "markdown",
   "metadata": {},
   "source": [
    "## **xG Rolling Plots** - **_AC Milan_**"
   ]
  },
  {
   "cell_type": "code",
   "execution_count": 55,
   "metadata": {},
   "outputs": [],
   "source": [
    "#imports\n",
    "import pandas as pd\n",
    "import numpy as np\n",
    "import matplotlib.pyplot as plt\n",
    "import matplotlib.ticker as ticker\n",
    "import seaborn as sns\n",
    "from highlight_text import fig_text"
   ]
  },
  {
   "cell_type": "markdown",
   "metadata": {},
   "source": [
    "##### **Data Preparation**"
   ]
  },
  {
   "cell_type": "code",
   "execution_count": 56,
   "metadata": {},
   "outputs": [
    {
     "data": {
      "text/html": [
       "<div>\n",
       "<style scoped>\n",
       "    .dataframe tbody tr th:only-of-type {\n",
       "        vertical-align: middle;\n",
       "    }\n",
       "\n",
       "    .dataframe tbody tr th {\n",
       "        vertical-align: top;\n",
       "    }\n",
       "\n",
       "    .dataframe thead th {\n",
       "        text-align: right;\n",
       "    }\n",
       "</style>\n",
       "<table border=\"1\" class=\"dataframe\">\n",
       "  <thead>\n",
       "    <tr style=\"text-align: right;\">\n",
       "      <th></th>\n",
       "      <th>Sett.</th>\n",
       "      <th>Giorno</th>\n",
       "      <th>Data</th>\n",
       "      <th>Ora</th>\n",
       "      <th>Casa</th>\n",
       "      <th>xG</th>\n",
       "      <th>Punteggio</th>\n",
       "      <th>xG.1</th>\n",
       "      <th>Ospiti</th>\n",
       "      <th>Spettatori</th>\n",
       "      <th>Stadio</th>\n",
       "      <th>Arbitro</th>\n",
       "      <th>Report partita</th>\n",
       "      <th>Note</th>\n",
       "    </tr>\n",
       "  </thead>\n",
       "  <tbody>\n",
       "    <tr>\n",
       "      <th>0</th>\n",
       "      <td>1.0</td>\n",
       "      <td>Sab</td>\n",
       "      <td>19-09-2020</td>\n",
       "      <td>18:00</td>\n",
       "      <td>Fiorentina</td>\n",
       "      <td>1.9</td>\n",
       "      <td>1–0</td>\n",
       "      <td>0.6</td>\n",
       "      <td>Torino</td>\n",
       "      <td>NaN</td>\n",
       "      <td>Stadio Artemio Franchi</td>\n",
       "      <td>Rosario Abisso</td>\n",
       "      <td>Report partita</td>\n",
       "      <td>NaN</td>\n",
       "    </tr>\n",
       "    <tr>\n",
       "      <th>1</th>\n",
       "      <td>1.0</td>\n",
       "      <td>Sab</td>\n",
       "      <td>19-09-2020</td>\n",
       "      <td>20:45</td>\n",
       "      <td>Hellas Verona</td>\n",
       "      <td>1.3</td>\n",
       "      <td>3–0</td>\n",
       "      <td>1.7</td>\n",
       "      <td>Roma</td>\n",
       "      <td>NaN</td>\n",
       "      <td>Stadio Marc'Antonio Bentegodi</td>\n",
       "      <td>Daniele Chiffi</td>\n",
       "      <td>Report partita</td>\n",
       "      <td>Partita assegnata a Hellas Verona</td>\n",
       "    </tr>\n",
       "    <tr>\n",
       "      <th>2</th>\n",
       "      <td>1.0</td>\n",
       "      <td>Dom</td>\n",
       "      <td>20-09-2020</td>\n",
       "      <td>12:30</td>\n",
       "      <td>Parma</td>\n",
       "      <td>0.2</td>\n",
       "      <td>0–2</td>\n",
       "      <td>1.6</td>\n",
       "      <td>Napoli</td>\n",
       "      <td>1.0</td>\n",
       "      <td>Stadio Ennio Tardini</td>\n",
       "      <td>Maurizio Mariani</td>\n",
       "      <td>Report partita</td>\n",
       "      <td>NaN</td>\n",
       "    </tr>\n",
       "    <tr>\n",
       "      <th>3</th>\n",
       "      <td>1.0</td>\n",
       "      <td>Dom</td>\n",
       "      <td>20-09-2020</td>\n",
       "      <td>15:00</td>\n",
       "      <td>Genoa</td>\n",
       "      <td>2.0</td>\n",
       "      <td>4–1</td>\n",
       "      <td>1.2</td>\n",
       "      <td>Crotone</td>\n",
       "      <td>NaN</td>\n",
       "      <td>Stadio Comunale Luigi Ferraris</td>\n",
       "      <td>Giovanni Ayroldi</td>\n",
       "      <td>Report partita</td>\n",
       "      <td>NaN</td>\n",
       "    </tr>\n",
       "    <tr>\n",
       "      <th>4</th>\n",
       "      <td>1.0</td>\n",
       "      <td>Dom</td>\n",
       "      <td>20-09-2020</td>\n",
       "      <td>18:00</td>\n",
       "      <td>Sassuolo</td>\n",
       "      <td>2.3</td>\n",
       "      <td>1–1</td>\n",
       "      <td>1.0</td>\n",
       "      <td>Cagliari</td>\n",
       "      <td>850.0</td>\n",
       "      <td>Stadio Città del Tricolore</td>\n",
       "      <td>Livio Marinelli</td>\n",
       "      <td>Report partita</td>\n",
       "      <td>NaN</td>\n",
       "    </tr>\n",
       "  </tbody>\n",
       "</table>\n",
       "</div>"
      ],
      "text/plain": [
       "   Sett. Giorno        Data    Ora           Casa   xG Punteggio  xG.1   \n",
       "0    1.0    Sab  19-09-2020  18:00     Fiorentina  1.9       1–0   0.6  \\\n",
       "1    1.0    Sab  19-09-2020  20:45  Hellas Verona  1.3       3–0   1.7   \n",
       "2    1.0    Dom  20-09-2020  12:30          Parma  0.2       0–2   1.6   \n",
       "3    1.0    Dom  20-09-2020  15:00          Genoa  2.0       4–1   1.2   \n",
       "4    1.0    Dom  20-09-2020  18:00       Sassuolo  2.3       1–1   1.0   \n",
       "\n",
       "     Ospiti  Spettatori                          Stadio           Arbitro   \n",
       "0    Torino         NaN          Stadio Artemio Franchi    Rosario Abisso  \\\n",
       "1      Roma         NaN   Stadio Marc'Antonio Bentegodi    Daniele Chiffi   \n",
       "2    Napoli         1.0            Stadio Ennio Tardini  Maurizio Mariani   \n",
       "3   Crotone         NaN  Stadio Comunale Luigi Ferraris  Giovanni Ayroldi   \n",
       "4  Cagliari       850.0      Stadio Città del Tricolore   Livio Marinelli   \n",
       "\n",
       "   Report partita                               Note  \n",
       "0  Report partita                                NaN  \n",
       "1  Report partita  Partita assegnata a Hellas Verona  \n",
       "2  Report partita                                NaN  \n",
       "3  Report partita                                NaN  \n",
       "4  Report partita                                NaN  "
      ]
     },
     "execution_count": 56,
     "metadata": {},
     "output_type": "execute_result"
    }
   ],
   "source": [
    "serieA_2021 = pd.read_csv(\"../data/raw/Fbref-SerieA-2021.csv\")\n",
    "serieA_2021.head()"
   ]
  },
  {
   "cell_type": "code",
   "execution_count": 57,
   "metadata": {},
   "outputs": [
    {
     "data": {
      "text/plain": [
       "Index(['Sett.', 'Giorno', 'Data', 'Ora', 'Casa', 'xG', 'Punteggio', 'xG.1',\n",
       "       'Ospiti', 'Spettatori', 'Stadio', 'Arbitro', 'Report partita', 'Note'],\n",
       "      dtype='object')"
      ]
     },
     "execution_count": 57,
     "metadata": {},
     "output_type": "execute_result"
    }
   ],
   "source": [
    "serieA_2021.columns"
   ]
  },
  {
   "cell_type": "code",
   "execution_count": 58,
   "metadata": {},
   "outputs": [
    {
     "data": {
      "text/html": [
       "<div>\n",
       "<style scoped>\n",
       "    .dataframe tbody tr th:only-of-type {\n",
       "        vertical-align: middle;\n",
       "    }\n",
       "\n",
       "    .dataframe tbody tr th {\n",
       "        vertical-align: top;\n",
       "    }\n",
       "\n",
       "    .dataframe thead th {\n",
       "        text-align: right;\n",
       "    }\n",
       "</style>\n",
       "<table border=\"1\" class=\"dataframe\">\n",
       "  <thead>\n",
       "    <tr style=\"text-align: right;\">\n",
       "      <th></th>\n",
       "      <th>Data</th>\n",
       "      <th>Casa</th>\n",
       "      <th>xG</th>\n",
       "      <th>xG.1</th>\n",
       "      <th>Ospiti</th>\n",
       "    </tr>\n",
       "  </thead>\n",
       "  <tbody>\n",
       "    <tr>\n",
       "      <th>0</th>\n",
       "      <td>19-09-2020</td>\n",
       "      <td>Fiorentina</td>\n",
       "      <td>1.9</td>\n",
       "      <td>0.6</td>\n",
       "      <td>Torino</td>\n",
       "    </tr>\n",
       "    <tr>\n",
       "      <th>1</th>\n",
       "      <td>19-09-2020</td>\n",
       "      <td>Hellas Verona</td>\n",
       "      <td>1.3</td>\n",
       "      <td>1.7</td>\n",
       "      <td>Roma</td>\n",
       "    </tr>\n",
       "    <tr>\n",
       "      <th>2</th>\n",
       "      <td>20-09-2020</td>\n",
       "      <td>Parma</td>\n",
       "      <td>0.2</td>\n",
       "      <td>1.6</td>\n",
       "      <td>Napoli</td>\n",
       "    </tr>\n",
       "    <tr>\n",
       "      <th>3</th>\n",
       "      <td>20-09-2020</td>\n",
       "      <td>Genoa</td>\n",
       "      <td>2.0</td>\n",
       "      <td>1.2</td>\n",
       "      <td>Crotone</td>\n",
       "    </tr>\n",
       "    <tr>\n",
       "      <th>4</th>\n",
       "      <td>20-09-2020</td>\n",
       "      <td>Sassuolo</td>\n",
       "      <td>2.3</td>\n",
       "      <td>1.0</td>\n",
       "      <td>Cagliari</td>\n",
       "    </tr>\n",
       "  </tbody>\n",
       "</table>\n",
       "</div>"
      ],
      "text/plain": [
       "         Data           Casa   xG  xG.1    Ospiti\n",
       "0  19-09-2020     Fiorentina  1.9   0.6    Torino\n",
       "1  19-09-2020  Hellas Verona  1.3   1.7      Roma\n",
       "2  20-09-2020          Parma  0.2   1.6    Napoli\n",
       "3  20-09-2020          Genoa  2.0   1.2   Crotone\n",
       "4  20-09-2020       Sassuolo  2.3   1.0  Cagliari"
      ]
     },
     "execution_count": 58,
     "metadata": {},
     "output_type": "execute_result"
    }
   ],
   "source": [
    "serieA_2021 = serieA_2021[['Data', 'Casa', 'xG', 'xG.1', 'Ospiti']]\n",
    "serieA_2021.head()"
   ]
  },
  {
   "cell_type": "code",
   "execution_count": 59,
   "metadata": {},
   "outputs": [
    {
     "data": {
      "text/plain": [
       "Data       object\n",
       "Casa       object\n",
       "xG        float64\n",
       "xG.1      float64\n",
       "Ospiti     object\n",
       "dtype: object"
      ]
     },
     "execution_count": 59,
     "metadata": {},
     "output_type": "execute_result"
    }
   ],
   "source": [
    "serieA_2021.dtypes"
   ]
  },
  {
   "cell_type": "code",
   "execution_count": 60,
   "metadata": {},
   "outputs": [
    {
     "data": {
      "text/html": [
       "<div>\n",
       "<style scoped>\n",
       "    .dataframe tbody tr th:only-of-type {\n",
       "        vertical-align: middle;\n",
       "    }\n",
       "\n",
       "    .dataframe tbody tr th {\n",
       "        vertical-align: top;\n",
       "    }\n",
       "\n",
       "    .dataframe thead th {\n",
       "        text-align: right;\n",
       "    }\n",
       "</style>\n",
       "<table border=\"1\" class=\"dataframe\">\n",
       "  <thead>\n",
       "    <tr style=\"text-align: right;\">\n",
       "      <th></th>\n",
       "      <th>Date</th>\n",
       "      <th>HomeTeam</th>\n",
       "      <th>xG HomeTeam</th>\n",
       "      <th>xG AwayTeam</th>\n",
       "      <th>AwayTeam</th>\n",
       "    </tr>\n",
       "  </thead>\n",
       "  <tbody>\n",
       "    <tr>\n",
       "      <th>0</th>\n",
       "      <td>19-09-2020</td>\n",
       "      <td>Fiorentina</td>\n",
       "      <td>1.9</td>\n",
       "      <td>0.6</td>\n",
       "      <td>Torino</td>\n",
       "    </tr>\n",
       "  </tbody>\n",
       "</table>\n",
       "</div>"
      ],
      "text/plain": [
       "         Date    HomeTeam  xG HomeTeam  xG AwayTeam AwayTeam\n",
       "0  19-09-2020  Fiorentina          1.9          0.6   Torino"
      ]
     },
     "execution_count": 60,
     "metadata": {},
     "output_type": "execute_result"
    }
   ],
   "source": [
    "# rename columns\n",
    "serieA_2021.rename(columns={\"Data\": \"Date\", \"Casa\": \"HomeTeam\", \"xG\": \"xG HomeTeam\", \"xG.1\": \"xG AwayTeam\", \"Ospiti\": \"AwayTeam\"}, inplace=True)\n",
    "serieA_2021.head(1)"
   ]
  },
  {
   "cell_type": "code",
   "execution_count": 61,
   "metadata": {},
   "outputs": [],
   "source": [
    "# column date as timestamp\n",
    "serieA_2021['Date'] = pd.to_datetime(serieA_2021['Date'], format='%d-%m-%Y')"
   ]
  },
  {
   "cell_type": "code",
   "execution_count": 62,
   "metadata": {},
   "outputs": [
    {
     "data": {
      "text/plain": [
       "Date           datetime64[ns]\n",
       "HomeTeam               object\n",
       "xG HomeTeam           float64\n",
       "xG AwayTeam           float64\n",
       "AwayTeam               object\n",
       "dtype: object"
      ]
     },
     "execution_count": 62,
     "metadata": {},
     "output_type": "execute_result"
    }
   ],
   "source": [
    "serieA_2021.dtypes"
   ]
  },
  {
   "cell_type": "code",
   "execution_count": 63,
   "metadata": {},
   "outputs": [
    {
     "data": {
      "text/html": [
       "<div>\n",
       "<style scoped>\n",
       "    .dataframe tbody tr th:only-of-type {\n",
       "        vertical-align: middle;\n",
       "    }\n",
       "\n",
       "    .dataframe tbody tr th {\n",
       "        vertical-align: top;\n",
       "    }\n",
       "\n",
       "    .dataframe thead th {\n",
       "        text-align: right;\n",
       "    }\n",
       "</style>\n",
       "<table border=\"1\" class=\"dataframe\">\n",
       "  <thead>\n",
       "    <tr style=\"text-align: right;\">\n",
       "      <th></th>\n",
       "      <th>Date</th>\n",
       "      <th>HomeTeam</th>\n",
       "      <th>xG HomeTeam</th>\n",
       "      <th>xG AwayTeam</th>\n",
       "      <th>AwayTeam</th>\n",
       "    </tr>\n",
       "  </thead>\n",
       "  <tbody>\n",
       "    <tr>\n",
       "      <th>6</th>\n",
       "      <td>2020-09-21</td>\n",
       "      <td>Milan</td>\n",
       "      <td>2.9</td>\n",
       "      <td>0.9</td>\n",
       "      <td>Bologna</td>\n",
       "    </tr>\n",
       "    <tr>\n",
       "      <th>14</th>\n",
       "      <td>2020-09-27</td>\n",
       "      <td>Crotone</td>\n",
       "      <td>0.3</td>\n",
       "      <td>2.4</td>\n",
       "      <td>Milan</td>\n",
       "    </tr>\n",
       "    <tr>\n",
       "      <th>30</th>\n",
       "      <td>2020-10-04</td>\n",
       "      <td>Milan</td>\n",
       "      <td>2.0</td>\n",
       "      <td>0.2</td>\n",
       "      <td>Spezia</td>\n",
       "    </tr>\n",
       "    <tr>\n",
       "      <th>34</th>\n",
       "      <td>2020-10-17</td>\n",
       "      <td>Inter</td>\n",
       "      <td>2.4</td>\n",
       "      <td>2.3</td>\n",
       "      <td>Milan</td>\n",
       "    </tr>\n",
       "    <tr>\n",
       "      <th>52</th>\n",
       "      <td>2020-10-26</td>\n",
       "      <td>Milan</td>\n",
       "      <td>2.6</td>\n",
       "      <td>2.3</td>\n",
       "      <td>Roma</td>\n",
       "    </tr>\n",
       "  </tbody>\n",
       "</table>\n",
       "</div>"
      ],
      "text/plain": [
       "         Date HomeTeam  xG HomeTeam  xG AwayTeam AwayTeam\n",
       "6  2020-09-21    Milan          2.9          0.9  Bologna\n",
       "14 2020-09-27  Crotone          0.3          2.4    Milan\n",
       "30 2020-10-04    Milan          2.0          0.2   Spezia\n",
       "34 2020-10-17    Inter          2.4          2.3    Milan\n",
       "52 2020-10-26    Milan          2.6          2.3     Roma"
      ]
     },
     "execution_count": 63,
     "metadata": {},
     "output_type": "execute_result"
    }
   ],
   "source": [
    "acm_2021 = serieA_2021.loc[(serieA_2021.HomeTeam == 'Milan') | (serieA_2021.AwayTeam == 'Milan')]\n",
    "acm_2021.head()"
   ]
  },
  {
   "cell_type": "code",
   "execution_count": 64,
   "metadata": {},
   "outputs": [],
   "source": [
    "acm_2021.to_csv(\"../data/Fbref-ACMilan-2021.csv\")"
   ]
  },
  {
   "cell_type": "markdown",
   "metadata": {},
   "source": [
    "Now the same for 2021/22 season"
   ]
  },
  {
   "cell_type": "code",
   "execution_count": 65,
   "metadata": {},
   "outputs": [
    {
     "data": {
      "text/html": [
       "<div>\n",
       "<style scoped>\n",
       "    .dataframe tbody tr th:only-of-type {\n",
       "        vertical-align: middle;\n",
       "    }\n",
       "\n",
       "    .dataframe tbody tr th {\n",
       "        vertical-align: top;\n",
       "    }\n",
       "\n",
       "    .dataframe thead th {\n",
       "        text-align: right;\n",
       "    }\n",
       "</style>\n",
       "<table border=\"1\" class=\"dataframe\">\n",
       "  <thead>\n",
       "    <tr style=\"text-align: right;\">\n",
       "      <th></th>\n",
       "      <th>Sett.</th>\n",
       "      <th>Giorno</th>\n",
       "      <th>Data</th>\n",
       "      <th>Ora</th>\n",
       "      <th>Casa</th>\n",
       "      <th>xG</th>\n",
       "      <th>Punteggio</th>\n",
       "      <th>xG.1</th>\n",
       "      <th>Ospiti</th>\n",
       "      <th>Spettatori</th>\n",
       "      <th>Stadio</th>\n",
       "      <th>Arbitro</th>\n",
       "      <th>Report partita</th>\n",
       "      <th>Note</th>\n",
       "    </tr>\n",
       "  </thead>\n",
       "  <tbody>\n",
       "    <tr>\n",
       "      <th>0</th>\n",
       "      <td>1.0</td>\n",
       "      <td>Sab</td>\n",
       "      <td>21-08-2021</td>\n",
       "      <td>18:30</td>\n",
       "      <td>Hellas Verona</td>\n",
       "      <td>2.1</td>\n",
       "      <td>2–3</td>\n",
       "      <td>1.4</td>\n",
       "      <td>Sassuolo</td>\n",
       "      <td>5.448</td>\n",
       "      <td>Stadio Marc'Antonio Bentegodi</td>\n",
       "      <td>Manuel Volpi</td>\n",
       "      <td>Report partita</td>\n",
       "      <td>NaN</td>\n",
       "    </tr>\n",
       "  </tbody>\n",
       "</table>\n",
       "</div>"
      ],
      "text/plain": [
       "   Sett. Giorno        Data    Ora           Casa   xG Punteggio  xG.1   \n",
       "0    1.0    Sab  21-08-2021  18:30  Hellas Verona  2.1       2–3   1.4  \\\n",
       "\n",
       "     Ospiti  Spettatori                         Stadio       Arbitro   \n",
       "0  Sassuolo       5.448  Stadio Marc'Antonio Bentegodi  Manuel Volpi  \\\n",
       "\n",
       "   Report partita  Note  \n",
       "0  Report partita   NaN  "
      ]
     },
     "execution_count": 65,
     "metadata": {},
     "output_type": "execute_result"
    }
   ],
   "source": [
    "serieA_2122 = pd.read_csv(\"../data/raw/Fbref-SerieA-2122.csv\")\n",
    "serieA_2122.head(1)"
   ]
  },
  {
   "cell_type": "code",
   "execution_count": 66,
   "metadata": {},
   "outputs": [
    {
     "data": {
      "text/html": [
       "<div>\n",
       "<style scoped>\n",
       "    .dataframe tbody tr th:only-of-type {\n",
       "        vertical-align: middle;\n",
       "    }\n",
       "\n",
       "    .dataframe tbody tr th {\n",
       "        vertical-align: top;\n",
       "    }\n",
       "\n",
       "    .dataframe thead th {\n",
       "        text-align: right;\n",
       "    }\n",
       "</style>\n",
       "<table border=\"1\" class=\"dataframe\">\n",
       "  <thead>\n",
       "    <tr style=\"text-align: right;\">\n",
       "      <th></th>\n",
       "      <th>Data</th>\n",
       "      <th>Casa</th>\n",
       "      <th>xG</th>\n",
       "      <th>xG.1</th>\n",
       "      <th>Ospiti</th>\n",
       "    </tr>\n",
       "  </thead>\n",
       "  <tbody>\n",
       "    <tr>\n",
       "      <th>0</th>\n",
       "      <td>21-08-2021</td>\n",
       "      <td>Hellas Verona</td>\n",
       "      <td>2.1</td>\n",
       "      <td>1.4</td>\n",
       "      <td>Sassuolo</td>\n",
       "    </tr>\n",
       "  </tbody>\n",
       "</table>\n",
       "</div>"
      ],
      "text/plain": [
       "         Data           Casa   xG  xG.1    Ospiti\n",
       "0  21-08-2021  Hellas Verona  2.1   1.4  Sassuolo"
      ]
     },
     "execution_count": 66,
     "metadata": {},
     "output_type": "execute_result"
    }
   ],
   "source": [
    "serieA_2122 = serieA_2122[['Data', 'Casa', 'xG', 'xG.1', 'Ospiti']]\n",
    "serieA_2122.head(1)"
   ]
  },
  {
   "cell_type": "code",
   "execution_count": 67,
   "metadata": {},
   "outputs": [
    {
     "data": {
      "text/html": [
       "<div>\n",
       "<style scoped>\n",
       "    .dataframe tbody tr th:only-of-type {\n",
       "        vertical-align: middle;\n",
       "    }\n",
       "\n",
       "    .dataframe tbody tr th {\n",
       "        vertical-align: top;\n",
       "    }\n",
       "\n",
       "    .dataframe thead th {\n",
       "        text-align: right;\n",
       "    }\n",
       "</style>\n",
       "<table border=\"1\" class=\"dataframe\">\n",
       "  <thead>\n",
       "    <tr style=\"text-align: right;\">\n",
       "      <th></th>\n",
       "      <th>Date</th>\n",
       "      <th>HomeTeam</th>\n",
       "      <th>xG HomeTeam</th>\n",
       "      <th>xG AwayTeam</th>\n",
       "      <th>AwayTeam</th>\n",
       "    </tr>\n",
       "  </thead>\n",
       "  <tbody>\n",
       "    <tr>\n",
       "      <th>0</th>\n",
       "      <td>21-08-2021</td>\n",
       "      <td>Hellas Verona</td>\n",
       "      <td>2.1</td>\n",
       "      <td>1.4</td>\n",
       "      <td>Sassuolo</td>\n",
       "    </tr>\n",
       "  </tbody>\n",
       "</table>\n",
       "</div>"
      ],
      "text/plain": [
       "         Date       HomeTeam  xG HomeTeam  xG AwayTeam  AwayTeam\n",
       "0  21-08-2021  Hellas Verona          2.1          1.4  Sassuolo"
      ]
     },
     "execution_count": 67,
     "metadata": {},
     "output_type": "execute_result"
    }
   ],
   "source": [
    "# rename columns\n",
    "serieA_2122.rename(columns={\"Data\": \"Date\", \"Casa\": \"HomeTeam\", \"xG\": \"xG HomeTeam\", \"xG.1\": \"xG AwayTeam\", \"Ospiti\": \"AwayTeam\"}, inplace=True)\n",
    "serieA_2122.head(1)"
   ]
  },
  {
   "cell_type": "code",
   "execution_count": 68,
   "metadata": {},
   "outputs": [],
   "source": [
    "# column date as timestamp\n",
    "serieA_2122['Date'] = pd.to_datetime(serieA_2122['Date'], format='%d-%m-%Y')"
   ]
  },
  {
   "cell_type": "code",
   "execution_count": 69,
   "metadata": {},
   "outputs": [
    {
     "data": {
      "text/plain": [
       "Date           datetime64[ns]\n",
       "HomeTeam               object\n",
       "xG HomeTeam           float64\n",
       "xG AwayTeam           float64\n",
       "AwayTeam               object\n",
       "dtype: object"
      ]
     },
     "execution_count": 69,
     "metadata": {},
     "output_type": "execute_result"
    }
   ],
   "source": [
    "serieA_2122.dtypes"
   ]
  },
  {
   "cell_type": "code",
   "execution_count": 70,
   "metadata": {},
   "outputs": [
    {
     "data": {
      "text/html": [
       "<div>\n",
       "<style scoped>\n",
       "    .dataframe tbody tr th:only-of-type {\n",
       "        vertical-align: middle;\n",
       "    }\n",
       "\n",
       "    .dataframe tbody tr th {\n",
       "        vertical-align: top;\n",
       "    }\n",
       "\n",
       "    .dataframe thead th {\n",
       "        text-align: right;\n",
       "    }\n",
       "</style>\n",
       "<table border=\"1\" class=\"dataframe\">\n",
       "  <thead>\n",
       "    <tr style=\"text-align: right;\">\n",
       "      <th></th>\n",
       "      <th>Date</th>\n",
       "      <th>HomeTeam</th>\n",
       "      <th>xG HomeTeam</th>\n",
       "      <th>xG AwayTeam</th>\n",
       "      <th>AwayTeam</th>\n",
       "    </tr>\n",
       "  </thead>\n",
       "  <tbody>\n",
       "    <tr>\n",
       "      <th>9</th>\n",
       "      <td>2021-08-23</td>\n",
       "      <td>Sampdoria</td>\n",
       "      <td>1.0</td>\n",
       "      <td>1.1</td>\n",
       "      <td>Milan</td>\n",
       "    </tr>\n",
       "    <tr>\n",
       "      <th>19</th>\n",
       "      <td>2021-08-29</td>\n",
       "      <td>Milan</td>\n",
       "      <td>2.7</td>\n",
       "      <td>0.4</td>\n",
       "      <td>Cagliari</td>\n",
       "    </tr>\n",
       "    <tr>\n",
       "      <th>29</th>\n",
       "      <td>2021-09-12</td>\n",
       "      <td>Milan</td>\n",
       "      <td>3.0</td>\n",
       "      <td>0.3</td>\n",
       "      <td>Lazio</td>\n",
       "    </tr>\n",
       "    <tr>\n",
       "      <th>41</th>\n",
       "      <td>2021-09-19</td>\n",
       "      <td>Juventus</td>\n",
       "      <td>1.0</td>\n",
       "      <td>0.7</td>\n",
       "      <td>Milan</td>\n",
       "    </tr>\n",
       "    <tr>\n",
       "      <th>49</th>\n",
       "      <td>2021-09-22</td>\n",
       "      <td>Milan</td>\n",
       "      <td>1.7</td>\n",
       "      <td>0.7</td>\n",
       "      <td>Venezia</td>\n",
       "    </tr>\n",
       "  </tbody>\n",
       "</table>\n",
       "</div>"
      ],
      "text/plain": [
       "         Date   HomeTeam  xG HomeTeam  xG AwayTeam  AwayTeam\n",
       "9  2021-08-23  Sampdoria          1.0          1.1     Milan\n",
       "19 2021-08-29      Milan          2.7          0.4  Cagliari\n",
       "29 2021-09-12      Milan          3.0          0.3     Lazio\n",
       "41 2021-09-19   Juventus          1.0          0.7     Milan\n",
       "49 2021-09-22      Milan          1.7          0.7   Venezia"
      ]
     },
     "execution_count": 70,
     "metadata": {},
     "output_type": "execute_result"
    }
   ],
   "source": [
    "acm_2122 = serieA_2122.loc[(serieA_2122.HomeTeam == 'Milan') | (serieA_2122.AwayTeam == 'Milan')]\n",
    "acm_2122.head()"
   ]
  },
  {
   "cell_type": "code",
   "execution_count": 71,
   "metadata": {},
   "outputs": [],
   "source": [
    "acm_2122.to_csv(\"../data/Fbref-ACMilan-2122.csv\")"
   ]
  },
  {
   "cell_type": "markdown",
   "metadata": {},
   "source": [
    "##### **Data Modeling**"
   ]
  },
  {
   "cell_type": "code",
   "execution_count": 72,
   "metadata": {},
   "outputs": [
    {
     "data": {
      "text/plain": [
       "76"
      ]
     },
     "execution_count": 72,
     "metadata": {},
     "output_type": "execute_result"
    }
   ],
   "source": [
    "# append the two dataframes\n",
    "acm = pd.concat([acm_2021, acm_2122], axis=0)\n",
    "len(acm)"
   ]
  },
  {
   "cell_type": "code",
   "execution_count": 73,
   "metadata": {},
   "outputs": [
    {
     "data": {
      "text/html": [
       "<div>\n",
       "<style scoped>\n",
       "    .dataframe tbody tr th:only-of-type {\n",
       "        vertical-align: middle;\n",
       "    }\n",
       "\n",
       "    .dataframe tbody tr th {\n",
       "        vertical-align: top;\n",
       "    }\n",
       "\n",
       "    .dataframe thead th {\n",
       "        text-align: right;\n",
       "    }\n",
       "</style>\n",
       "<table border=\"1\" class=\"dataframe\">\n",
       "  <thead>\n",
       "    <tr style=\"text-align: right;\">\n",
       "      <th></th>\n",
       "      <th>Date</th>\n",
       "      <th>HomeTeam</th>\n",
       "      <th>xG HomeTeam</th>\n",
       "      <th>xG AwayTeam</th>\n",
       "      <th>AwayTeam</th>\n",
       "    </tr>\n",
       "  </thead>\n",
       "  <tbody>\n",
       "    <tr>\n",
       "      <th>6</th>\n",
       "      <td>2020-09-21</td>\n",
       "      <td>Milan</td>\n",
       "      <td>2.9</td>\n",
       "      <td>0.9</td>\n",
       "      <td>Bologna</td>\n",
       "    </tr>\n",
       "    <tr>\n",
       "      <th>14</th>\n",
       "      <td>2020-09-27</td>\n",
       "      <td>Crotone</td>\n",
       "      <td>0.3</td>\n",
       "      <td>2.4</td>\n",
       "      <td>Milan</td>\n",
       "    </tr>\n",
       "    <tr>\n",
       "      <th>30</th>\n",
       "      <td>2020-10-04</td>\n",
       "      <td>Milan</td>\n",
       "      <td>2.0</td>\n",
       "      <td>0.2</td>\n",
       "      <td>Spezia</td>\n",
       "    </tr>\n",
       "    <tr>\n",
       "      <th>34</th>\n",
       "      <td>2020-10-17</td>\n",
       "      <td>Inter</td>\n",
       "      <td>2.4</td>\n",
       "      <td>2.3</td>\n",
       "      <td>Milan</td>\n",
       "    </tr>\n",
       "    <tr>\n",
       "      <th>52</th>\n",
       "      <td>2020-10-26</td>\n",
       "      <td>Milan</td>\n",
       "      <td>2.6</td>\n",
       "      <td>2.3</td>\n",
       "      <td>Roma</td>\n",
       "    </tr>\n",
       "    <tr>\n",
       "      <th>...</th>\n",
       "      <td>...</td>\n",
       "      <td>...</td>\n",
       "      <td>...</td>\n",
       "      <td>...</td>\n",
       "      <td>...</td>\n",
       "    </tr>\n",
       "    <tr>\n",
       "      <th>368</th>\n",
       "      <td>2022-04-24</td>\n",
       "      <td>Lazio</td>\n",
       "      <td>0.6</td>\n",
       "      <td>2.1</td>\n",
       "      <td>Milan</td>\n",
       "    </tr>\n",
       "    <tr>\n",
       "      <th>380</th>\n",
       "      <td>2022-05-01</td>\n",
       "      <td>Milan</td>\n",
       "      <td>1.3</td>\n",
       "      <td>0.5</td>\n",
       "      <td>Fiorentina</td>\n",
       "    </tr>\n",
       "    <tr>\n",
       "      <th>396</th>\n",
       "      <td>2022-05-08</td>\n",
       "      <td>Hellas Verona</td>\n",
       "      <td>1.2</td>\n",
       "      <td>2.9</td>\n",
       "      <td>Milan</td>\n",
       "    </tr>\n",
       "    <tr>\n",
       "      <th>405</th>\n",
       "      <td>2022-05-15</td>\n",
       "      <td>Milan</td>\n",
       "      <td>1.5</td>\n",
       "      <td>0.9</td>\n",
       "      <td>Atalanta</td>\n",
       "    </tr>\n",
       "    <tr>\n",
       "      <th>416</th>\n",
       "      <td>2022-05-22</td>\n",
       "      <td>Sassuolo</td>\n",
       "      <td>0.4</td>\n",
       "      <td>3.1</td>\n",
       "      <td>Milan</td>\n",
       "    </tr>\n",
       "  </tbody>\n",
       "</table>\n",
       "<p>76 rows × 5 columns</p>\n",
       "</div>"
      ],
      "text/plain": [
       "          Date       HomeTeam  xG HomeTeam  xG AwayTeam    AwayTeam\n",
       "6   2020-09-21          Milan          2.9          0.9     Bologna\n",
       "14  2020-09-27        Crotone          0.3          2.4       Milan\n",
       "30  2020-10-04          Milan          2.0          0.2      Spezia\n",
       "34  2020-10-17          Inter          2.4          2.3       Milan\n",
       "52  2020-10-26          Milan          2.6          2.3        Roma\n",
       "..         ...            ...          ...          ...         ...\n",
       "368 2022-04-24          Lazio          0.6          2.1       Milan\n",
       "380 2022-05-01          Milan          1.3          0.5  Fiorentina\n",
       "396 2022-05-08  Hellas Verona          1.2          2.9       Milan\n",
       "405 2022-05-15          Milan          1.5          0.9    Atalanta\n",
       "416 2022-05-22       Sassuolo          0.4          3.1       Milan\n",
       "\n",
       "[76 rows x 5 columns]"
      ]
     },
     "execution_count": 73,
     "metadata": {},
     "output_type": "execute_result"
    }
   ],
   "source": [
    "acm"
   ]
  },
  {
   "cell_type": "code",
   "execution_count": 74,
   "metadata": {},
   "outputs": [],
   "source": [
    "acm.to_csv(\"../data/ACM-xG.csv\")"
   ]
  },
  {
   "cell_type": "markdown",
   "metadata": {},
   "source": [
    "We need to create a series for both expected goals created and conceded regardless if the team played at home or away. So we'll create a new DataFrame with six columns: _team, opponent, variable, value, venue and date_. Then we'll split our dataframe into two dataframes and then concatenate them back together. By adding the venue column, we could even deepen our analysis to only consider home or away performance."
   ]
  },
  {
   "cell_type": "code",
   "execution_count": 75,
   "metadata": {},
   "outputs": [
    {
     "data": {
      "text/plain": [
       "Index(['Date', 'HomeTeam', 'xG HomeTeam', 'xG AwayTeam', 'AwayTeam'], dtype='object')"
      ]
     },
     "execution_count": 75,
     "metadata": {},
     "output_type": "execute_result"
    }
   ],
   "source": [
    "acm.columns"
   ]
  },
  {
   "cell_type": "code",
   "execution_count": 76,
   "metadata": {},
   "outputs": [],
   "source": [
    "home_df = acm.copy()"
   ]
  },
  {
   "cell_type": "code",
   "execution_count": 77,
   "metadata": {},
   "outputs": [],
   "source": [
    "home_df = home_df.melt(id_vars=['Date', 'HomeTeam', 'AwayTeam'])\n",
    "home_df['Venue'] = \"H\""
   ]
  },
  {
   "cell_type": "code",
   "execution_count": 78,
   "metadata": {},
   "outputs": [],
   "source": [
    "home_df.rename(columns= {'HomeTeam': 'Team', 'AwayTeam': 'Opponent'}, inplace=True)\n",
    "home_df.replace({\"variable\":{'xG HomeTeam': 'xG_for', 'xG AwayTeam': 'xG_ag'}}, inplace=True)"
   ]
  },
  {
   "cell_type": "code",
   "execution_count": 79,
   "metadata": {},
   "outputs": [
    {
     "data": {
      "text/html": [
       "<div>\n",
       "<style scoped>\n",
       "    .dataframe tbody tr th:only-of-type {\n",
       "        vertical-align: middle;\n",
       "    }\n",
       "\n",
       "    .dataframe tbody tr th {\n",
       "        vertical-align: top;\n",
       "    }\n",
       "\n",
       "    .dataframe thead th {\n",
       "        text-align: right;\n",
       "    }\n",
       "</style>\n",
       "<table border=\"1\" class=\"dataframe\">\n",
       "  <thead>\n",
       "    <tr style=\"text-align: right;\">\n",
       "      <th></th>\n",
       "      <th>Date</th>\n",
       "      <th>Team</th>\n",
       "      <th>Opponent</th>\n",
       "      <th>variable</th>\n",
       "      <th>value</th>\n",
       "      <th>Venue</th>\n",
       "    </tr>\n",
       "  </thead>\n",
       "  <tbody>\n",
       "    <tr>\n",
       "      <th>0</th>\n",
       "      <td>2020-09-21</td>\n",
       "      <td>Milan</td>\n",
       "      <td>Bologna</td>\n",
       "      <td>xG_for</td>\n",
       "      <td>2.9</td>\n",
       "      <td>H</td>\n",
       "    </tr>\n",
       "    <tr>\n",
       "      <th>1</th>\n",
       "      <td>2020-09-27</td>\n",
       "      <td>Crotone</td>\n",
       "      <td>Milan</td>\n",
       "      <td>xG_for</td>\n",
       "      <td>0.3</td>\n",
       "      <td>H</td>\n",
       "    </tr>\n",
       "    <tr>\n",
       "      <th>2</th>\n",
       "      <td>2020-10-04</td>\n",
       "      <td>Milan</td>\n",
       "      <td>Spezia</td>\n",
       "      <td>xG_for</td>\n",
       "      <td>2.0</td>\n",
       "      <td>H</td>\n",
       "    </tr>\n",
       "    <tr>\n",
       "      <th>3</th>\n",
       "      <td>2020-10-17</td>\n",
       "      <td>Inter</td>\n",
       "      <td>Milan</td>\n",
       "      <td>xG_for</td>\n",
       "      <td>2.4</td>\n",
       "      <td>H</td>\n",
       "    </tr>\n",
       "    <tr>\n",
       "      <th>4</th>\n",
       "      <td>2020-10-26</td>\n",
       "      <td>Milan</td>\n",
       "      <td>Roma</td>\n",
       "      <td>xG_for</td>\n",
       "      <td>2.6</td>\n",
       "      <td>H</td>\n",
       "    </tr>\n",
       "  </tbody>\n",
       "</table>\n",
       "</div>"
      ],
      "text/plain": [
       "        Date     Team Opponent variable  value Venue\n",
       "0 2020-09-21    Milan  Bologna   xG_for    2.9     H\n",
       "1 2020-09-27  Crotone    Milan   xG_for    0.3     H\n",
       "2 2020-10-04    Milan   Spezia   xG_for    2.0     H\n",
       "3 2020-10-17    Inter    Milan   xG_for    2.4     H\n",
       "4 2020-10-26    Milan     Roma   xG_for    2.6     H"
      ]
     },
     "execution_count": 79,
     "metadata": {},
     "output_type": "execute_result"
    }
   ],
   "source": [
    "home_df.head()"
   ]
  },
  {
   "cell_type": "markdown",
   "metadata": {},
   "source": [
    "Now the same for away data"
   ]
  },
  {
   "cell_type": "code",
   "execution_count": 80,
   "metadata": {},
   "outputs": [],
   "source": [
    "away_df = acm.copy()"
   ]
  },
  {
   "cell_type": "code",
   "execution_count": 81,
   "metadata": {},
   "outputs": [],
   "source": [
    "away_df = away_df.melt(id_vars=['Date', 'AwayTeam', 'HomeTeam'])\n",
    "away_df['Venue'] = \"A\""
   ]
  },
  {
   "cell_type": "code",
   "execution_count": 82,
   "metadata": {},
   "outputs": [],
   "source": [
    "away_df.rename(columns= {'AwayTeam': 'Team', 'HomeTeam': 'Opponent'}, inplace=True)\n",
    "away_df.replace({\"variable\":{'xG AwayTeam': 'xG_for', 'xG HomeTeam': 'xG_ag'}}, inplace=True)"
   ]
  },
  {
   "cell_type": "code",
   "execution_count": 83,
   "metadata": {},
   "outputs": [
    {
     "data": {
      "text/html": [
       "<div>\n",
       "<style scoped>\n",
       "    .dataframe tbody tr th:only-of-type {\n",
       "        vertical-align: middle;\n",
       "    }\n",
       "\n",
       "    .dataframe tbody tr th {\n",
       "        vertical-align: top;\n",
       "    }\n",
       "\n",
       "    .dataframe thead th {\n",
       "        text-align: right;\n",
       "    }\n",
       "</style>\n",
       "<table border=\"1\" class=\"dataframe\">\n",
       "  <thead>\n",
       "    <tr style=\"text-align: right;\">\n",
       "      <th></th>\n",
       "      <th>Date</th>\n",
       "      <th>Team</th>\n",
       "      <th>Opponent</th>\n",
       "      <th>variable</th>\n",
       "      <th>value</th>\n",
       "      <th>Venue</th>\n",
       "    </tr>\n",
       "  </thead>\n",
       "  <tbody>\n",
       "    <tr>\n",
       "      <th>0</th>\n",
       "      <td>2020-09-21</td>\n",
       "      <td>Bologna</td>\n",
       "      <td>Milan</td>\n",
       "      <td>xG_ag</td>\n",
       "      <td>2.9</td>\n",
       "      <td>A</td>\n",
       "    </tr>\n",
       "    <tr>\n",
       "      <th>1</th>\n",
       "      <td>2020-09-27</td>\n",
       "      <td>Milan</td>\n",
       "      <td>Crotone</td>\n",
       "      <td>xG_ag</td>\n",
       "      <td>0.3</td>\n",
       "      <td>A</td>\n",
       "    </tr>\n",
       "    <tr>\n",
       "      <th>2</th>\n",
       "      <td>2020-10-04</td>\n",
       "      <td>Spezia</td>\n",
       "      <td>Milan</td>\n",
       "      <td>xG_ag</td>\n",
       "      <td>2.0</td>\n",
       "      <td>A</td>\n",
       "    </tr>\n",
       "    <tr>\n",
       "      <th>3</th>\n",
       "      <td>2020-10-17</td>\n",
       "      <td>Milan</td>\n",
       "      <td>Inter</td>\n",
       "      <td>xG_ag</td>\n",
       "      <td>2.4</td>\n",
       "      <td>A</td>\n",
       "    </tr>\n",
       "    <tr>\n",
       "      <th>4</th>\n",
       "      <td>2020-10-26</td>\n",
       "      <td>Roma</td>\n",
       "      <td>Milan</td>\n",
       "      <td>xG_ag</td>\n",
       "      <td>2.6</td>\n",
       "      <td>A</td>\n",
       "    </tr>\n",
       "  </tbody>\n",
       "</table>\n",
       "</div>"
      ],
      "text/plain": [
       "        Date     Team Opponent variable  value Venue\n",
       "0 2020-09-21  Bologna    Milan    xG_ag    2.9     A\n",
       "1 2020-09-27    Milan  Crotone    xG_ag    0.3     A\n",
       "2 2020-10-04   Spezia    Milan    xG_ag    2.0     A\n",
       "3 2020-10-17    Milan    Inter    xG_ag    2.4     A\n",
       "4 2020-10-26     Roma    Milan    xG_ag    2.6     A"
      ]
     },
     "execution_count": 83,
     "metadata": {},
     "output_type": "execute_result"
    }
   ],
   "source": [
    "away_df.head()"
   ]
  },
  {
   "cell_type": "markdown",
   "metadata": {},
   "source": [
    "Let's join it back together"
   ]
  },
  {
   "cell_type": "code",
   "execution_count": 84,
   "metadata": {},
   "outputs": [],
   "source": [
    "df = pd.concat([home_df, away_df]).reset_index(drop = True)"
   ]
  },
  {
   "cell_type": "code",
   "execution_count": 85,
   "metadata": {},
   "outputs": [
    {
     "data": {
      "text/html": [
       "<div>\n",
       "<style scoped>\n",
       "    .dataframe tbody tr th:only-of-type {\n",
       "        vertical-align: middle;\n",
       "    }\n",
       "\n",
       "    .dataframe tbody tr th {\n",
       "        vertical-align: top;\n",
       "    }\n",
       "\n",
       "    .dataframe thead th {\n",
       "        text-align: right;\n",
       "    }\n",
       "</style>\n",
       "<table border=\"1\" class=\"dataframe\">\n",
       "  <thead>\n",
       "    <tr style=\"text-align: right;\">\n",
       "      <th></th>\n",
       "      <th>Date</th>\n",
       "      <th>Team</th>\n",
       "      <th>Opponent</th>\n",
       "      <th>variable</th>\n",
       "      <th>value</th>\n",
       "      <th>Venue</th>\n",
       "    </tr>\n",
       "  </thead>\n",
       "  <tbody>\n",
       "    <tr>\n",
       "      <th>0</th>\n",
       "      <td>2020-09-21</td>\n",
       "      <td>Milan</td>\n",
       "      <td>Bologna</td>\n",
       "      <td>xG_for</td>\n",
       "      <td>2.9</td>\n",
       "      <td>H</td>\n",
       "    </tr>\n",
       "    <tr>\n",
       "      <th>1</th>\n",
       "      <td>2020-09-27</td>\n",
       "      <td>Crotone</td>\n",
       "      <td>Milan</td>\n",
       "      <td>xG_for</td>\n",
       "      <td>0.3</td>\n",
       "      <td>H</td>\n",
       "    </tr>\n",
       "    <tr>\n",
       "      <th>2</th>\n",
       "      <td>2020-10-04</td>\n",
       "      <td>Milan</td>\n",
       "      <td>Spezia</td>\n",
       "      <td>xG_for</td>\n",
       "      <td>2.0</td>\n",
       "      <td>H</td>\n",
       "    </tr>\n",
       "    <tr>\n",
       "      <th>3</th>\n",
       "      <td>2020-10-17</td>\n",
       "      <td>Inter</td>\n",
       "      <td>Milan</td>\n",
       "      <td>xG_for</td>\n",
       "      <td>2.4</td>\n",
       "      <td>H</td>\n",
       "    </tr>\n",
       "    <tr>\n",
       "      <th>4</th>\n",
       "      <td>2020-10-26</td>\n",
       "      <td>Milan</td>\n",
       "      <td>Roma</td>\n",
       "      <td>xG_for</td>\n",
       "      <td>2.6</td>\n",
       "      <td>H</td>\n",
       "    </tr>\n",
       "  </tbody>\n",
       "</table>\n",
       "</div>"
      ],
      "text/plain": [
       "        Date     Team Opponent variable  value Venue\n",
       "0 2020-09-21    Milan  Bologna   xG_for    2.9     H\n",
       "1 2020-09-27  Crotone    Milan   xG_for    0.3     H\n",
       "2 2020-10-04    Milan   Spezia   xG_for    2.0     H\n",
       "3 2020-10-17    Inter    Milan   xG_for    2.4     H\n",
       "4 2020-10-26    Milan     Roma   xG_for    2.6     H"
      ]
     },
     "execution_count": 85,
     "metadata": {},
     "output_type": "execute_result"
    }
   ],
   "source": [
    "df.head()"
   ]
  },
  {
   "cell_type": "code",
   "execution_count": 86,
   "metadata": {},
   "outputs": [
    {
     "data": {
      "text/plain": [
       "Date        datetime64[ns]\n",
       "Team                object\n",
       "Opponent            object\n",
       "variable            object\n",
       "value              float64\n",
       "Venue               object\n",
       "dtype: object"
      ]
     },
     "execution_count": 86,
     "metadata": {},
     "output_type": "execute_result"
    }
   ],
   "source": [
    "df.dtypes"
   ]
  },
  {
   "cell_type": "markdown",
   "metadata": {},
   "source": [
    "Filter the records related to AC Milan and compute the rolling average for the expected goals data"
   ]
  },
  {
   "cell_type": "code",
   "execution_count": 87,
   "metadata": {},
   "outputs": [],
   "source": [
    "# filter ACM data\n",
    "df = df[df['Team'] == \"Milan\"].reset_index(drop=True)\n",
    "df = df.sort_values(by='Date')"
   ]
  },
  {
   "cell_type": "code",
   "execution_count": 88,
   "metadata": {},
   "outputs": [],
   "source": [
    "# xG conceded and xG created\n",
    "Y_for = df[df['variable'] == \"xG_for\"].reset_index(drop=True)\n",
    "Y_ag = df[df['variable'] == \"xG_ag\"].reset_index(drop=True)\n",
    "X = pd.Series(range(len(Y_for)))"
   ]
  },
  {
   "cell_type": "code",
   "execution_count": 89,
   "metadata": {},
   "outputs": [],
   "source": [
    "# compute the rolling average (min_periods is used for the partial average)\n",
    "# here we're using a 10 game rolling average\n",
    "Y_for['value'] = Y_for['value'].rolling(window=10, min_periods=0).mean()\n",
    "Y_ag['value'] = Y_ag['value'].rolling(window=10, min_periods=0).mean()"
   ]
  },
  {
   "cell_type": "code",
   "execution_count": 90,
   "metadata": {},
   "outputs": [],
   "source": [
    "Y_for = Y_for[['value']].reset_index(drop=True)\n",
    "Y_ag = Y_ag[['value']].reset_index(drop=True)"
   ]
  },
  {
   "cell_type": "markdown",
   "metadata": {},
   "source": [
    "##### **Data Visualization**"
   ]
  },
  {
   "cell_type": "code",
   "execution_count": 91,
   "metadata": {},
   "outputs": [],
   "source": [
    "from shutil import which\n",
    "from PIL import Image\n",
    "import urllib"
   ]
  },
  {
   "cell_type": "markdown",
   "metadata": {},
   "source": [
    "Text elements and legends"
   ]
  },
  {
   "cell_type": "markdown",
   "metadata": {},
   "source": [
    "(the first thing you should be aware of is the type of coordinate system you're using to annotate and add text to your visuals. In essence, matplotlib has four different coordinate systems which you can interchange and transform to gain more control in your visual customization journey, these are data, axes, figure and display coordinates)"
   ]
  },
  {
   "cell_type": "code",
   "execution_count": 92,
   "metadata": {},
   "outputs": [
    {
     "data": {
      "image/png": "[encoded data removed]",
      "text/plain": [
       "<Figure size 200x100 with 1 Axes>"
      ]
     },
     "metadata": {},
     "output_type": "display_data"
    }
   ],
   "source": [
    "acm_v1 = ['#FB090B','#000000']\n",
    "sns.palplot(sns.color_palette(acm_v1))"
   ]
  },
  {
   "cell_type": "code",
   "execution_count": 93,
   "metadata": {},
   "outputs": [
    {
     "data": {
      "image/png": "[encoded data removed]",
      "text/plain": [
       "<Figure size 500x100 with 1 Axes>"
      ]
     },
     "metadata": {},
     "output_type": "display_data"
    }
   ],
   "source": [
    "acm_v2 = ['#FFFFFF','#E11624', '#B52E2B', '#46433F', '#1A161A']\n",
    "sns.palplot(sns.color_palette(acm_v2))"
   ]
  },
  {
   "cell_type": "code",
   "execution_count": 94,
   "metadata": {},
   "outputs": [
    {
     "data": {
      "image/png": "[encoded data removed]",
      "text/plain": [
       "<Figure size 2400x1200 with 3 Axes>"
      ]
     },
     "metadata": {},
     "output_type": "display_data"
    }
   ],
   "source": [
    "fig = plt.figure(figsize=(8, 4), dpi=300, facecolor=\"white\")\n",
    "ax = plt.subplot(111, facecolor=\"white\")\n",
    "\n",
    "# remove top and right spines and change the color\n",
    "ax.spines[['top', 'right']].set_visible(False)\n",
    "ax.spines[['left', 'bottom']].set_color(\"grey\")\n",
    "\n",
    "# set the grid\n",
    "ax.grid(\n",
    "    visible = True, \n",
    "    lw = 0.5,\n",
    "    ls = \":\",\n",
    "    color = \"lightgrey\"\n",
    ")\n",
    "\n",
    "# calculate the x-values from matchday 1 to matchday 76\n",
    "matchdays = range(1, 77)\n",
    "\n",
    "line_1 = ax.plot(matchdays, Y_for, color=\"#e11624\", zorder=4)\n",
    "line_2 = ax.plot(matchdays, Y_ag, color=\"#1a161a\", zorder=4)\n",
    "\n",
    "ax.set_xlim(1, 76)  # set x-axis limits from 1 to 76\n",
    "ax.set_ylim(0)\n",
    "# add a line to mark the division between seasons\n",
    "ax.plot(\n",
    "    [38,38], # 38 games per season\n",
    "    [ax.get_ylim()[0], ax.get_ylim()[1]],\n",
    "    ls = \":\",\n",
    "    lw = 1.25,\n",
    "    color = \"grey\",\n",
    "    zorder = 2\n",
    ")\n",
    "\n",
    "# annotation with data coordinates and offset points\n",
    "ax.annotate(\n",
    "    xy = (38, 2.5),\n",
    "    xytext = (5, 5), # adjust text position\n",
    "    textcoords = 'offset points',\n",
    "    text = 'Change in Serie A season',\n",
    "    size = 7,\n",
    "    color = \"grey\",\n",
    "    arrowprops = dict(\n",
    "        arrowstyle=\"->\", shrinkA=0, shrinkB=5, color=\"grey\", linewidth=0.5,\n",
    "        connectionstyle=\"angle3,angleA=60,angleB=-30\" # adjust arrow position\n",
    "    ) # arrow to connect annotation\n",
    ")\n",
    "\n",
    "# fill between\n",
    "ax.fill_between(\n",
    "    matchdays,\n",
    "    Y_ag['value'],\n",
    "    Y_for['value'],\n",
    "    where = Y_for['value'] > Y_ag['value'],\n",
    "    interpolate = True,\n",
    "    alpha = 0.85,\n",
    "    zorder = 3,\n",
    "    color = line_1[0].get_color()\n",
    ")\n",
    "\n",
    "ax.fill_between(\n",
    "    matchdays,\n",
    "    Y_ag['value'],\n",
    "    Y_for['value'],\n",
    "    where = Y_ag['value'] > Y_for['value'],\n",
    "    interpolate = True,\n",
    "    alpha = 0.85,\n",
    "    color = line_2[0].get_color()\n",
    ")\n",
    "\n",
    "# customize the ticks to match spinecolor and adjust label size\n",
    "ax.tick_params(\n",
    "    color = \"grey\",\n",
    "    length = 5,\n",
    "    which = \"major\",\n",
    "    labelsize = 6,\n",
    "    labelcolor = \"grey\",\n",
    "    zorder = 3\n",
    ")\n",
    "\n",
    "# set x-axis major tick positions to only 19 game multiples\n",
    "ax.xaxis.set_major_locator(ticker.MultipleLocator(19))\n",
    "# set y-axis major tick positions to only 0.5xG multiples\n",
    "ax.yaxis.set_major_locator(ticker.MultipleLocator(0.5))\n",
    "\n",
    "# title and subtitle for the legend\n",
    "fig_text(\n",
    "    x = 0.12, y = 1.1,\n",
    "    s = \"AC Milan\",\n",
    "    color = \"black\",\n",
    "    weight = \"bold\",\n",
    "    size = 18,\n",
    "    annotationbbox_kw={\"xycoords\": \"figure fraction\"}\n",
    ")\n",
    "\n",
    "fig_text(\n",
    "    x = 0.12, y = 1.02,\n",
    "    s = \"Expected goals <created> and <conceded> | 10-match rolling average \\nSerie A seasons 20/21 and 21/22\",\n",
    "    highlight_textprops=[\n",
    "        {\"color\": line_1[0].get_color(), \"weight\": \"bold\"},\n",
    "        {\"color\": line_2[0].get_color(), \"weight\": \"bold\"}\n",
    "    ],\n",
    "    color = \"black\",\n",
    "    size = 10,\n",
    "    annotationbbox_kw={\"xycoords\": \"figure fraction\"}\n",
    ")\n",
    "\n",
    "# scrape Fotmob's website and plot the image directly into the visual\n",
    "# create a new axes object to draw the image\n",
    "fotmob_url = \"https://images.fotmob.com/image_resources/logo/teamlogo/\"\n",
    "\n",
    "logo_ax = fig.add_axes([0.75, .95, 0.15, 0.15], zorder=1)\n",
    "club_icon = Image.open(urllib.request.urlopen(f\"{fotmob_url}8564.png\"))\n",
    "logo_ax.imshow(club_icon)\n",
    "logo_ax.axis(\"off\")\n",
    "\n",
    "img_url = \"https://upload.wikimedia.org/wikipedia/commons/thumb/9/99/Scudetto.svg/1200px-Scudetto.svg.png\"\n",
    "\n",
    "logo_ax = fig.add_axes([0.875, .62, 0.05, 0.05], zorder=1)\n",
    "logo_icon = Image.open(urllib.request.urlopen(img_url))\n",
    "logo_ax.imshow(logo_icon)\n",
    "logo_ax.axis(\"off\")\n",
    "\n",
    "for x in [19, 57]:\n",
    "    if x == 19:\n",
    "        text = '20/21'\n",
    "    else:\n",
    "        text = '21/22'\n",
    "    text_ = ax.annotate(\n",
    "        xy=(x,.25),\n",
    "        text=text,\n",
    "        color='grey',\n",
    "        size=7,\n",
    "        va='center',\n",
    "        ha='center',\n",
    "        #weight='bold',\n",
    "        zorder=4\n",
    "    )"
   ]
  },
  {
   "cell_type": "code",
   "execution_count": 95,
   "metadata": {},
   "outputs": [],
   "source": [
    "# save figure\n",
    "fig.savefig('../figures/ACM-xG-rolling-plot.png', bbox_inches='tight')"
   ]
  }
 ],
 "metadata": {
  "kernelspec": {
   "display_name": "Python 3.10.4 ('football')",
   "language": "python",
   "name": "python3"
  },
  "language_info": {
   "codemirror_mode": {
    "name": "ipython",
    "version": 3
   },
   "file_extension": ".py",
   "mimetype": "text/x-python",
   "name": "python",
   "nbconvert_exporter": "python",
   "pygments_lexer": "ipython3",
   "version": "3.11.8"
  },
  "orig_nbformat": 4,
  "vscode": {
   "interpreter": {
    "hash": "177bbd7203d7d81d489fe1e7bb46364ed0d45ff427523d5b16e4bdab4ad77217"
   }
  }
 },
 "nbformat": 4,
 "nbformat_minor": 2
}
