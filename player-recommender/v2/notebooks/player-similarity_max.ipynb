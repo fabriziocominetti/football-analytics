{
 "cells": [
  {
   "cell_type": "markdown",
   "metadata": {},
   "source": [
    "## **Player Recommender Tool**"
   ]
  },
  {
   "cell_type": "code",
   "execution_count": 1,
   "metadata": {},
   "outputs": [],
   "source": [
    "# imports\n",
    "import numpy as np\n",
    "import pandas as pd\n",
    "import os\n",
    "import matplotlib.pyplot as plt\n",
    "import seaborn as sns"
   ]
  },
  {
   "cell_type": "markdown",
   "metadata": {},
   "source": [
    "##### **Data Retrieval**"
   ]
  },
  {
   "cell_type": "markdown",
   "metadata": {},
   "source": [
    "_Standard stats_\n",
    "- https://fbref.com/en/comps/Big5/stats/players/Big-5-European-Leagues-Stats\n",
    "- https://fbref.com/en/comps/Big5/2022-2023/stats/players/2022-2023-Big-5-European-Leagues-Stats\n",
    "- https://fbref.com/en/comps/Big5/2021-2022/stats/players/2021-2022-Big-5-European-Leagues-Stats\n",
    "\n",
    "_Defensive actions_\n",
    "- https://fbref.com/en/comps/Big5/defense/players/Big-5-European-Leagues-Stats\n",
    "- https://fbref.com/en/comps/Big5/2022-2023/defense/players/2022-2023-Big-5-European-Leagues-Stats\n",
    "- https://fbref.com/en/comps/Big5/2021-2022/defense/players/2021-2022-Big-5-European-Leagues-Stats\n",
    "\n",
    "_Miscellaneous_\n",
    "- https://fbref.com/en/comps/Big5/misc/players/Big-5-European-Leagues-Stats\n",
    "- https://fbref.com/en/comps/Big5/2022-2023/misc/players/2022-2023-Big-5-European-Leagues-Stats\n",
    "- https://fbref.com/en/comps/Big5/2021-2022/misc/players/2021-2022-Big-5-European-Leagues-Stats\n",
    "\n",
    "_Passing_\n",
    "- https://fbref.com/en/comps/Big5/passing/players/Big-5-European-Leagues-Stats\n",
    "- https://fbref.com/en/comps/Big5/2022-2023/passing/players/2022-2023-Big-5-European-Leagues-Stats\n",
    "- https://fbref.com/en/comps/Big5/2021-2022/passing/players/2021-2022-Big-5-European-Leagues-Stats\n",
    "\n",
    "_Possession_\n",
    "- https://fbref.com/en/comps/Big5/possession/players/Big-5-European-Leagues-Stats\n",
    "- https://fbref.com/en/comps/Big5/2022-2023/possession/players/2022-2023-Big-5-European-Leagues-Stats\n",
    "- https://fbref.com/en/comps/Big5/2021-2022/possession/players/2021-2022-Big-5-European-Leagues-Stats\n",
    "\n",
    "_Goalkeeping_\n",
    "- https://fbref.com/en/comps/Big5/keepers/players/Big-5-European-Leagues-Stats\n",
    "- https://fbref.com/en/comps/Big5/2022-2023/keepers/players/2022-2023-Big-5-European-Leagues-Stats\n",
    "- https://fbref.com/en/comps/Big5/2021-2022/keepers/players/2021-2022-Big-5-European-Leagues-Stats"
   ]
  },
  {
   "cell_type": "code",
   "execution_count": 2,
   "metadata": {},
   "outputs": [],
   "source": [
    "def process_fbref_data(url):\n",
    "    # read the data from the URL\n",
    "    big5_stats = pd.read_html(url)[0]\n",
    "    \n",
    "    # standardize column headers\n",
    "    big5_stats.columns = [' '.join(col).strip() for col in big5_stats.columns]\n",
    "    big5_stats = big5_stats.reset_index(drop=True)\n",
    "    \n",
    "    # create a list with new column names\n",
    "    new_columns = []\n",
    "    for col in big5_stats.columns:\n",
    "        if 'level_0' in col:\n",
    "            new_col = col.split()[-1]  # takes the last name\n",
    "        else:\n",
    "            new_col = col\n",
    "        new_columns.append(new_col)\n",
    "\n",
    "    # rename columns\n",
    "    big5_stats.columns = new_columns\n",
    "    big5_stats = big5_stats.fillna(0)\n",
    "    \n",
    "    # clean data\n",
    "    big5_stats['Age'] = big5_stats['Age'].str[:2]\n",
    "    big5_stats['Position'] = big5_stats['Pos'].str[:2]\n",
    "    big5_stats['Nation'] = big5_stats['Nation'].str.split(' ').str.get(1)\n",
    "    big5_stats['League'] = big5_stats['Comp'].str.split(' ').str.get(1)\n",
    "    big5_stats['League_'] = big5_stats['Comp'].str.split(' ').str.get(2)\n",
    "    big5_stats['League'] = big5_stats['League'] + ' ' + big5_stats['League_']\n",
    "    big5_stats = big5_stats.drop(columns=['League_', 'Comp', 'Rk', 'Pos','Matches'])\n",
    "    \n",
    "    return big5_stats"
   ]
  },
  {
   "cell_type": "code",
   "execution_count": 3,
   "metadata": {},
   "outputs": [
    {
     "name": "stdout",
     "output_type": "stream",
     "text": [
      "DataFrame from URL 'https://fbref.com/en/comps/Big5/stats/players/Big-5-European-Leagues-Stats' saved to '../data/raw/standard-stats_2023-2024.csv'\n",
      "DataFrame from URL 'https://fbref.com/en/comps/Big5/2022-2023/stats/players/2022-2023-Big-5-European-Leagues-Stats' saved to '../data/raw/standard-stats_2022-2023.csv'\n",
      "DataFrame from URL 'https://fbref.com/en/comps/Big5/2021-2022/stats/players/2021-2022-Big-5-European-Leagues-Stats' saved to '../data/raw/standard-stats_2021-2022.csv'\n"
     ]
    }
   ],
   "source": [
    "# URLs to process\n",
    "urls_standard = [\n",
    "    \"https://fbref.com/en/comps/Big5/stats/players/Big-5-European-Leagues-Stats\",\n",
    "    \"https://fbref.com/en/comps/Big5/2022-2023/stats/players/2022-2023-Big-5-European-Leagues-Stats\",\n",
    "    \"https://fbref.com/en/comps/Big5/2021-2022/stats/players/2021-2022-Big-5-European-Leagues-Stats\"\n",
    "]\n",
    "\n",
    "save_path = '../data/raw/'\n",
    "\n",
    "# process each URL and save the df to a CSV file\n",
    "for i, url in enumerate(urls_standard):\n",
    "    result = process_fbref_data(url)\n",
    "    filename = f'standard-stats_{2023 - i}-{2024 - i}.csv'  # generate filename based on the year\n",
    "    filepath = os.path.join(save_path, filename)  # construct the full file path\n",
    "    result.to_csv(filepath, index=False)\n",
    "    print(f\"DataFrame from URL '{url}' saved to '{filepath}'\")"
   ]
  },
  {
   "cell_type": "code",
   "execution_count": 4,
   "metadata": {},
   "outputs": [
    {
     "name": "stdout",
     "output_type": "stream",
     "text": [
      "DataFrame from URL 'https://fbref.com/en/comps/Big5/defense/players/Big-5-European-Leagues-Stats' saved to '../data/raw/defensive-stats_2023-2024.csv'\n",
      "DataFrame from URL 'https://fbref.com/en/comps/Big5/2022-2023/defense/players/2022-2023-Big-5-European-Leagues-Stats' saved to '../data/raw/defensive-stats_2022-2023.csv'\n",
      "DataFrame from URL 'https://fbref.com/en/comps/Big5/2021-2022/defense/players/2021-2022-Big-5-European-Leagues-Stats' saved to '../data/raw/defensive-stats_2021-2022.csv'\n"
     ]
    }
   ],
   "source": [
    "# URLs to process\n",
    "urls_defensive = [\n",
    "    \"https://fbref.com/en/comps/Big5/defense/players/Big-5-European-Leagues-Stats\",\n",
    "    \"https://fbref.com/en/comps/Big5/2022-2023/defense/players/2022-2023-Big-5-European-Leagues-Stats\",\n",
    "    \"https://fbref.com/en/comps/Big5/2021-2022/defense/players/2021-2022-Big-5-European-Leagues-Stats\"\n",
    "]\n",
    "\n",
    "save_path = '../data/raw/'\n",
    "\n",
    "# process each URL and save the df to a CSV file\n",
    "for i, url in enumerate(urls_defensive):\n",
    "    result = process_fbref_data(url)\n",
    "    filename = f'defensive-stats_{2023 - i}-{2024 - i}.csv'  # generate filename based on the year\n",
    "    filepath = os.path.join(save_path, filename)  # construct the full file path\n",
    "    result.to_csv(filepath, index=False)\n",
    "    print(f\"DataFrame from URL '{url}' saved to '{filepath}'\")"
   ]
  },
  {
   "cell_type": "code",
   "execution_count": 5,
   "metadata": {},
   "outputs": [
    {
     "name": "stdout",
     "output_type": "stream",
     "text": [
      "DataFrame from URL 'https://fbref.com/en/comps/Big5/misc/players/Big-5-European-Leagues-Stats' saved to '../data/raw/misc-stats_2023-2024.csv'\n",
      "DataFrame from URL 'https://fbref.com/en/comps/Big5/2022-2023/misc/players/2022-2023-Big-5-European-Leagues-Stats' saved to '../data/raw/misc-stats_2022-2023.csv'\n",
      "DataFrame from URL 'https://fbref.com/en/comps/Big5/2021-2022/misc/players/2021-2022-Big-5-European-Leagues-Stats' saved to '../data/raw/misc-stats_2021-2022.csv'\n"
     ]
    }
   ],
   "source": [
    "# URLs to process\n",
    "urls_misc = [\n",
    "    \"https://fbref.com/en/comps/Big5/misc/players/Big-5-European-Leagues-Stats\",\n",
    "    \"https://fbref.com/en/comps/Big5/2022-2023/misc/players/2022-2023-Big-5-European-Leagues-Stats\",\n",
    "    \"https://fbref.com/en/comps/Big5/2021-2022/misc/players/2021-2022-Big-5-European-Leagues-Stats\"\n",
    "]\n",
    "\n",
    "save_path = '../data/raw/'\n",
    "\n",
    "# process each URL and save the df to a CSV file\n",
    "for i, url in enumerate(urls_misc):\n",
    "    result = process_fbref_data(url)\n",
    "    filename = f'misc-stats_{2023 - i}-{2024 - i}.csv'  # generate filename based on the year\n",
    "    filepath = os.path.join(save_path, filename)  # construct the full file path\n",
    "    result.to_csv(filepath, index=False)\n",
    "    print(f\"DataFrame from URL '{url}' saved to '{filepath}'\")"
   ]
  },
  {
   "cell_type": "code",
   "execution_count": 6,
   "metadata": {},
   "outputs": [
    {
     "name": "stdout",
     "output_type": "stream",
     "text": [
      "DataFrame from URL 'https://fbref.com/en/comps/Big5/passing/players/Big-5-European-Leagues-Stats' saved to '../data/raw/passing-stats_2023-2024.csv'\n",
      "DataFrame from URL 'https://fbref.com/en/comps/Big5/2022-2023/passing/players/2022-2023-Big-5-European-Leagues-Stats' saved to '../data/raw/passing-stats_2022-2023.csv'\n",
      "DataFrame from URL 'https://fbref.com/en/comps/Big5/2021-2022/passing/players/2021-2022-Big-5-European-Leagues-Stats' saved to '../data/raw/passing-stats_2021-2022.csv'\n"
     ]
    }
   ],
   "source": [
    "# URLs to process\n",
    "urls_passing = [\n",
    "    \"https://fbref.com/en/comps/Big5/passing/players/Big-5-European-Leagues-Stats\",\n",
    "    \"https://fbref.com/en/comps/Big5/2022-2023/passing/players/2022-2023-Big-5-European-Leagues-Stats\",\n",
    "    \"https://fbref.com/en/comps/Big5/2021-2022/passing/players/2021-2022-Big-5-European-Leagues-Stats\"\n",
    "]\n",
    "\n",
    "save_path = '../data/raw/'\n",
    "\n",
    "# process each URL and save the df to a CSV file\n",
    "for i, url in enumerate(urls_passing):\n",
    "    result = process_fbref_data(url)\n",
    "    filename = f'passing-stats_{2023 - i}-{2024 - i}.csv'  # generate filename based on the year\n",
    "    filepath = os.path.join(save_path, filename)  # construct the full file path\n",
    "    result.to_csv(filepath, index=False)\n",
    "    print(f\"DataFrame from URL '{url}' saved to '{filepath}'\")"
   ]
  },
  {
   "cell_type": "code",
   "execution_count": 7,
   "metadata": {},
   "outputs": [
    {
     "name": "stdout",
     "output_type": "stream",
     "text": [
      "DataFrame from URL 'https://fbref.com/en/comps/Big5/possession/players/Big-5-European-Leagues-Stats' saved to '../data/raw/possession-stats_2023-2024.csv'\n",
      "DataFrame from URL 'https://fbref.com/en/comps/Big5/2022-2023/possession/players/2022-2023-Big-5-European-Leagues-Stats' saved to '../data/raw/possession-stats_2022-2023.csv'\n",
      "DataFrame from URL 'https://fbref.com/en/comps/Big5/2021-2022/possession/players/2021-2022-Big-5-European-Leagues-Stats' saved to '../data/raw/possession-stats_2021-2022.csv'\n"
     ]
    }
   ],
   "source": [
    "# URLs to process\n",
    "urls_possession = [\n",
    "    \"https://fbref.com/en/comps/Big5/possession/players/Big-5-European-Leagues-Stats\",\n",
    "    \"https://fbref.com/en/comps/Big5/2022-2023/possession/players/2022-2023-Big-5-European-Leagues-Stats\",\n",
    "    \"https://fbref.com/en/comps/Big5/2021-2022/possession/players/2021-2022-Big-5-European-Leagues-Stats\"\n",
    "]\n",
    "\n",
    "save_path = '../data/raw/'\n",
    "\n",
    "# process each URL and save the df to a CSV file\n",
    "for i, url in enumerate(urls_possession):\n",
    "    result = process_fbref_data(url)\n",
    "    filename = f'possession-stats_{2023 - i}-{2024 - i}.csv'  # generate filename based on the year\n",
    "    filepath = os.path.join(save_path, filename)  # construct the full file path\n",
    "    result.to_csv(filepath, index=False)\n",
    "    print(f\"DataFrame from URL '{url}' saved to '{filepath}'\")"
   ]
  },
  {
   "cell_type": "code",
   "execution_count": 8,
   "metadata": {},
   "outputs": [
    {
     "name": "stdout",
     "output_type": "stream",
     "text": [
      "DataFrame from URL 'https://fbref.com/en/comps/Big5/keepers/players/Big-5-European-Leagues-Stats' saved to '../data/raw/goalkeeping-stats_2023-2024.csv'\n",
      "DataFrame from URL 'https://fbref.com/en/comps/Big5/2022-2023/keepers/players/2022-2023-Big-5-European-Leagues-Stats' saved to '../data/raw/goalkeeping-stats_2022-2023.csv'\n",
      "DataFrame from URL 'https://fbref.com/en/comps/Big5/2021-2022/keepers/players/2021-2022-Big-5-European-Leagues-Stats' saved to '../data/raw/goalkeeping-stats_2021-2022.csv'\n"
     ]
    }
   ],
   "source": [
    "# URLs to process\n",
    "urls_goalkeeping = [\n",
    "    \"https://fbref.com/en/comps/Big5/keepers/players/Big-5-European-Leagues-Stats\",\n",
    "    \"https://fbref.com/en/comps/Big5/2022-2023/keepers/players/2022-2023-Big-5-European-Leagues-Stats\",\n",
    "    \"https://fbref.com/en/comps/Big5/2021-2022/keepers/players/2021-2022-Big-5-European-Leagues-Stats\"\n",
    "]\n",
    "\n",
    "save_path = '../data/raw/'\n",
    "\n",
    "# process each URL and save the df to a CSV file\n",
    "for i, url in enumerate(urls_goalkeeping):\n",
    "    result = process_fbref_data(url)\n",
    "    filename = f'goalkeeping-stats_{2023 - i}-{2024 - i}.csv'  # generate filename based on the year\n",
    "    filepath = os.path.join(save_path, filename)  # construct the full file path\n",
    "    result.to_csv(filepath, index=False)\n",
    "    print(f\"DataFrame from URL '{url}' saved to '{filepath}'\")"
   ]
  },
  {
   "cell_type": "markdown",
   "metadata": {},
   "source": [
    "##### **Data Preparation**"
   ]
  },
  {
   "cell_type": "code",
   "execution_count": 9,
   "metadata": {},
   "outputs": [
    {
     "name": "stdout",
     "output_type": "stream",
     "text": [
      "Loaded dataframe from '../data/raw/defensive-stats_2021-2022.csv'\n",
      "Loaded dataframe from '../data/raw/defensive-stats_2022-2023.csv'\n",
      "Loaded dataframe from '../data/raw/defensive-stats_2023-2024.csv'\n",
      "Loaded dataframe from '../data/raw/goalkeeping-stats_2021-2022.csv'\n",
      "Loaded dataframe from '../data/raw/goalkeeping-stats_2022-2023.csv'\n",
      "Loaded dataframe from '../data/raw/goalkeeping-stats_2023-2024.csv'\n",
      "Loaded dataframe from '../data/raw/misc-stats_2021-2022.csv'\n",
      "Loaded dataframe from '../data/raw/misc-stats_2022-2023.csv'\n",
      "Loaded dataframe from '../data/raw/misc-stats_2023-2024.csv'\n",
      "Loaded dataframe from '../data/raw/passing-stats_2021-2022.csv'\n",
      "Loaded dataframe from '../data/raw/passing-stats_2022-2023.csv'\n",
      "Loaded dataframe from '../data/raw/passing-stats_2023-2024.csv'\n",
      "Loaded dataframe from '../data/raw/possession-stats_2021-2022.csv'\n",
      "Loaded dataframe from '../data/raw/possession-stats_2022-2023.csv'\n",
      "Loaded dataframe from '../data/raw/possession-stats_2023-2024.csv'\n",
      "Loaded dataframe from '../data/raw/standard-stats_2021-2022.csv'\n",
      "Loaded dataframe from '../data/raw/standard-stats_2022-2023.csv'\n",
      "Loaded dataframe from '../data/raw/standard-stats_2023-2024.csv'\n"
     ]
    }
   ],
   "source": [
    "save_path = '../data/raw/'\n",
    "filenames = os.listdir(save_path)\n",
    "\n",
    "dataframes = {}\n",
    "for filename in filenames:\n",
    "    if filename.endswith(\".csv\"):\n",
    "        filepath = os.path.join(save_path, filename)\n",
    "        df = pd.read_csv(filepath)\n",
    "        dataframes[filename] = df\n",
    "        print(f\"Loaded dataframe from '{filepath}'\")"
   ]
  },
  {
   "cell_type": "code",
   "execution_count": 10,
   "metadata": {},
   "outputs": [],
   "source": [
    "#dataframes['standard-stats_2023-2024.csv'].head()\n",
    "#dataframes['defensive-stats_2023-2024.csv'].head()\n",
    "#dataframes['misc-stats_2023-2024.csv'].head()\n",
    "#dataframes['passing-stats_2023-2024.csv'].head()\n",
    "#dataframes['possession-stats_2023-2024.csv'].head()"
   ]
  },
  {
   "cell_type": "code",
   "execution_count": 11,
   "metadata": {},
   "outputs": [
    {
     "data": {
      "text/plain": [
       "Index(['Player', 'Nation', 'Squad', 'Age', 'Born', 'Playing Time MP',\n",
       "       'Playing Time Starts', 'Playing Time Min', 'Playing Time 90s',\n",
       "       'Performance Gls', 'Performance Ast', 'Performance G+A',\n",
       "       'Performance G-PK', 'Performance PK', 'Performance PKatt',\n",
       "       'Performance CrdY', 'Performance CrdR', 'Expected xG', 'Expected npxG',\n",
       "       'Expected xAG', 'Expected npxG+xAG', 'Progression PrgC',\n",
       "       'Progression PrgP', 'Progression PrgR', 'Per 90 Minutes Gls',\n",
       "       'Per 90 Minutes Ast', 'Per 90 Minutes G+A', 'Per 90 Minutes G-PK',\n",
       "       'Per 90 Minutes G+A-PK', 'Per 90 Minutes xG', 'Per 90 Minutes xAG',\n",
       "       'Per 90 Minutes xG+xAG', 'Per 90 Minutes npxG',\n",
       "       'Per 90 Minutes npxG+xAG', 'Position', 'League'],\n",
       "      dtype='object')"
      ]
     },
     "execution_count": 11,
     "metadata": {},
     "output_type": "execute_result"
    }
   ],
   "source": [
    "# Standard\n",
    "dataframes['standard-stats_2023-2024.csv'].columns"
   ]
  },
  {
   "cell_type": "code",
   "execution_count": 12,
   "metadata": {},
   "outputs": [],
   "source": [
    "# remove columns already included in other dfs\n",
    "# 'Per 90 Minutes G+A-PK', 'Per 90 Minutes xG+xAG' are missing from full metrics\n",
    "dataframes['standard-stats_2023-2024.csv'].drop(columns=['Per 90 Minutes Gls', 'Per 90 Minutes Ast', 'Per 90 Minutes G+A', 'Per 90 Minutes G-PK',\n",
    "       'Per 90 Minutes G+A-PK', 'Per 90 Minutes xG', 'Per 90 Minutes xAG', 'Per 90 Minutes xG+xAG', 'Per 90 Minutes npxG', 'Per 90 Minutes npxG+xAG',], inplace=True)\n",
    "dataframes['standard-stats_2022-2023.csv'].drop(columns=['Per 90 Minutes Gls', 'Per 90 Minutes Ast', 'Per 90 Minutes G+A', 'Per 90 Minutes G-PK',\n",
    "       'Per 90 Minutes G+A-PK', 'Per 90 Minutes xG', 'Per 90 Minutes xAG', 'Per 90 Minutes xG+xAG', 'Per 90 Minutes npxG', 'Per 90 Minutes npxG+xAG',], inplace=True)\n",
    "dataframes['standard-stats_2021-2022.csv'].drop(columns=['Per 90 Minutes Gls', 'Per 90 Minutes Ast', 'Per 90 Minutes G+A', 'Per 90 Minutes G-PK',\n",
    "       'Per 90 Minutes G+A-PK', 'Per 90 Minutes xG', 'Per 90 Minutes xAG', 'Per 90 Minutes xG+xAG', 'Per 90 Minutes npxG', 'Per 90 Minutes npxG+xAG',], inplace=True)"
   ]
  },
  {
   "cell_type": "code",
   "execution_count": 13,
   "metadata": {},
   "outputs": [
    {
     "data": {
      "text/plain": [
       "Index(['Player', 'Nation', 'Squad', 'Age', 'Born', '90s', 'Tackles Tkl',\n",
       "       'Tackles TklW', 'Tackles Def 3rd', 'Tackles Mid 3rd', 'Tackles Att 3rd',\n",
       "       'Challenges Tkl', 'Challenges Att', 'Challenges Tkl%',\n",
       "       'Challenges Lost', 'Blocks Blocks', 'Blocks Sh', 'Blocks Pass', 'Int',\n",
       "       'Tkl+Int', 'Clr', 'Err', 'Position', 'League'],\n",
       "      dtype='object')"
      ]
     },
     "execution_count": 13,
     "metadata": {},
     "output_type": "execute_result"
    }
   ],
   "source": [
    "# Defensive\n",
    "dataframes['defensive-stats_2023-2024.csv'].columns"
   ]
  },
  {
   "cell_type": "code",
   "execution_count": 14,
   "metadata": {},
   "outputs": [],
   "source": [
    "# remove columns already included in other dfs\n",
    "dataframes['defensive-stats_2023-2024.csv'].drop(columns=['90s'], inplace=True)\n",
    "dataframes['defensive-stats_2022-2023.csv'].drop(columns=['90s'], inplace=True)\n",
    "dataframes['defensive-stats_2021-2022.csv'].drop(columns=['90s'], inplace=True)"
   ]
  },
  {
   "cell_type": "code",
   "execution_count": 15,
   "metadata": {},
   "outputs": [
    {
     "data": {
      "text/plain": [
       "Index(['Player', 'Nation', 'Squad', 'Age', 'Born', '90s', 'Performance CrdY',\n",
       "       'Performance CrdR', 'Performance 2CrdY', 'Performance Fls',\n",
       "       'Performance Fld', 'Performance Off', 'Performance Crs',\n",
       "       'Performance Int', 'Performance TklW', 'Performance PKwon',\n",
       "       'Performance PKcon', 'Performance OG', 'Performance Recov',\n",
       "       'Aerial Duels Won', 'Aerial Duels Lost', 'Aerial Duels Won%',\n",
       "       'Position', 'League'],\n",
       "      dtype='object')"
      ]
     },
     "execution_count": 15,
     "metadata": {},
     "output_type": "execute_result"
    }
   ],
   "source": [
    "# Miscellaneous\n",
    "dataframes['misc-stats_2023-2024.csv'].columns"
   ]
  },
  {
   "cell_type": "code",
   "execution_count": 16,
   "metadata": {},
   "outputs": [],
   "source": [
    "# remove columns already included in other dfs\n",
    "dataframes['misc-stats_2023-2024.csv'].drop(columns=['90s', 'Performance CrdY', 'Performance CrdR', 'Performance 2CrdY', 'Performance Int', 'Performance TklW'], inplace=True)\n",
    "dataframes['misc-stats_2022-2023.csv'].drop(columns=['90s', 'Performance CrdY', 'Performance CrdR', 'Performance 2CrdY', 'Performance Int', 'Performance TklW'], inplace=True)\n",
    "dataframes['misc-stats_2021-2022.csv'].drop(columns=['90s', 'Performance CrdY', 'Performance CrdR', 'Performance 2CrdY', 'Performance Int', 'Performance TklW'], inplace=True)"
   ]
  },
  {
   "cell_type": "code",
   "execution_count": 17,
   "metadata": {},
   "outputs": [
    {
     "data": {
      "text/plain": [
       "Index(['Player', 'Nation', 'Squad', 'Age', 'Born', '90s', 'Total Cmp',\n",
       "       'Total Att', 'Total Cmp%', 'Total TotDist', 'Total PrgDist',\n",
       "       'Short Cmp', 'Short Att', 'Short Cmp%', 'Medium Cmp', 'Medium Att',\n",
       "       'Medium Cmp%', 'Long Cmp', 'Long Att', 'Long Cmp%', 'Ast', 'xAG',\n",
       "       'Expected xA', 'Expected A-xAG', 'KP', '1/3', 'PPA', 'CrsPA', 'PrgP',\n",
       "       'Position', 'League'],\n",
       "      dtype='object')"
      ]
     },
     "execution_count": 17,
     "metadata": {},
     "output_type": "execute_result"
    }
   ],
   "source": [
    "# Passing\n",
    "dataframes['passing-stats_2023-2024.csv'].columns"
   ]
  },
  {
   "cell_type": "code",
   "execution_count": 18,
   "metadata": {},
   "outputs": [],
   "source": [
    "# remove columns already included in other dfs\n",
    "dataframes['passing-stats_2023-2024.csv'].drop(columns=['90s', 'Ast', 'xAG', 'PrgP'], inplace=True)\n",
    "dataframes['passing-stats_2022-2023.csv'].drop(columns=['90s', 'Ast', 'xAG', 'PrgP'], inplace=True)\n",
    "dataframes['passing-stats_2021-2022.csv'].drop(columns=['90s', 'Ast', 'xAG', 'PrgP'], inplace=True)"
   ]
  },
  {
   "cell_type": "code",
   "execution_count": 19,
   "metadata": {},
   "outputs": [
    {
     "data": {
      "text/plain": [
       "Index(['Player', 'Nation', 'Squad', 'Age', 'Born', '90s', 'Touches Touches',\n",
       "       'Touches Def Pen', 'Touches Def 3rd', 'Touches Mid 3rd',\n",
       "       'Touches Att 3rd', 'Touches Att Pen', 'Touches Live', 'Take-Ons Att',\n",
       "       'Take-Ons Succ', 'Take-Ons Succ%', 'Take-Ons Tkld', 'Take-Ons Tkld%',\n",
       "       'Carries Carries', 'Carries TotDist', 'Carries PrgDist', 'Carries PrgC',\n",
       "       'Carries 1/3', 'Carries CPA', 'Carries Mis', 'Carries Dis',\n",
       "       'Receiving Rec', 'Receiving PrgR', 'Position', 'League'],\n",
       "      dtype='object')"
      ]
     },
     "execution_count": 19,
     "metadata": {},
     "output_type": "execute_result"
    }
   ],
   "source": [
    "# Possession\n",
    "dataframes['possession-stats_2023-2024.csv'].columns"
   ]
  },
  {
   "cell_type": "code",
   "execution_count": 20,
   "metadata": {},
   "outputs": [],
   "source": [
    "# remove columns already included in other dfs\n",
    "dataframes['possession-stats_2023-2024.csv'].drop(columns=['90s'], inplace=True)\n",
    "dataframes['possession-stats_2022-2023.csv'].drop(columns=['90s'], inplace=True)\n",
    "dataframes['possession-stats_2021-2022.csv'].drop(columns=['90s'], inplace=True)"
   ]
  },
  {
   "cell_type": "code",
   "execution_count": 21,
   "metadata": {},
   "outputs": [
    {
     "data": {
      "text/plain": [
       "Index(['Player', 'Nation', 'Squad', 'Age', 'Born', 'Playing Time MP',\n",
       "       'Playing Time Starts', 'Playing Time Min', '90s', 'Performance GA',\n",
       "       'Performance GA90', 'Performance SoTA', 'Performance Saves',\n",
       "       'Performance Save%', 'Performance W', 'Performance D', 'Performance L',\n",
       "       'Performance CS', 'Performance CS%', 'Penalty Kicks PKatt',\n",
       "       'Penalty Kicks PKA', 'Penalty Kicks PKsv', 'Penalty Kicks PKm',\n",
       "       'Penalty Kicks Save%', 'Position', 'League'],\n",
       "      dtype='object')"
      ]
     },
     "execution_count": 21,
     "metadata": {},
     "output_type": "execute_result"
    }
   ],
   "source": [
    "# Goalkeeping\n",
    "dataframes['goalkeeping-stats_2023-2024.csv'].columns"
   ]
  },
  {
   "cell_type": "code",
   "execution_count": 22,
   "metadata": {},
   "outputs": [],
   "source": [
    "# remove columns already included in other dfs or not relevant\n",
    "dataframes['goalkeeping-stats_2023-2024.csv'].drop(columns=['Playing Time MP', 'Playing Time Starts', 'Playing Time Min', '90s', 'Performance GA90', 'Performance W', 'Performance D', 'Performance L', 'Penalty Kicks PKatt',\n",
    "       'Penalty Kicks PKA', 'Penalty Kicks PKm'], inplace=True)\n",
    "dataframes['goalkeeping-stats_2022-2023.csv'].drop(columns=['Playing Time MP', 'Playing Time Starts', 'Playing Time Min', '90s', 'Performance GA90', 'Performance W', 'Performance D', 'Performance L', 'Penalty Kicks PKatt',\n",
    "       'Penalty Kicks PKA', 'Penalty Kicks PKm'], inplace=True)\n",
    "dataframes['goalkeeping-stats_2021-2022.csv'].drop(columns=['Playing Time MP', 'Playing Time Starts', 'Playing Time Min', '90s', 'Performance GA90', 'Performance W', 'Performance D', 'Performance L', 'Penalty Kicks PKatt',\n",
    "       'Penalty Kicks PKA', 'Penalty Kicks PKm'], inplace=True)"
   ]
  },
  {
   "cell_type": "code",
   "execution_count": 23,
   "metadata": {},
   "outputs": [
    {
     "name": "stdout",
     "output_type": "stream",
     "text": [
      "Dataframe defensive-stats for 2021:\n",
      "Columns with null values:\n",
      "Nation    116\n",
      "League    639\n",
      "dtype: int64\n",
      "-------------------------\n",
      "Dataframe defensive-stats for 2022:\n",
      "Columns with null values:\n",
      "Nation    115\n",
      "League    630\n",
      "dtype: int64\n",
      "-------------------------\n",
      "Dataframe defensive-stats for 2023:\n",
      "Columns with null values:\n",
      "Nation    119\n",
      "Age         5\n",
      "League    621\n",
      "dtype: int64\n",
      "-------------------------\n",
      "Dataframe goalkeeping-stats for 2021:\n",
      "Columns with null values:\n",
      "Nation     8\n",
      "League    49\n",
      "dtype: int64\n",
      "-------------------------\n",
      "Dataframe goalkeeping-stats for 2022:\n",
      "Columns with null values:\n",
      "Nation     8\n",
      "League    43\n",
      "dtype: int64\n",
      "-------------------------\n",
      "Dataframe goalkeeping-stats for 2023:\n",
      "Columns with null values:\n",
      "Nation     8\n",
      "League    41\n",
      "dtype: int64\n",
      "-------------------------\n",
      "Dataframe misc-stats for 2021:\n",
      "Columns with null values:\n",
      "Nation    116\n",
      "League    639\n",
      "dtype: int64\n",
      "-------------------------\n",
      "Dataframe misc-stats for 2022:\n",
      "Columns with null values:\n",
      "Nation    115\n",
      "League    630\n",
      "dtype: int64\n",
      "-------------------------\n",
      "Dataframe misc-stats for 2023:\n",
      "Columns with null values:\n",
      "Nation    119\n",
      "Age         5\n",
      "League    621\n",
      "dtype: int64\n",
      "-------------------------\n",
      "Dataframe passing-stats for 2021:\n",
      "Columns with null values:\n",
      "Nation    116\n",
      "League    639\n",
      "dtype: int64\n",
      "-------------------------\n",
      "Dataframe passing-stats for 2022:\n",
      "Columns with null values:\n",
      "Nation    115\n",
      "League    630\n",
      "dtype: int64\n",
      "-------------------------\n",
      "Dataframe passing-stats for 2023:\n",
      "Columns with null values:\n",
      "Nation    119\n",
      "Age         5\n",
      "League    621\n",
      "dtype: int64\n",
      "-------------------------\n",
      "Dataframe possession-stats for 2021:\n",
      "Columns with null values:\n",
      "Nation    116\n",
      "League    639\n",
      "dtype: int64\n",
      "-------------------------\n",
      "Dataframe possession-stats for 2022:\n",
      "Columns with null values:\n",
      "Nation    115\n",
      "League    630\n",
      "dtype: int64\n",
      "-------------------------\n",
      "Dataframe possession-stats for 2023:\n",
      "Columns with null values:\n",
      "Nation    119\n",
      "Age         5\n",
      "League    621\n",
      "dtype: int64\n",
      "-------------------------\n",
      "Dataframe standard-stats for 2021:\n",
      "Columns with null values:\n",
      "Nation    116\n",
      "League    639\n",
      "dtype: int64\n",
      "-------------------------\n",
      "Dataframe standard-stats for 2022:\n",
      "Columns with null values:\n",
      "Nation    115\n",
      "League    630\n",
      "dtype: int64\n",
      "-------------------------\n",
      "Dataframe standard-stats for 2023:\n",
      "Columns with null values:\n",
      "Nation    119\n",
      "Age         5\n",
      "League    621\n",
      "dtype: int64\n",
      "-------------------------\n"
     ]
    }
   ],
   "source": [
    "# loop through each dataframe\n",
    "for filename, df in dataframes.items():\n",
    "    year = int(filename.split('_')[1].split('-')[0])  # extract the year from the filename\n",
    "    dataframe_name = filename.split('_')[0]  # extract the dataframe name from the filename\n",
    "    \n",
    "    # check for null values and sum them for each column\n",
    "    null_counts = df.isna().sum()\n",
    "    \n",
    "    # filter to show only the columns with null values\n",
    "    null_counts_filtered = null_counts[null_counts > 0]\n",
    "    \n",
    "    # display the dataframe year and name\n",
    "    print(f\"Dataframe {dataframe_name} for {year}:\")\n",
    "    \n",
    "    # display the columns with null values\n",
    "    if not null_counts_filtered.empty:\n",
    "        print(\"Columns with null values:\")\n",
    "        print(null_counts_filtered)\n",
    "    else:\n",
    "        print(\"No null values in any column.\")\n",
    "    \n",
    "    # separate output for each dataframe\n",
    "    print('-' * 25)"
   ]
  },
  {
   "cell_type": "code",
   "execution_count": 24,
   "metadata": {},
   "outputs": [
    {
     "name": "stdout",
     "output_type": "stream",
     "text": [
      "Rows where 'Age' is null:\n",
      "                Player Nation        Squad  Age Born\n",
      "1854     Max Moerstedt    GER   Hoffenheim  NaN    0\n",
      "2155  Marco Pellegrino    NaN  Salernitana  NaN    0\n",
      "2156  Marco Pellegrino    NaN        Milan  NaN    0\n",
      "2399       Pablo Saenz    NaN      Granada  NaN    0\n",
      "2629      Max Svensson    ESP      Osasuna  NaN    0\n"
     ]
    }
   ],
   "source": [
    "#column_to_check = 'League' # all Bundesliga\n",
    "#column_to_check = 'Nation' # in web, the main table is divided in multiple tables, so null rows are headers of each table\n",
    "column_to_check = 'Age'\n",
    "\n",
    "null_rows = dataframes['standard-stats_2023-2024.csv'].loc[dataframes['standard-stats_2023-2024.csv'][column_to_check].isnull()]\n",
    "\n",
    "print(\"Rows where '{}' is null:\".format(column_to_check))\n",
    "print(null_rows[['Player', 'Nation', 'Squad', 'Age', 'Born']])"
   ]
  },
  {
   "cell_type": "code",
   "execution_count": 25,
   "metadata": {},
   "outputs": [
    {
     "name": "stdout",
     "output_type": "stream",
     "text": [
      "Filled null values in 'League' column of defensive-stats with 'Bundesliga'.\n",
      "Filled null values in 'League' column of defensive-stats with 'Bundesliga'.\n",
      "Filled null values in 'League' column of defensive-stats with 'Bundesliga'.\n",
      "Filled null values in 'League' column of goalkeeping-stats with 'Bundesliga'.\n",
      "Filled null values in 'League' column of goalkeeping-stats with 'Bundesliga'.\n",
      "Filled null values in 'League' column of goalkeeping-stats with 'Bundesliga'.\n",
      "Filled null values in 'League' column of misc-stats with 'Bundesliga'.\n",
      "Filled null values in 'League' column of misc-stats with 'Bundesliga'.\n",
      "Filled null values in 'League' column of misc-stats with 'Bundesliga'.\n",
      "Filled null values in 'League' column of passing-stats with 'Bundesliga'.\n",
      "Filled null values in 'League' column of passing-stats with 'Bundesliga'.\n",
      "Filled null values in 'League' column of passing-stats with 'Bundesliga'.\n",
      "Filled null values in 'League' column of possession-stats with 'Bundesliga'.\n",
      "Filled null values in 'League' column of possession-stats with 'Bundesliga'.\n",
      "Filled null values in 'League' column of possession-stats with 'Bundesliga'.\n",
      "Filled null values in 'League' column of standard-stats with 'Bundesliga'.\n",
      "Filled null values in 'League' column of standard-stats with 'Bundesliga'.\n",
      "Filled null values in 'League' column of standard-stats with 'Bundesliga'.\n"
     ]
    }
   ],
   "source": [
    "# null 1 (all Bundesliga)\n",
    "\n",
    "# loop through each dataframe\n",
    "for filename, df in dataframes.items():\n",
    "    dataframe_name = filename.split('_')[0]  # extract the dataframe name from the filename\n",
    "    \n",
    "    # fill null values in the 'League' column\n",
    "    df['League'] = df['League'].fillna('Bundesliga')\n",
    "    \n",
    "    # print a message to indicate that the operation has been performed\n",
    "    print(f\"Filled null values in 'League' column of {dataframe_name} with 'Bundesliga'.\")"
   ]
  },
  {
   "cell_type": "code",
   "execution_count": 26,
   "metadata": {},
   "outputs": [
    {
     "name": "stdout",
     "output_type": "stream",
     "text": [
      "Before removal: defensive-stats_2021-2022.csv\n",
      "(3036, 23)\n",
      "After removal: defensive-stats_2021-2022.csv\n",
      "(2920, 23)\n",
      "\n",
      "Before removal: defensive-stats_2022-2023.csv\n",
      "(3004, 23)\n",
      "After removal: defensive-stats_2022-2023.csv\n",
      "(2889, 23)\n",
      "\n",
      "Before removal: defensive-stats_2023-2024.csv\n",
      "(2966, 23)\n",
      "After removal: defensive-stats_2023-2024.csv\n",
      "(2852, 23)\n",
      "\n",
      "Before removal: goalkeeping-stats_2021-2022.csv\n",
      "(226, 15)\n",
      "After removal: goalkeeping-stats_2021-2022.csv\n",
      "(218, 15)\n",
      "\n",
      "Before removal: goalkeeping-stats_2022-2023.csv\n",
      "(216, 15)\n",
      "After removal: goalkeeping-stats_2022-2023.csv\n",
      "(208, 15)\n",
      "\n",
      "Before removal: goalkeeping-stats_2023-2024.csv\n",
      "(211, 15)\n",
      "After removal: goalkeeping-stats_2023-2024.csv\n",
      "(203, 15)\n",
      "\n",
      "Before removal: misc-stats_2021-2022.csv\n",
      "(3036, 18)\n",
      "After removal: misc-stats_2021-2022.csv\n",
      "(2920, 18)\n",
      "\n",
      "Before removal: misc-stats_2022-2023.csv\n",
      "(3004, 18)\n",
      "After removal: misc-stats_2022-2023.csv\n",
      "(2889, 18)\n",
      "\n",
      "Before removal: misc-stats_2023-2024.csv\n",
      "(2966, 18)\n",
      "After removal: misc-stats_2023-2024.csv\n",
      "(2852, 18)\n",
      "\n",
      "Before removal: passing-stats_2021-2022.csv\n",
      "(3036, 27)\n",
      "After removal: passing-stats_2021-2022.csv\n",
      "(2920, 27)\n",
      "\n",
      "Before removal: passing-stats_2022-2023.csv\n",
      "(3004, 27)\n",
      "After removal: passing-stats_2022-2023.csv\n",
      "(2889, 27)\n",
      "\n",
      "Before removal: passing-stats_2023-2024.csv\n",
      "(2966, 27)\n",
      "After removal: passing-stats_2023-2024.csv\n",
      "(2852, 27)\n",
      "\n",
      "Before removal: possession-stats_2021-2022.csv\n",
      "(3036, 29)\n",
      "After removal: possession-stats_2021-2022.csv\n",
      "(2920, 29)\n",
      "\n",
      "Before removal: possession-stats_2022-2023.csv\n",
      "(3004, 29)\n",
      "After removal: possession-stats_2022-2023.csv\n",
      "(2889, 29)\n",
      "\n",
      "Before removal: possession-stats_2023-2024.csv\n",
      "(2966, 29)\n",
      "After removal: possession-stats_2023-2024.csv\n",
      "(2852, 29)\n",
      "\n",
      "Before removal: standard-stats_2021-2022.csv\n",
      "(3036, 26)\n",
      "After removal: standard-stats_2021-2022.csv\n",
      "(2920, 26)\n",
      "\n",
      "Before removal: standard-stats_2022-2023.csv\n",
      "(3004, 26)\n",
      "After removal: standard-stats_2022-2023.csv\n",
      "(2889, 26)\n",
      "\n",
      "Before removal: standard-stats_2023-2024.csv\n",
      "(2966, 26)\n",
      "After removal: standard-stats_2023-2024.csv\n",
      "(2852, 26)\n",
      "\n"
     ]
    }
   ],
   "source": [
    "# null 2 (all headers)\n",
    "term_to_remove = 'Player'\n",
    "\n",
    "# loop through each dataframe\n",
    "for filename, df in dataframes.items():\n",
    "    print(f\"Before removal: {filename}\")\n",
    "    print(df.shape)\n",
    "        \n",
    "    # remove rows containing the term from 'Player' column\n",
    "    df.drop(df[df['Player'].str.contains(term_to_remove, na=False)].index, inplace=True)\n",
    "    \n",
    "    print(f\"After removal: {filename}\")\n",
    "    print(df.shape)\n",
    "    print('')"
   ]
  },
  {
   "cell_type": "code",
   "execution_count": 27,
   "metadata": {},
   "outputs": [
    {
     "name": "stdout",
     "output_type": "stream",
     "text": [
      "Rows where 'Nation' is null:\n",
      "                 Player Nation        Squad  Age  Born\n",
      "986     Santiago García    NaN       Getafe   21  2001\n",
      "1449  Mahmut Kücüksahin    NaN     Augsburg   19  2004\n",
      "2155   Marco Pellegrino    NaN  Salernitana  NaN     0\n",
      "2156   Marco Pellegrino    NaN        Milan  NaN     0\n",
      "2399        Pablo Saenz    NaN      Granada  NaN     0\n"
     ]
    }
   ],
   "source": [
    "#column_to_check = 'Age'\n",
    "column_to_check = 'Nation'\n",
    "\n",
    "null_rows = dataframes['standard-stats_2023-2024.csv'].loc[dataframes['standard-stats_2023-2024.csv'][column_to_check].isnull()]\n",
    "#null_rows = dataframes['defensive-stats_2023-2024.csv'].loc[dataframes['defensive-stats_2023-2024.csv'][column_to_check].isnull()]\n",
    "#null_rows = dataframes['misc-stats_2023-2024.csv'].loc[dataframes['misc-stats_2023-2024.csv'][column_to_check].isnull()]\n",
    "#null_rows = dataframes['passing-stats_2023-2024.csv'].loc[dataframes['passing-stats_2023-2024.csv'][column_to_check].isnull()]\n",
    "#null_rows = dataframes['possession-stats_2023-2024.csv'].loc[dataframes['possession-stats_2023-2024.csv'][column_to_check].isnull()]\n",
    "\n",
    "print(\"Rows where '{}' is null:\".format(column_to_check))\n",
    "print(null_rows[['Player', 'Nation', 'Squad', 'Age', 'Born']])"
   ]
  },
  {
   "cell_type": "code",
   "execution_count": 28,
   "metadata": {},
   "outputs": [
    {
     "data": {
      "text/plain": [
       "'\\nAGE\\n1854     Max Moerstedt    GER   Hoffenheim  NaN    0\\n2155  Marco Pellegrino    NaN  Salernitana  NaN    0\\n2156  Marco Pellegrino    NaN        Milan  NaN    0\\n2399       Pablo Saenz    NaN      Granada  NaN    0\\n2629      Max Svensson    ESP      Osasuna  NaN    0\\n\\nNATION\\n986     Santiago García    NaN       Getafe   21  2001\\n1449  Mahmut Kücüksahin    NaN     Augsburg   19  2004\\n2155   Marco Pellegrino    NaN  Salernitana  NaN     0\\n2156   Marco Pellegrino    NaN        Milan  NaN     0\\n2399        Pablo Saenz    NaN      Granada  NaN     0\\n\\n# Max Moerstedt - Hoffenheim\\n\\'Age\\' = 18\\n\\'Born\\' = 2006\\n# Santiago García - Getafe\\n\\'Nation\\' = \"ARG\"\\n# Marco Pellegrino - Salernitana\\n\\'Nation\\' = \"ARG\"\\n\\'Age\\' = 21\\n\\'Born\\' = 2002\\n# Marco Pellegrino - Milan\\n\\'Nation\\' = \"ARG\"\\n\\'Age\\' = 21\\n\\'Born\\' = 2002\\n# Pablo Saenz - Granada\\n\\'Nation\\' = \"ESP\"\\n\\'Age\\' = 23\\n\\'Born\\' = 2001\\n# Max Svensson - Osasuna\\n\\'Age\\' = 22\\n\\'Born\\' = 2001\\n# Mahmut Kücüksahin - Augsburg\\n\\'Nation\\' = \"TUR\"\\n'"
      ]
     },
     "execution_count": 28,
     "metadata": {},
     "output_type": "execute_result"
    }
   ],
   "source": [
    "'''\n",
    "AGE\n",
    "1854     Max Moerstedt    GER   Hoffenheim  NaN    0\n",
    "2155  Marco Pellegrino    NaN  Salernitana  NaN    0\n",
    "2156  Marco Pellegrino    NaN        Milan  NaN    0\n",
    "2399       Pablo Saenz    NaN      Granada  NaN    0\n",
    "2629      Max Svensson    ESP      Osasuna  NaN    0\n",
    "\n",
    "NATION\n",
    "986     Santiago García    NaN       Getafe   21  2001\n",
    "1449  Mahmut Kücüksahin    NaN     Augsburg   19  2004\n",
    "2155   Marco Pellegrino    NaN  Salernitana  NaN     0\n",
    "2156   Marco Pellegrino    NaN        Milan  NaN     0\n",
    "2399        Pablo Saenz    NaN      Granada  NaN     0\n",
    "\n",
    "# Max Moerstedt - Hoffenheim\n",
    "'Age' = 18\n",
    "'Born' = 2006\n",
    "# Santiago García - Getafe\n",
    "'Nation' = \"ARG\"\n",
    "# Marco Pellegrino - Salernitana\n",
    "'Nation' = \"ARG\"\n",
    "'Age' = 21\n",
    "'Born' = 2002\n",
    "# Marco Pellegrino - Milan\n",
    "'Nation' = \"ARG\"\n",
    "'Age' = 21\n",
    "'Born' = 2002\n",
    "# Pablo Saenz - Granada\n",
    "'Nation' = \"ESP\"\n",
    "'Age' = 23\n",
    "'Born' = 2001\n",
    "# Max Svensson - Osasuna\n",
    "'Age' = 22\n",
    "'Born' = 2001\n",
    "# Mahmut Kücüksahin - Augsburg\n",
    "'Nation' = \"TUR\"\n",
    "'''"
   ]
  },
  {
   "cell_type": "code",
   "execution_count": 29,
   "metadata": {},
   "outputs": [
    {
     "name": "stdout",
     "output_type": "stream",
     "text": [
      "Corrected defensive-stats for 2021\n",
      "Corrected defensive-stats for 2022\n",
      "Corrected defensive-stats for 2023\n",
      "Corrected goalkeeping-stats for 2021\n",
      "Corrected goalkeeping-stats for 2022\n",
      "Corrected goalkeeping-stats for 2023\n",
      "Corrected misc-stats for 2021\n",
      "Corrected misc-stats for 2022\n",
      "Corrected misc-stats for 2023\n",
      "Corrected passing-stats for 2021\n",
      "Corrected passing-stats for 2022\n",
      "Corrected passing-stats for 2023\n",
      "Corrected possession-stats for 2021\n",
      "Corrected possession-stats for 2022\n",
      "Corrected possession-stats for 2023\n",
      "Corrected standard-stats for 2021\n",
      "Corrected standard-stats for 2022\n",
      "Corrected standard-stats for 2023\n"
     ]
    }
   ],
   "source": [
    "# null 3 (nation and age)\n",
    "\n",
    "# define the corrections for each year\n",
    "corrections = {\n",
    "    2021: {},\n",
    "    2022: {},\n",
    "    2023: {\n",
    "        986: {'Nation': \"ESP\"},\n",
    "        1854: {'Age': 18, 'Born': 2006},\n",
    "        2155: {'Nation': \"ARG\", 'Age': 21, 'Born': 2002},\n",
    "        2156: {'Nation': \"ARG\", 'Age': 21, 'Born': 2002},\n",
    "        2399: {'Nation': \"ESP\", 'Age': 23, 'Born': 2001},\n",
    "        2629: {'Age': 22, 'Born': 2001},\n",
    "        1449: {'Nation': \"TUR\"}\n",
    "    }\n",
    "}\n",
    "\n",
    "# loop through each dataframe\n",
    "for filename, df in dataframes.items():\n",
    "    year = int(filename.split('_')[1].split('-')[0])  # extract the year from the filename\n",
    "    dataframe_name = filename.split('_')[0]  # extract the dataframe name from the filename\n",
    "    \n",
    "    # apply corrections for the current year\n",
    "    if year in corrections:\n",
    "        for index, corrections_dict in corrections[year].items():\n",
    "            for column, value in corrections_dict.items():\n",
    "                df.loc[index, column] = value\n",
    "    \n",
    "    print(f\"Corrected {dataframe_name} for {year}\")"
   ]
  },
  {
   "cell_type": "code",
   "execution_count": 30,
   "metadata": {},
   "outputs": [
    {
     "data": {
      "text/plain": [
       "\"print(dataframes['standard-stats_2023-2024.csv'].dtypes)\\nprint('')\\nprint(dataframes['defensive-stats_2023-2024.csv'].dtypes)\\nprint('')\\nprint(dataframes['misc-stats_2023-2024.csv'].dtypes)\\nprint('')\\nprint(dataframes['passing-stats_2023-2024.csv'].dtypes)\\nprint('')\\nprint(dataframes['possession-stats_2023-2024.csv'].dtypes)\""
      ]
     },
     "execution_count": 30,
     "metadata": {},
     "output_type": "execute_result"
    }
   ],
   "source": [
    "# all columns are 'object'\n",
    "'''print(dataframes['standard-stats_2023-2024.csv'].dtypes)\n",
    "print('')\n",
    "print(dataframes['defensive-stats_2023-2024.csv'].dtypes)\n",
    "print('')\n",
    "print(dataframes['misc-stats_2023-2024.csv'].dtypes)\n",
    "print('')\n",
    "print(dataframes['passing-stats_2023-2024.csv'].dtypes)\n",
    "print('')\n",
    "print(dataframes['possession-stats_2023-2024.csv'].dtypes)'''"
   ]
  },
  {
   "cell_type": "code",
   "execution_count": 31,
   "metadata": {},
   "outputs": [],
   "source": [
    "dataframes_2023_2024 = [dataframes['standard-stats_2023-2024.csv'], dataframes['defensive-stats_2023-2024.csv'],\n",
    "                        dataframes['misc-stats_2023-2024.csv'], dataframes['passing-stats_2023-2024.csv'],\n",
    "                        dataframes['possession-stats_2023-2024.csv'], dataframes['goalkeeping-stats_2023-2024.csv']]\n",
    "dataframes_2022_2023 = [dataframes['standard-stats_2022-2023.csv'], dataframes['defensive-stats_2022-2023.csv'],\n",
    "                        dataframes['misc-stats_2022-2023.csv'], dataframes['passing-stats_2022-2023.csv'],\n",
    "                        dataframes['possession-stats_2022-2023.csv'], dataframes['goalkeeping-stats_2022-2023.csv']]\n",
    "dataframes_2021_2022 = [dataframes['standard-stats_2021-2022.csv'], dataframes['defensive-stats_2021-2022.csv'],\n",
    "                        dataframes['misc-stats_2021-2022.csv'], dataframes['passing-stats_2021-2022.csv'],\n",
    "                        dataframes['possession-stats_2021-2022.csv'], dataframes['goalkeeping-stats_2021-2022.csv']]"
   ]
  },
  {
   "cell_type": "code",
   "execution_count": 32,
   "metadata": {},
   "outputs": [
    {
     "data": {
      "text/html": [
       "<div>\n",
       "<style scoped>\n",
       "    .dataframe tbody tr th:only-of-type {\n",
       "        vertical-align: middle;\n",
       "    }\n",
       "\n",
       "    .dataframe tbody tr th {\n",
       "        vertical-align: top;\n",
       "    }\n",
       "\n",
       "    .dataframe thead th {\n",
       "        text-align: right;\n",
       "    }\n",
       "</style>\n",
       "<table border=\"1\" class=\"dataframe\">\n",
       "  <thead>\n",
       "    <tr style=\"text-align: right;\">\n",
       "      <th></th>\n",
       "      <th>Player</th>\n",
       "      <th>Nation</th>\n",
       "      <th>Squad</th>\n",
       "      <th>Age</th>\n",
       "      <th>Born</th>\n",
       "      <th>Playing Time MP</th>\n",
       "      <th>Playing Time Starts</th>\n",
       "      <th>Playing Time Min</th>\n",
       "      <th>Playing Time 90s</th>\n",
       "      <th>Performance Gls</th>\n",
       "      <th>...</th>\n",
       "      <th>Receiving Rec</th>\n",
       "      <th>Receiving PrgR</th>\n",
       "      <th>Performance GA</th>\n",
       "      <th>Performance SoTA</th>\n",
       "      <th>Performance Saves</th>\n",
       "      <th>Performance Save%</th>\n",
       "      <th>Performance CS</th>\n",
       "      <th>Performance CS%</th>\n",
       "      <th>Penalty Kicks PKsv</th>\n",
       "      <th>Penalty Kicks Save%</th>\n",
       "    </tr>\n",
       "  </thead>\n",
       "  <tbody>\n",
       "    <tr>\n",
       "      <th>0</th>\n",
       "      <td>Max Aarons</td>\n",
       "      <td>ENG</td>\n",
       "      <td>Bournemouth</td>\n",
       "      <td>23</td>\n",
       "      <td>2000</td>\n",
       "      <td>20</td>\n",
       "      <td>13</td>\n",
       "      <td>1237</td>\n",
       "      <td>13.7</td>\n",
       "      <td>0</td>\n",
       "      <td>...</td>\n",
       "      <td>371</td>\n",
       "      <td>26</td>\n",
       "      <td>NaN</td>\n",
       "      <td>NaN</td>\n",
       "      <td>NaN</td>\n",
       "      <td>NaN</td>\n",
       "      <td>NaN</td>\n",
       "      <td>NaN</td>\n",
       "      <td>NaN</td>\n",
       "      <td>NaN</td>\n",
       "    </tr>\n",
       "    <tr>\n",
       "      <th>1</th>\n",
       "      <td>Brenden Aaronson</td>\n",
       "      <td>USA</td>\n",
       "      <td>Union Berlin</td>\n",
       "      <td>22</td>\n",
       "      <td>2000</td>\n",
       "      <td>30</td>\n",
       "      <td>14</td>\n",
       "      <td>1267</td>\n",
       "      <td>14.1</td>\n",
       "      <td>2</td>\n",
       "      <td>...</td>\n",
       "      <td>457</td>\n",
       "      <td>91</td>\n",
       "      <td>NaN</td>\n",
       "      <td>NaN</td>\n",
       "      <td>NaN</td>\n",
       "      <td>NaN</td>\n",
       "      <td>NaN</td>\n",
       "      <td>NaN</td>\n",
       "      <td>NaN</td>\n",
       "      <td>NaN</td>\n",
       "    </tr>\n",
       "    <tr>\n",
       "      <th>2</th>\n",
       "      <td>Paxten Aaronson</td>\n",
       "      <td>USA</td>\n",
       "      <td>Eint Frankfurt</td>\n",
       "      <td>19</td>\n",
       "      <td>2003</td>\n",
       "      <td>7</td>\n",
       "      <td>1</td>\n",
       "      <td>101</td>\n",
       "      <td>1.1</td>\n",
       "      <td>0</td>\n",
       "      <td>...</td>\n",
       "      <td>46</td>\n",
       "      <td>7</td>\n",
       "      <td>NaN</td>\n",
       "      <td>NaN</td>\n",
       "      <td>NaN</td>\n",
       "      <td>NaN</td>\n",
       "      <td>NaN</td>\n",
       "      <td>NaN</td>\n",
       "      <td>NaN</td>\n",
       "      <td>NaN</td>\n",
       "    </tr>\n",
       "    <tr>\n",
       "      <th>3</th>\n",
       "      <td>Keyliane Abdallah</td>\n",
       "      <td>FRA</td>\n",
       "      <td>Marseille</td>\n",
       "      <td>17</td>\n",
       "      <td>2006</td>\n",
       "      <td>1</td>\n",
       "      <td>0</td>\n",
       "      <td>4</td>\n",
       "      <td>0.0</td>\n",
       "      <td>0</td>\n",
       "      <td>...</td>\n",
       "      <td>1</td>\n",
       "      <td>0</td>\n",
       "      <td>NaN</td>\n",
       "      <td>NaN</td>\n",
       "      <td>NaN</td>\n",
       "      <td>NaN</td>\n",
       "      <td>NaN</td>\n",
       "      <td>NaN</td>\n",
       "      <td>NaN</td>\n",
       "      <td>NaN</td>\n",
       "    </tr>\n",
       "    <tr>\n",
       "      <th>4</th>\n",
       "      <td>Yunis Abdelhamid</td>\n",
       "      <td>MAR</td>\n",
       "      <td>Reims</td>\n",
       "      <td>35</td>\n",
       "      <td>1987</td>\n",
       "      <td>31</td>\n",
       "      <td>31</td>\n",
       "      <td>2781</td>\n",
       "      <td>30.9</td>\n",
       "      <td>4</td>\n",
       "      <td>...</td>\n",
       "      <td>1403</td>\n",
       "      <td>9</td>\n",
       "      <td>NaN</td>\n",
       "      <td>NaN</td>\n",
       "      <td>NaN</td>\n",
       "      <td>NaN</td>\n",
       "      <td>NaN</td>\n",
       "      <td>NaN</td>\n",
       "      <td>NaN</td>\n",
       "      <td>NaN</td>\n",
       "    </tr>\n",
       "  </tbody>\n",
       "</table>\n",
       "<p>5 rows × 103 columns</p>\n",
       "</div>"
      ],
      "text/plain": [
       "              Player Nation           Squad Age  Born Playing Time MP   \n",
       "0         Max Aarons    ENG     Bournemouth  23  2000              20  \\\n",
       "1   Brenden Aaronson    USA    Union Berlin  22  2000              30   \n",
       "2    Paxten Aaronson    USA  Eint Frankfurt  19  2003               7   \n",
       "3  Keyliane Abdallah    FRA       Marseille  17  2006               1   \n",
       "4   Yunis Abdelhamid    MAR           Reims  35  1987              31   \n",
       "\n",
       "  Playing Time Starts Playing Time Min Playing Time 90s Performance Gls  ...   \n",
       "0                  13             1237             13.7               0  ...  \\\n",
       "1                  14             1267             14.1               2  ...   \n",
       "2                   1              101              1.1               0  ...   \n",
       "3                   0                4              0.0               0  ...   \n",
       "4                  31             2781             30.9               4  ...   \n",
       "\n",
       "  Receiving Rec Receiving PrgR Performance GA Performance SoTA   \n",
       "0           371             26            NaN              NaN  \\\n",
       "1           457             91            NaN              NaN   \n",
       "2            46              7            NaN              NaN   \n",
       "3             1              0            NaN              NaN   \n",
       "4          1403              9            NaN              NaN   \n",
       "\n",
       "  Performance Saves Performance Save% Performance CS Performance CS%   \n",
       "0               NaN               NaN            NaN             NaN  \\\n",
       "1               NaN               NaN            NaN             NaN   \n",
       "2               NaN               NaN            NaN             NaN   \n",
       "3               NaN               NaN            NaN             NaN   \n",
       "4               NaN               NaN            NaN             NaN   \n",
       "\n",
       "  Penalty Kicks PKsv Penalty Kicks Save%  \n",
       "0                NaN                 NaN  \n",
       "1                NaN                 NaN  \n",
       "2                NaN                 NaN  \n",
       "3                NaN                 NaN  \n",
       "4                NaN                 NaN  \n",
       "\n",
       "[5 rows x 103 columns]"
      ]
     },
     "execution_count": 32,
     "metadata": {},
     "output_type": "execute_result"
    }
   ],
   "source": [
    "# merge dfs for the 2023-2024 season\n",
    "merged_df_2023_2024 = dataframes_2023_2024[0]\n",
    "for df in dataframes_2023_2024[1:]:\n",
    "    merged_df_2023_2024 = pd.merge(merged_df_2023_2024, df, on=[\"Player\", \"Nation\", \"Squad\", \"Age\", \"Born\", \"Position\", \"League\"], how=\"outer\")\n",
    "\n",
    "merged_df_2023_2024.head()"
   ]
  },
  {
   "cell_type": "code",
   "execution_count": 33,
   "metadata": {},
   "outputs": [
    {
     "name": "stdout",
     "output_type": "stream",
     "text": [
      "['Player', 'Nation', 'Squad', 'Age', 'Born', 'Playing Time MP', 'Playing Time Starts', 'Playing Time Min', 'Playing Time 90s', 'Performance Gls', 'Performance Ast', 'Performance G+A', 'Performance G-PK', 'Performance PK', 'Performance PKatt', 'Performance CrdY', 'Performance CrdR', 'Expected xG', 'Expected npxG', 'Expected xAG', 'Expected npxG+xAG', 'Progression PrgC', 'Progression PrgP', 'Progression PrgR', 'Position', 'League', 'Tackles Tkl', 'Tackles TklW', 'Tackles Def 3rd', 'Tackles Mid 3rd', 'Tackles Att 3rd', 'Challenges Tkl', 'Challenges Att', 'Challenges Tkl%', 'Challenges Lost', 'Blocks Blocks', 'Blocks Sh', 'Blocks Pass', 'Int', 'Tkl+Int', 'Clr', 'Err', 'Performance Fls', 'Performance Fld', 'Performance Off', 'Performance Crs', 'Performance PKwon', 'Performance PKcon', 'Performance OG', 'Performance Recov', 'Aerial Duels Won', 'Aerial Duels Lost', 'Aerial Duels Won%', 'Total Cmp', 'Total Att', 'Total Cmp%', 'Total TotDist', 'Total PrgDist', 'Short Cmp', 'Short Att', 'Short Cmp%', 'Medium Cmp', 'Medium Att', 'Medium Cmp%', 'Long Cmp', 'Long Att', 'Long Cmp%', 'Expected xA', 'Expected A-xAG', 'KP', '1/3', 'PPA', 'CrsPA', 'Touches Touches', 'Touches Def Pen', 'Touches Def 3rd', 'Touches Mid 3rd', 'Touches Att 3rd', 'Touches Att Pen', 'Touches Live', 'Take-Ons Att', 'Take-Ons Succ', 'Take-Ons Succ%', 'Take-Ons Tkld', 'Take-Ons Tkld%', 'Carries Carries', 'Carries TotDist', 'Carries PrgDist', 'Carries PrgC', 'Carries 1/3', 'Carries CPA', 'Carries Mis', 'Carries Dis', 'Receiving Rec', 'Receiving PrgR', 'Performance GA', 'Performance SoTA', 'Performance Saves', 'Performance Save%', 'Performance CS', 'Performance CS%', 'Penalty Kicks PKsv', 'Penalty Kicks Save%']\n"
     ]
    }
   ],
   "source": [
    "print(merged_df_2023_2024.columns.tolist())"
   ]
  },
  {
   "cell_type": "code",
   "execution_count": 34,
   "metadata": {},
   "outputs": [],
   "source": [
    "merged_df_2023_2024.to_csv('../data/big5-stats_2023-2024.csv', index=False)"
   ]
  },
  {
   "cell_type": "code",
   "execution_count": 35,
   "metadata": {},
   "outputs": [],
   "source": [
    "# merge dfs for the 2022-2023 season\n",
    "merged_df_2022_2023 = dataframes_2022_2023[0]\n",
    "for df in dataframes_2022_2023[1:]:\n",
    "    merged_df_2022_2023 = pd.merge(merged_df_2022_2023, df, on=[\"Player\", \"Nation\", \"Squad\", \"Age\", \"Born\", \"Position\", \"League\"], how=\"outer\")\n",
    "\n",
    "merged_df_2022_2023.to_csv('../data/big5-stats_2022-2023.csv', index=False)"
   ]
  },
  {
   "cell_type": "code",
   "execution_count": 36,
   "metadata": {},
   "outputs": [],
   "source": [
    "# merge dfs for the 2021-2022 season\n",
    "merged_df_2021_2022 = dataframes_2021_2022[0]\n",
    "for df in dataframes_2021_2022[1:]:\n",
    "    merged_df_2021_2022 = pd.merge(merged_df_2021_2022, df, on=[\"Player\", \"Nation\", \"Squad\", \"Age\", \"Born\", \"Position\", \"League\"], how=\"outer\")\n",
    "\n",
    "merged_df_2021_2022.to_csv('../data/big5-stats_2021-2022.csv', index=False)"
   ]
  },
  {
   "cell_type": "markdown",
   "metadata": {},
   "source": [
    "##### **Data Modeling**"
   ]
  },
  {
   "cell_type": "markdown",
   "metadata": {},
   "source": [
    "Convert all columns to numeric, standardize per 90min, rename columns with full name of the metric"
   ]
  },
  {
   "cell_type": "code",
   "execution_count": 37,
   "metadata": {},
   "outputs": [],
   "source": [
    "big5_stats_2023_2024 = pd.read_csv('../data/big5-stats_2023-2024.csv')\n",
    "big5_stats_2022_2023 = pd.read_csv('../data/big5-stats_2022-2023.csv')\n",
    "big5_stats_2021_2022 = pd.read_csv('../data/big5-stats_2021-2022.csv')"
   ]
  },
  {
   "cell_type": "code",
   "execution_count": 38,
   "metadata": {},
   "outputs": [
    {
     "name": "stdout",
     "output_type": "stream",
     "text": [
      "Player: object\n",
      "Nation: object\n",
      "Squad: object\n",
      "Age: float64\n",
      "Born: float64\n",
      "Playing Time MP: float64\n",
      "Playing Time Starts: float64\n",
      "Playing Time Min: float64\n",
      "Playing Time 90s: float64\n",
      "Performance Gls: float64\n",
      "Performance Ast: float64\n",
      "Performance G+A: float64\n",
      "Performance G-PK: float64\n",
      "Performance PK: float64\n",
      "Performance PKatt: float64\n",
      "Performance CrdY: float64\n",
      "Performance CrdR: float64\n",
      "Expected xG: float64\n",
      "Expected npxG: float64\n",
      "Expected xAG: float64\n",
      "Expected npxG+xAG: float64\n",
      "Progression PrgC: float64\n",
      "Progression PrgP: float64\n",
      "Progression PrgR: float64\n",
      "Position: object\n",
      "League: object\n",
      "Tackles Tkl: float64\n",
      "Tackles TklW: float64\n",
      "Tackles Def 3rd: float64\n",
      "Tackles Mid 3rd: float64\n",
      "Tackles Att 3rd: float64\n",
      "Challenges Tkl: float64\n",
      "Challenges Att: float64\n",
      "Challenges Tkl%: float64\n",
      "Challenges Lost: float64\n",
      "Blocks Blocks: float64\n",
      "Blocks Sh: float64\n",
      "Blocks Pass: float64\n",
      "Int: float64\n",
      "Tkl+Int: float64\n",
      "Clr: float64\n",
      "Err: float64\n",
      "Performance Fls: float64\n",
      "Performance Fld: float64\n",
      "Performance Off: float64\n",
      "Performance Crs: float64\n",
      "Performance PKwon: float64\n",
      "Performance PKcon: float64\n",
      "Performance OG: float64\n",
      "Performance Recov: float64\n",
      "Aerial Duels Won: float64\n",
      "Aerial Duels Lost: float64\n",
      "Aerial Duels Won%: float64\n",
      "Total Cmp: float64\n",
      "Total Att: float64\n",
      "Total Cmp%: float64\n",
      "Total TotDist: float64\n",
      "Total PrgDist: float64\n",
      "Short Cmp: float64\n",
      "Short Att: float64\n",
      "Short Cmp%: float64\n",
      "Medium Cmp: float64\n",
      "Medium Att: float64\n",
      "Medium Cmp%: float64\n",
      "Long Cmp: float64\n",
      "Long Att: float64\n",
      "Long Cmp%: float64\n",
      "Expected xA: float64\n",
      "Expected A-xAG: float64\n",
      "KP: float64\n",
      "1/3: float64\n",
      "PPA: float64\n",
      "CrsPA: float64\n",
      "Touches Touches: float64\n",
      "Touches Def Pen: float64\n",
      "Touches Def 3rd: float64\n",
      "Touches Mid 3rd: float64\n",
      "Touches Att 3rd: float64\n",
      "Touches Att Pen: float64\n",
      "Touches Live: float64\n",
      "Take-Ons Att: float64\n",
      "Take-Ons Succ: float64\n",
      "Take-Ons Succ%: float64\n",
      "Take-Ons Tkld: float64\n",
      "Take-Ons Tkld%: float64\n",
      "Carries Carries: float64\n",
      "Carries TotDist: float64\n",
      "Carries PrgDist: float64\n",
      "Carries PrgC: float64\n",
      "Carries 1/3: float64\n",
      "Carries CPA: float64\n",
      "Carries Mis: float64\n",
      "Carries Dis: float64\n",
      "Receiving Rec: float64\n",
      "Receiving PrgR: float64\n",
      "Performance GA: float64\n",
      "Performance SoTA: float64\n",
      "Performance Saves: float64\n",
      "Performance Save%: float64\n",
      "Performance CS: float64\n",
      "Performance CS%: float64\n",
      "Penalty Kicks PKsv: float64\n",
      "Penalty Kicks Save%: float64\n"
     ]
    }
   ],
   "source": [
    "for column, dtype in big5_stats_2023_2024.dtypes.items():\n",
    "    print(f\"{column}: {dtype}\")"
   ]
  },
  {
   "cell_type": "code",
   "execution_count": 40,
   "metadata": {},
   "outputs": [
    {
     "name": "stdout",
     "output_type": "stream",
     "text": [
      "df_1_90min:\n",
      "              Player Nation          Squad  Age  Born  Playing Time MP   \n",
      "0         Max Aarons    ENG   Norwich City   21  2000               34  \\\n",
      "1   Yunis Abdelhamid    MAR          Reims   33  1987               34   \n",
      "2  Salis Abdul Samed    GHA  Clermont Foot   21  2000               31   \n",
      "3    Laurent Abergel    FRA        Lorient   28  1993               34   \n",
      "4        Charles Abi    FRA  Saint-Étienne   21  2000                1   \n",
      "\n",
      "   Playing Time Starts  Playing Time Min  Playing Time 90s  Performance Gls   \n",
      "0                   32              2881              32.0         0.000000  \\\n",
      "1                   34              2983              33.1         0.060342   \n",
      "2                   29              2462              27.4         0.036556   \n",
      "3                   34              2956              32.8         0.000000   \n",
      "4                    1                45               0.5         0.000000   \n",
      "\n",
      "   ...  Receiving Rec  Receiving PrgR  Performance GA  Performance SoTA   \n",
      "0  ...      32.176328        2.655328             NaN               NaN  \\\n",
      "1  ...      36.265505        0.422394             NaN               NaN   \n",
      "2  ...      54.138911        1.718115             NaN               NaN   \n",
      "3  ...      42.929635        2.222598             NaN               NaN   \n",
      "4  ...      18.000000        8.000000             NaN               NaN   \n",
      "\n",
      "   Performance Saves  Performance Save%  Performance CS  Performance CS%   \n",
      "0                NaN                NaN             NaN              NaN  \\\n",
      "1                NaN                NaN             NaN              NaN   \n",
      "2                NaN                NaN             NaN              NaN   \n",
      "3                NaN                NaN             NaN              NaN   \n",
      "4                NaN                NaN             NaN              NaN   \n",
      "\n",
      "   Penalty Kicks PKsv  Penalty Kicks Save%  \n",
      "0                 NaN                  NaN  \n",
      "1                 NaN                  NaN  \n",
      "2                 NaN                  NaN  \n",
      "3                 NaN                  NaN  \n",
      "4                 NaN                  NaN  \n",
      "\n",
      "[5 rows x 103 columns]\n",
      "df_2_90min:\n",
      "             Player Nation           Squad  Age  Born  Playing Time MP   \n",
      "0  Brenden Aaronson    USA    Leeds United   21  2000               36  \\\n",
      "1   Paxten Aaronson    USA  Eint Frankfurt   18  2003                7   \n",
      "2    James Abankwah    IRL         Udinese   18  2004                2   \n",
      "3     George Abbott    ENG       Tottenham   16  2005                1   \n",
      "4  Yunis Abdelhamid    MAR           Reims   34  1987               37   \n",
      "\n",
      "   Playing Time Starts  Playing Time Min  Playing Time 90s  Performance Gls   \n",
      "0                   28              2372              26.4         0.037943  \\\n",
      "1                    0               173               1.9         0.000000   \n",
      "2                    1                63               0.7         0.000000   \n",
      "3                    0                 1               0.0         0.000000   \n",
      "4                   37              3330              37.0         0.027027   \n",
      "\n",
      "   ...  Receiving Rec  Receiving PrgR  Performance GA  Performance SoTA   \n",
      "0  ...      29.102024        5.729342             NaN               NaN  \\\n",
      "1  ...      33.815029        7.803468             NaN               NaN   \n",
      "2  ...      30.000000        0.000000             NaN               NaN   \n",
      "3  ...      90.000000        0.000000             NaN               NaN   \n",
      "4  ...      40.513514        0.270270             NaN               NaN   \n",
      "\n",
      "   Performance Saves  Performance Save%  Performance CS  Performance CS%   \n",
      "0                NaN                NaN             NaN              NaN  \\\n",
      "1                NaN                NaN             NaN              NaN   \n",
      "2                NaN                NaN             NaN              NaN   \n",
      "3                NaN                NaN             NaN              NaN   \n",
      "4                NaN                NaN             NaN              NaN   \n",
      "\n",
      "   Penalty Kicks PKsv  Penalty Kicks Save%  \n",
      "0                 NaN                  NaN  \n",
      "1                 NaN                  NaN  \n",
      "2                 NaN                  NaN  \n",
      "3                 NaN                  NaN  \n",
      "4                 NaN                  NaN  \n",
      "\n",
      "[5 rows x 103 columns]\n",
      "df_3_90min:\n",
      "              Player Nation           Squad   Age    Born  Playing Time MP   \n",
      "0         Max Aarons    ENG     Bournemouth  23.0  2000.0             20.0  \\\n",
      "1   Brenden Aaronson    USA    Union Berlin  22.0  2000.0             30.0   \n",
      "2    Paxten Aaronson    USA  Eint Frankfurt  19.0  2003.0              7.0   \n",
      "3  Keyliane Abdallah    FRA       Marseille  17.0  2006.0              1.0   \n",
      "4   Yunis Abdelhamid    MAR           Reims  35.0  1987.0             31.0   \n",
      "\n",
      "   Playing Time Starts  Playing Time Min  Playing Time 90s  Performance Gls   \n",
      "0                 13.0            1237.0              13.7         0.000000  \\\n",
      "1                 14.0            1267.0              14.1         0.142068   \n",
      "2                  1.0             101.0               1.1         0.000000   \n",
      "3                  0.0               4.0               0.0         0.000000   \n",
      "4                 31.0            2781.0              30.9         0.129450   \n",
      "\n",
      "   ...  Receiving Rec  Receiving PrgR  Performance GA  Performance SoTA   \n",
      "0  ...      26.992724        1.891673             NaN               NaN  \\\n",
      "1  ...      32.462510        6.464088             NaN               NaN   \n",
      "2  ...      40.990099        6.237624             NaN               NaN   \n",
      "3  ...      22.500000        0.000000             NaN               NaN   \n",
      "4  ...      45.404531        0.291262             NaN               NaN   \n",
      "\n",
      "   Performance Saves  Performance Save%  Performance CS  Performance CS%   \n",
      "0                NaN                NaN             NaN              NaN  \\\n",
      "1                NaN                NaN             NaN              NaN   \n",
      "2                NaN                NaN             NaN              NaN   \n",
      "3                NaN                NaN             NaN              NaN   \n",
      "4                NaN                NaN             NaN              NaN   \n",
      "\n",
      "   Penalty Kicks PKsv  Penalty Kicks Save%  \n",
      "0                 NaN                  NaN  \n",
      "1                 NaN                  NaN  \n",
      "2                 NaN                  NaN  \n",
      "3                 NaN                  NaN  \n",
      "4                 NaN                  NaN  \n",
      "\n",
      "[5 rows x 103 columns]\n"
     ]
    }
   ],
   "source": [
    "def scale_to_90(df, playing_time_column, columns_to_scale):\n",
    "    \"\"\"\n",
    "    Scales specified columns to per-90-minute basis.\n",
    "    \n",
    "    Args:\n",
    "    - df (pd.DataFrame): DataFrame containing the data.\n",
    "    - playing_time_column (str): Column name for playing time in minutes.\n",
    "    - columns_to_scale (list): List of column names to scale.\n",
    "    \n",
    "    Returns:\n",
    "    - pd.DataFrame: DataFrame with scaled columns.\n",
    "    \"\"\"\n",
    "    df_scaled = df.copy()\n",
    "    for col in columns_to_scale:\n",
    "        df_scaled[col] = df_scaled[col] / df_scaled[playing_time_column] * 90\n",
    "    return df_scaled\n",
    "\n",
    "# List of dataframes\n",
    "dataframes = [big5_stats_2021_2022, big5_stats_2022_2023, big5_stats_2023_2024]\n",
    "\n",
    "per90_dataframes = {}\n",
    "\n",
    "# Loop through each dataframe\n",
    "for i, df in enumerate(dataframes):\n",
    "    # Selecting only data per 90min\n",
    "    columns_to_scale = ['Performance Gls', 'Performance Ast', 'Performance G+A', 'Performance G-PK',\n",
    "        'Performance PK', 'Performance PKatt', 'Performance CrdY', 'Performance CrdR', 'Expected xG', 'Expected npxG',\n",
    "        'Expected xAG', 'Expected npxG+xAG', 'Progression PrgC', 'Progression PrgP', 'Progression PrgR',\n",
    "        'Tackles Tkl', 'Tackles TklW', 'Tackles Def 3rd', 'Tackles Mid 3rd', 'Tackles Att 3rd', 'Challenges Tkl',\n",
    "        'Challenges Att', 'Challenges Tkl%', 'Challenges Lost', 'Blocks Blocks', 'Blocks Sh', 'Blocks Pass', 'Int',\n",
    "        'Tkl+Int', 'Clr', 'Err', 'Performance Fls', 'Performance Fld', 'Performance Off', 'Performance Crs',\n",
    "        'Performance PKwon', 'Performance PKcon', 'Performance OG', 'Performance Recov', 'Aerial Duels Won',\n",
    "        'Aerial Duels Lost', 'Aerial Duels Won%', 'Total Cmp', 'Total Att', 'Total Cmp%', 'Total TotDist',\n",
    "        'Total PrgDist', 'Short Cmp', 'Short Att', 'Short Cmp%', 'Medium Cmp', 'Medium Att', 'Medium Cmp%', 'Long Cmp',\n",
    "        'Long Att', 'Long Cmp%', 'Expected xA', 'Expected A-xAG', 'KP', '1/3', 'PPA', 'CrsPA', 'Touches Touches',\n",
    "        'Touches Def Pen', 'Touches Def 3rd', 'Touches Mid 3rd', 'Touches Att 3rd', 'Touches Att Pen',\n",
    "        'Touches Live', 'Take-Ons Att', 'Take-Ons Succ', 'Take-Ons Succ%', 'Take-Ons Tkld', 'Take-Ons Tkld%',\n",
    "        'Carries Carries', 'Carries TotDist', 'Carries PrgDist', 'Carries PrgC', 'Carries 1/3', 'Carries CPA',\n",
    "        'Carries Mis', 'Carries Dis', 'Receiving Rec', 'Receiving PrgR', 'Performance GA', 'Performance SoTA',\n",
    "        'Performance Saves', 'Performance Save%', 'Performance CS', 'Performance CS%', 'Penalty Kicks PKsv',\n",
    "        'Penalty Kicks Save%']\n",
    "\n",
    "    # Ensure the playing time column exists in the dataframe\n",
    "    if 'Playing Time Min' in df.columns:\n",
    "        # Applying the function to scale specified columns\n",
    "        df_90min = scale_to_90(df, 'Playing Time Min', columns_to_scale)\n",
    "        \n",
    "        # Store the modified dataframe in the dictionary\n",
    "        per90_dataframes[f'df_{i+1}_90min'] = df_90min\n",
    "    else:\n",
    "        print(f\"'Playing Time Min' column not found in dataframe {i+1}\")\n",
    "\n",
    "# Example to access scaled dataframes\n",
    "for key, df in per90_dataframes.items():\n",
    "    print(f\"{key}:\")\n",
    "    print(df.head())"
   ]
  },
  {
   "cell_type": "code",
   "execution_count": 41,
   "metadata": {},
   "outputs": [],
   "source": [
    "big5_stats_2021_2022_90 = per90_dataframes['df_1_90min']\n",
    "big5_stats_2022_2023_90 = per90_dataframes['df_2_90min']\n",
    "big5_stats_2023_2024_90 = per90_dataframes['df_3_90min']"
   ]
  },
  {
   "cell_type": "code",
   "execution_count": 42,
   "metadata": {},
   "outputs": [],
   "source": [
    "big5_stats_2021_2022_90.to_csv('../data/big5-stats_90_2021-2022.csv', index=False)\n",
    "big5_stats_2022_2023_90.to_csv('../data/big5-stats_90_2022_2023.csv', index=False)\n",
    "big5_stats_2023_2024_90.to_csv('../data/big5-stats_90_2023_2024.csv', index=False)"
   ]
  },
  {
   "cell_type": "markdown",
   "metadata": {},
   "source": [
    "Calculate mean of the stats for the three seasons, exclude temp age, nation, squad"
   ]
  },
  {
   "cell_type": "code",
   "execution_count": 43,
   "metadata": {},
   "outputs": [],
   "source": [
    "from sklearn.metrics.pairwise import cosine_similarity\n",
    "from sklearn.preprocessing import StandardScaler\n",
    "from sklearn.decomposition import PCA"
   ]
  },
  {
   "cell_type": "code",
   "execution_count": 44,
   "metadata": {},
   "outputs": [],
   "source": [
    "dataframes = [big5_stats_2021_2022_90, big5_stats_2022_2023_90, big5_stats_2023_2024_90]\n",
    "# combine the dataframes into one\n",
    "combined_2021_2024_90 = pd.concat(dataframes, ignore_index=True)"
   ]
  },
  {
   "cell_type": "code",
   "execution_count": 45,
   "metadata": {},
   "outputs": [],
   "source": [
    "# define the columns to be aggregated and the aggregation method\n",
    "performance_columns = ['Playing Time MP', 'Playing Time Starts', 'Playing Time Min', 'Playing Time 90s',\n",
    "                        'Performance Gls', 'Performance Ast', 'Performance G+A', 'Performance G-PK', \n",
    "                        'Performance PK', 'Performance PKatt', 'Performance CrdY', 'Performance CrdR', \n",
    "                        'Expected xG', 'Expected npxG', 'Expected xAG', 'Expected npxG+xAG', \n",
    "                        'Progression PrgC', 'Progression PrgP', 'Progression PrgR', 'Tackles Tkl', \n",
    "                        'Tackles TklW', 'Tackles Def 3rd', 'Tackles Mid 3rd', 'Tackles Att 3rd', \n",
    "                        'Challenges Tkl', 'Challenges Att', 'Challenges Tkl%', 'Challenges Lost', \n",
    "                        'Blocks Blocks', 'Blocks Sh', 'Blocks Pass', 'Int', 'Tkl+Int', 'Clr', 'Err', \n",
    "                        'Performance Fls', 'Performance Fld', 'Performance Off', 'Performance Crs', \n",
    "                        'Performance PKwon', 'Performance PKcon', 'Performance OG', 'Performance Recov', \n",
    "                        'Aerial Duels Won', 'Aerial Duels Lost', 'Aerial Duels Won%', 'Total Cmp', \n",
    "                        'Total Att', 'Total Cmp%', 'Total TotDist', 'Total PrgDist', 'Short Cmp', \n",
    "                        'Short Att', 'Short Cmp%', 'Medium Cmp', 'Medium Att', 'Medium Cmp%', 'Long Cmp', \n",
    "                        'Long Att', 'Long Cmp%', 'Expected xA', 'Expected A-xAG', 'KP', '1/3', \n",
    "                        'PPA', 'CrsPA', 'Touches Touches', 'Touches Def Pen', 'Touches Def 3rd', \n",
    "                        'Touches Mid 3rd', 'Touches Att 3rd', 'Touches Att Pen', 'Touches Live', \n",
    "                        'Take-Ons Att', 'Take-Ons Succ', 'Take-Ons Succ%', 'Take-Ons Tkld', 'Take-Ons Tkld%', \n",
    "                        'Carries Carries', 'Carries TotDist', 'Carries PrgDist', 'Carries PrgC', 'Carries 1/3', \n",
    "                        'Carries CPA', 'Carries Mis', 'Carries Dis', 'Receiving Rec', 'Receiving PrgR',\n",
    "                        'Performance GA', 'Performance SoTA', 'Performance Saves', 'Performance Save%',\n",
    "                        'Performance CS', 'Performance CS%', 'Penalty Kicks PKsv', 'Penalty Kicks Save%']"
   ]
  },
  {
   "cell_type": "code",
   "execution_count": 46,
   "metadata": {},
   "outputs": [],
   "source": [
    "# aggregate the data for each player\n",
    "aggregated_2021_2024_90 = combined_2021_2024_90.groupby(['Player', 'Born', 'Nation']).agg(\n",
    "    {\n",
    "        'Age': lambda x: x.iloc[-1],  # Most recent age\n",
    "        'Squad': lambda x: x.iloc[-1],  # Most recent squad\n",
    "        'League': lambda x: x.iloc[-1],  # Most recent league\n",
    "        'Position': lambda x: x.iloc[-1],  # Most recent position\n",
    "        **{col: 'mean' for col in performance_columns}\n",
    "    }\n",
    ").reset_index()"
   ]
  },
  {
   "cell_type": "code",
   "execution_count": 48,
   "metadata": {},
   "outputs": [],
   "source": [
    "aggregated_2021_2024_90.rename(columns={'Performance Gls': 'Goals', 'Performance Ast': 'Assists',\n",
    "'Performance G+A': 'Goals + Assists', 'Performance G-PK': 'Non-Penalty Goals', 'Performance PK': 'Penalty Goals',\n",
    "'Performance PKatt': 'Penalty Kicked', 'Performance CrdY': 'Yellow Cards', 'Performance CrdR': 'Red Cards',\n",
    "'Expected xG': 'xG', 'Expected npxG': 'Non-Penalty xG', 'Expected xAG': 'xAG', 'Expected npxG+xAG': 'npxG+xAG',\n",
    "'Progression PrgC': 'Progressive Carries', 'Progression PrgP': 'Progressive Passes',\n",
    "'Progression PrgR': 'Progressive Passes Received', 'Tackles Tkl': 'Tackles', 'Tackles TklW': 'Tackles Won',\n",
    "'Challenges Tkl': 'Dribblers Tackled', 'Challenges Att': 'Dribbles Challenged', 'Challenges Tkl%': 'Dribblers Tackled %',\n",
    "'Blocks Blocks': 'Blocks', 'Blocks Sh': 'Shots Blocked', 'Blocks Pass': 'Passes Blocked', 'Int': 'Interceptions',\n",
    "'Tkl+Int': 'Tackles + Interceptions', 'Clr': 'Clearances', 'Err': 'Errors', 'Performance Fls': 'Fouls Committed',\n",
    "'Performance Fld': 'Fouls Drawn', 'Performance Off': 'Offsides', 'Performance Crs': 'Crosses',\n",
    "'Performance PKwon': 'PK Won', 'Performance PKcon': 'PK Conceded', 'Performance OG': 'Own Goals',\n",
    "'Performance Recov': 'Ball Recoveries', 'Total Cmp': 'Passes Completed', 'Total Att': 'Passes Attempted',\n",
    "'Total Cmp%': 'Pass Completion %', 'Total TotDist': 'Total Passing Distance', 'Total PrgDist': 'Progressive Passing Distance',\n",
    "'Short Cmp': 'Short Passes Completed', 'Short Att': 'Short Passes Attempted', 'Short Cmp%': 'Short Pass Completion %',\n",
    "'Medium Cmp': 'Medium Passes Completed', 'Medium Att': 'Medium Passes Attempted', 'Medium Cmp%': 'Medium Pass Completion %',\n",
    "'Long Cmp': 'Long Passes Completed', 'Long Att': 'Long Passes Attempted', 'Long Cmp%': 'Long Pass Completion %',\n",
    "'Expected xA': 'xA', 'Expected A-xAG': 'A-xAG', 'KP': 'Key Passes', '1/3': 'Passes Final 1/3', 'PPA': 'Passes Penalty Area',\n",
    "'CrsPA': 'Crosses Penalty Area', 'Touches Touches': 'Touches', 'Touches Live': 'Touches Live-Ball',\n",
    "'Take-Ons Att': 'Take-Ons Attempted', 'Take-Ons Succ': 'Take-Ons Successful', 'Take-Ons Succ%': 'Take-Ons Successful %',\n",
    "'Take-Ons Tkld': 'Take-Ons Tackled', 'Take-Ons Tkld%': 'Take-Ons Tackled %', 'Carries Carries': 'Carries',\n",
    "'Carries TotDist': 'Total Carrying Distance', 'Carries PrgDist': 'Progressive Carrying Distance',\n",
    "'Carries PrgC': 'Progressive Carries', 'Carries 1/3': 'Carries Final 1/3', 'Carries CPA': 'Carries Penalty Area',\n",
    "'Carries Mis': 'Miscontrols', 'Carries Dis': 'Dispossessed', 'Receiving Rec': 'Passes Received',\n",
    "'Receiving PrgR': 'Progressive Passes Received', 'Performance GA': 'Goals Against',\n",
    "'Performance SoTA': 'Shots on Target Against', 'Performance Saves': 'Saves', 'Performance Save%': 'Save %',\n",
    "'Performance CS': 'Clean Sheets', 'Performance CS%': 'Clean Sheet %', 'Penalty Kicks PKsv': 'Penalty Kicks Saved',\n",
    "'Penalty Kicks Save%': 'Penalty Kicks Save %'}, inplace=True)"
   ]
  },
  {
   "cell_type": "code",
   "execution_count": 49,
   "metadata": {},
   "outputs": [],
   "source": [
    "# handle missing values (e.g., fill with 0, or use an appropriate strategy)\n",
    "aggregated_2021_2024_90.fillna(0, inplace=True)"
   ]
  },
  {
   "cell_type": "code",
   "execution_count": 51,
   "metadata": {},
   "outputs": [
    {
     "name": "stdout",
     "output_type": "stream",
     "text": [
      "Player: object\n",
      "Born: float64\n",
      "Nation: object\n",
      "Age: float64\n",
      "Squad: object\n",
      "League: object\n",
      "Position: object\n",
      "Playing Time MP: float64\n",
      "Playing Time Starts: float64\n",
      "Playing Time Min: float64\n",
      "Playing Time 90s: float64\n",
      "Goals: float64\n",
      "Assists: float64\n",
      "Goals + Assists: float64\n",
      "Non-Penalty Goals: float64\n",
      "Penalty Goals: float64\n",
      "Penalty Kicked: float64\n",
      "Yellow Cards: float64\n",
      "Red Cards: float64\n",
      "xG: float64\n",
      "Non-Penalty xG: float64\n",
      "xAG: float64\n",
      "npxG+xAG: float64\n",
      "Progressive Carries: float64\n",
      "Progressive Passes: float64\n",
      "Progressive Passes Received: float64\n",
      "Tackles: float64\n",
      "Tackles Won: float64\n",
      "Tackles Def 3rd: float64\n",
      "Tackles Mid 3rd: float64\n",
      "Tackles Att 3rd: float64\n",
      "Dribblers Tackled: float64\n",
      "Dribbles Challenged: float64\n",
      "Dribblers Tackled %: float64\n",
      "Challenges Lost: float64\n",
      "Blocks: float64\n",
      "Shots Blocked: float64\n",
      "Passes Blocked: float64\n",
      "Interceptions: float64\n",
      "Tackles + Interceptions: float64\n",
      "Clearances: float64\n",
      "Errors: float64\n",
      "Fouls Committed: float64\n",
      "Fouls Drawn: float64\n",
      "Offsides: float64\n",
      "Crosses: float64\n",
      "PK Won: float64\n",
      "PK Conceded: float64\n",
      "Own Goals: float64\n",
      "Ball Recoveries: float64\n",
      "Aerial Duels Won: float64\n",
      "Aerial Duels Lost: float64\n",
      "Aerial Duels Won%: float64\n",
      "Passes Completed: float64\n",
      "Passes Attempted: float64\n",
      "Pass Completion %: float64\n",
      "Total Passing Distance: float64\n",
      "Progressive Passing Distance: float64\n",
      "Short Passes Completed: float64\n",
      "Short Passes Attempted: float64\n",
      "Short Pass Completion %: float64\n",
      "Medium Passes Completed: float64\n",
      "Medium Passes Attempted: float64\n",
      "Medium Pass Completion %: float64\n",
      "Long Passes Completed: float64\n",
      "Long Passes Attempted: float64\n",
      "Long Pass Completion %: float64\n",
      "xA: float64\n",
      "A-xAG: float64\n",
      "Key Passes: float64\n",
      "Passes Final 1/3: float64\n",
      "Passes Penalty Area: float64\n",
      "Crosses Penalty Area: float64\n",
      "Touches: float64\n",
      "Touches Def Pen: float64\n",
      "Touches Def 3rd: float64\n",
      "Touches Mid 3rd: float64\n",
      "Touches Att 3rd: float64\n",
      "Touches Att Pen: float64\n",
      "Touches Live-Ball: float64\n",
      "Take-Ons Attempted: float64\n",
      "Take-Ons Successful: float64\n",
      "Take-Ons Successful %: float64\n",
      "Take-Ons Tackled: float64\n",
      "Take-Ons Tackled %: float64\n",
      "Carries: float64\n",
      "Total Carrying Distance: float64\n",
      "Progressive Carrying Distance: float64\n",
      "Progressive Carries: float64\n",
      "Carries Final 1/3: float64\n",
      "Carries Penalty Area: float64\n",
      "Miscontrols: float64\n",
      "Dispossessed: float64\n",
      "Passes Received: float64\n",
      "Progressive Passes Received: float64\n",
      "Goals Against: float64\n",
      "Shots on Target Against: float64\n",
      "Saves: float64\n",
      "Save %: float64\n",
      "Clean Sheets: float64\n",
      "Clean Sheet %: float64\n",
      "Penalty Kicks Saved: float64\n",
      "Penalty Kicks Save %: float64\n"
     ]
    }
   ],
   "source": [
    "for column, dtype in aggregated_2021_2024_90.dtypes.items():\n",
    "    print(f\"{column}: {dtype}\")"
   ]
  },
  {
   "cell_type": "code",
   "execution_count": 52,
   "metadata": {},
   "outputs": [],
   "source": [
    "aggregated_2021_2024_90.to_csv('../data/aggregated_2021_2024_90.csv', index=False)"
   ]
  },
  {
   "cell_type": "markdown",
   "metadata": {},
   "source": [
    "Scale data and calculate cosine similarity"
   ]
  },
  {
   "cell_type": "code",
   "execution_count": 55,
   "metadata": {},
   "outputs": [],
   "source": [
    "num_cols_aggregated_2021_2024_90 = aggregated_2021_2024_90.select_dtypes(include='number')\n",
    "features = num_cols_aggregated_2021_2024_90.columns.tolist()"
   ]
  },
  {
   "cell_type": "code",
   "execution_count": 56,
   "metadata": {},
   "outputs": [],
   "source": [
    "# normalize the performance data\n",
    "scaler = StandardScaler()\n",
    "X_scaled = scaler.fit_transform(num_cols_aggregated_2021_2024_90)"
   ]
  },
  {
   "cell_type": "code",
   "execution_count": null,
   "metadata": {},
   "outputs": [],
   "source": [
    "# apply PCA\n",
    "pca = PCA(n_components=0.95)  # Retain 95% of variance\n",
    "X_pca = pca.fit_transform(normalized_data)"
   ]
  },
  {
   "cell_type": "code",
   "execution_count": null,
   "metadata": {},
   "outputs": [],
   "source": [
    "scaler = StandardScaler()\n",
    "X_scaled = scaler.fit_transform(num_cols_90min)"
   ]
  },
  {
   "cell_type": "code",
   "execution_count": 57,
   "metadata": {},
   "outputs": [],
   "source": [
    "# apply PCA\n",
    "pca = PCA(n_components=0.95)  # Retain 95% of variance\n",
    "X_pca = pca.fit_transform(X_scaled)"
   ]
  },
  {
   "cell_type": "code",
   "execution_count": 58,
   "metadata": {},
   "outputs": [
    {
     "name": "stdout",
     "output_type": "stream",
     "text": [
      "Number of components selected by PCA: 46\n",
      "Explained variance ratio: [0.15787322 0.08603094 0.06097292 0.04972724 0.04231615 0.03461883\n",
      " 0.03190269 0.029268   0.02620793 0.02594745 0.02318459 0.02080014\n",
      " 0.01961138 0.01921132 0.01811716 0.01651683 0.01578056 0.01548452\n",
      " 0.01490782 0.01428095 0.01343607 0.01239755 0.01180882 0.01139247\n",
      " 0.01096828 0.01073419 0.01043567 0.01036029 0.01024878 0.00997971\n",
      " 0.00983277 0.00956309 0.00947373 0.00923703 0.00891521 0.00847817\n",
      " 0.0084387  0.00750714 0.00728196 0.0067184  0.00625192 0.00614843\n",
      " 0.00529852 0.00519276 0.00463751 0.00428396]\n"
     ]
    }
   ],
   "source": [
    "print(\"Number of components selected by PCA:\", pca.n_components_)\n",
    "print(\"Explained variance ratio:\", pca.explained_variance_ratio_)"
   ]
  },
  {
   "cell_type": "code",
   "execution_count": 59,
   "metadata": {},
   "outputs": [],
   "source": [
    "# calculate cosine similarity\n",
    "similarity_matrix = cosine_similarity(X_pca)"
   ]
  },
  {
   "cell_type": "code",
   "execution_count": 60,
   "metadata": {},
   "outputs": [],
   "source": [
    "similarity_2021_2024_90 = pd.DataFrame(similarity_matrix, index=aggregated_2021_2024_90['Player'], columns=aggregated_2021_2024_90['Player'])"
   ]
  },
  {
   "cell_type": "code",
   "execution_count": 61,
   "metadata": {},
   "outputs": [],
   "source": [
    "def find_similar_players(player_name, n=5):\n",
    "    \"\"\"\n",
    "    Finds the most similar players to the given player.\n",
    "    \n",
    "    Args:\n",
    "    - player_name (str): Name of the player.\n",
    "    - n (int): Number of similar players to return.\n",
    "    \n",
    "    Returns:\n",
    "    - pd.Series: Similarity scores of the top-n similar players.\n",
    "    \"\"\"\n",
    "    if player_name not in similarity_2021_2024_90.index:\n",
    "        return f\"Player {player_name} not found in the data.\"\n",
    "    \n",
    "    # Get similarity scores for the given player\n",
    "    similarity_scores = similarity_2021_2024_90[player_name]\n",
    "    \n",
    "    # Exclude the player itself and sort by similarity score\n",
    "    similar_players = similarity_scores.drop(player_name).sort_values(ascending=False)\n",
    "    \n",
    "    # Return the top-n similar players\n",
    "    return similar_players.head(n)"
   ]
  },
  {
   "cell_type": "code",
   "execution_count": 62,
   "metadata": {},
   "outputs": [
    {
     "name": "stdout",
     "output_type": "stream",
     "text": [
      "Player\n",
      "Kevin De Bruyne    0.904353\n",
      "Ross Barkley       0.901144\n",
      "Iker Muniain       0.900411\n",
      "İlkay Gündoğan     0.896474\n",
      "Ángel Di María     0.879172\n",
      "Name: Lionel Messi, dtype: float64\n"
     ]
    }
   ],
   "source": [
    "player_name = 'Lionel Messi'\n",
    "similar_players = find_similar_players(player_name, n=5)\n",
    "print(similar_players)"
   ]
  }
 ],
 "metadata": {
  "kernelspec": {
   "display_name": "football",
   "language": "python",
   "name": "python3"
  },
  "language_info": {
   "codemirror_mode": {
    "name": "ipython",
    "version": 3
   },
   "file_extension": ".py",
   "mimetype": "text/x-python",
   "name": "python",
   "nbconvert_exporter": "python",
   "pygments_lexer": "ipython3",
   "version": "3.11.8"
  }
 },
 "nbformat": 4,
 "nbformat_minor": 2
}
