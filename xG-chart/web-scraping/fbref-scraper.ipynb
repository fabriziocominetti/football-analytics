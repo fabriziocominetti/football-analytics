{
 "cells": [
  {
   "cell_type": "markdown",
   "metadata": {},
   "source": [
    "## Scraping Data from Understat"
   ]
  },
  {
   "cell_type": "code",
   "execution_count": 14,
   "metadata": {},
   "outputs": [],
   "source": [
    "import numpy as np\n",
    "import pandas as pd\n",
    "import requests\n",
    "from bs4 import BeautifulSoup\n",
    "import json"
   ]
  },
  {
   "cell_type": "markdown",
   "metadata": {},
   "source": [
    "Link of the target page: https://fbref.com/it/comp/11/Statistiche-di-Serie-A"
   ]
  },
  {
   "cell_type": "markdown",
   "metadata": {},
   "source": [
    "_Load the webpage containing the data_"
   ]
  },
  {
   "cell_type": "code",
   "execution_count": 15,
   "metadata": {},
   "outputs": [],
   "source": [
    "headers = {'User-Agent': \n",
    "           'Mozilla/5.0 (X11; Linux x86_64) AppleWebKit/537.36 (KHTML, like Gecko) Chrome/47.0.2526.106 Safari/537.36'}\n",
    "\n",
    "url = \"https://fbref.com/it/comp/11/Statistiche-di-Serie-A\"\n",
    "pageTree = requests.get(url)\n",
    "pageSoup = BeautifulSoup(pageTree.content, 'html.parser')"
   ]
  },
  {
   "cell_type": "markdown",
   "metadata": {},
   "source": [
    "_Locate the data within a page & extract it_"
   ]
  },
  {
   "cell_type": "code",
   "execution_count": 16,
   "metadata": {},
   "outputs": [],
   "source": [
    "Teams = pageSoup.find_all(\"td\", {\"data-stat\": \"squad\"})"
   ]
  },
  {
   "cell_type": "code",
   "execution_count": 17,
   "metadata": {},
   "outputs": [
    {
     "data": {
      "text/plain": [
       "' Milan'"
      ]
     },
     "execution_count": 17,
     "metadata": {},
     "output_type": "execute_result"
    }
   ],
   "source": [
    "Teams[0].text"
   ]
  },
  {
   "cell_type": "code",
   "execution_count": 18,
   "metadata": {},
   "outputs": [],
   "source": [
    "Games = pageSoup.find_all(\"td\", {\"data-stat\": \"games\"})"
   ]
  },
  {
   "cell_type": "code",
   "execution_count": 19,
   "metadata": {},
   "outputs": [
    {
     "data": {
      "text/plain": [
       "'30'"
      ]
     },
     "execution_count": 19,
     "metadata": {},
     "output_type": "execute_result"
    }
   ],
   "source": [
    "Games[0].text"
   ]
  },
  {
   "cell_type": "code",
   "execution_count": 20,
   "metadata": {},
   "outputs": [],
   "source": [
    "Wins = pageSoup.find_all(\"td\", {\"data-stat\": \"wins\"})\n",
    "Draws = pageSoup.find_all(\"td\", {\"data-stat\": \"draws\"})\n",
    "Losses = pageSoup.find_all(\"td\", {\"data-stat\": \"losses\"})\n",
    "Goals_for = pageSoup.find_all(\"td\", {\"data-stat\": \"goals_for\"})\n",
    "Goals_against = pageSoup.find_all(\"td\", {\"data-stat\": \"goals_against\"})\n",
    "Points = pageSoup.find_all(\"td\", {\"data-stat\": \"points\"})\n",
    "xG_for = pageSoup.find_all(\"td\", {\"data-stat\": \"xg_for\"})\n",
    "xG_against = pageSoup.find_all(\"td\", {\"data-stat\": \"xg_against\"})\n",
    "xG_diff = pageSoup.find_all(\"td\", {\"data-stat\": \"xg_diff\"})\n",
    "xG_diff_per90 = pageSoup.find_all(\"td\", {\"data-stat\": \"xg_diff_per90\"})"
   ]
  },
  {
   "cell_type": "markdown",
   "metadata": {},
   "source": [
    "_Organise the data into a dataframe_"
   ]
  },
  {
   "cell_type": "code",
   "execution_count": 25,
   "metadata": {},
   "outputs": [],
   "source": [
    "TeamsList = []\n",
    "GamesList = []\n",
    "WinsList = []\n",
    "DrawsList = []\n",
    "LossesList = []\n",
    "Goals_forList = []\n",
    "Goals_againstList = []\n",
    "PointsList = []\n",
    "xG_forList = []\n",
    "xG_againstList = []\n",
    "xG_diffList = []\n",
    "xG_diff_per90List = []\n",
    "\n",
    "for i in range(0,20):\n",
    "    TeamsList.append(Teams[i].text)\n",
    "    GamesList.append(Games[i].text)\n",
    "    WinsList.append(Wins[i].text)\n",
    "    DrawsList.append(Draws[i].text)\n",
    "    LossesList.append(Losses[i].text)\n",
    "    Goals_forList.append(Goals_for[i].text)\n",
    "    Goals_againstList.append(Goals_against[i].text)\n",
    "    PointsList.append(Points[i].text)\n",
    "    xG_forList.append(xG_for[i].text)\n",
    "    xG_againstList.append(xG_against[i].text)\n",
    "    xG_diffList.append(xG_diff[i].text)\n",
    "    xG_diff_per90List.append(xG_diff_per90[i].text)\n",
    "\n",
    "df = pd.DataFrame({\"Team\": TeamsList, \"Games\": GamesList, \"Wins\": WinsList, \"Draws\": DrawsList, \"Losses\": LossesList, \"Goals_for\": Goals_forList\n",
    ", \"Goals_against\": Goals_againstList, \"Points\": PointsList, \"xG_for\": xG_forList, \"xG_against\": xG_againstList, \"xG_diff\": xG_diffList, \"xG_diff_per90\": xG_diff_per90List})"
   ]
  },
  {
   "cell_type": "code",
   "execution_count": 26,
   "metadata": {},
   "outputs": [
    {
     "data": {
      "text/html": [
       "<div>\n",
       "<style scoped>\n",
       "    .dataframe tbody tr th:only-of-type {\n",
       "        vertical-align: middle;\n",
       "    }\n",
       "\n",
       "    .dataframe tbody tr th {\n",
       "        vertical-align: top;\n",
       "    }\n",
       "\n",
       "    .dataframe thead th {\n",
       "        text-align: right;\n",
       "    }\n",
       "</style>\n",
       "<table border=\"1\" class=\"dataframe\">\n",
       "  <thead>\n",
       "    <tr style=\"text-align: right;\">\n",
       "      <th></th>\n",
       "      <th>Team</th>\n",
       "      <th>Games</th>\n",
       "      <th>Wins</th>\n",
       "      <th>Draws</th>\n",
       "      <th>Losses</th>\n",
       "      <th>Goals_for</th>\n",
       "      <th>Goals_against</th>\n",
       "      <th>Points</th>\n",
       "      <th>xG_for</th>\n",
       "      <th>xG_against</th>\n",
       "      <th>xG_diff</th>\n",
       "      <th>xG_diff_per90</th>\n",
       "    </tr>\n",
       "  </thead>\n",
       "  <tbody>\n",
       "    <tr>\n",
       "      <th>0</th>\n",
       "      <td>Milan</td>\n",
       "      <td>30</td>\n",
       "      <td>20</td>\n",
       "      <td>6</td>\n",
       "      <td>4</td>\n",
       "      <td>56</td>\n",
       "      <td>29</td>\n",
       "      <td>66</td>\n",
       "      <td>47.8</td>\n",
       "      <td>29.4</td>\n",
       "      <td>+18.4</td>\n",
       "      <td>0,61</td>\n",
       "    </tr>\n",
       "    <tr>\n",
       "      <th>1</th>\n",
       "      <td>Napoli</td>\n",
       "      <td>30</td>\n",
       "      <td>19</td>\n",
       "      <td>6</td>\n",
       "      <td>5</td>\n",
       "      <td>53</td>\n",
       "      <td>22</td>\n",
       "      <td>63</td>\n",
       "      <td>46.9</td>\n",
       "      <td>22.3</td>\n",
       "      <td>+24.7</td>\n",
       "      <td>0,82</td>\n",
       "    </tr>\n",
       "    <tr>\n",
       "      <th>2</th>\n",
       "      <td>Inter</td>\n",
       "      <td>29</td>\n",
       "      <td>17</td>\n",
       "      <td>9</td>\n",
       "      <td>3</td>\n",
       "      <td>62</td>\n",
       "      <td>24</td>\n",
       "      <td>60</td>\n",
       "      <td>60.2</td>\n",
       "      <td>30.8</td>\n",
       "      <td>+29.4</td>\n",
       "      <td>+1,01</td>\n",
       "    </tr>\n",
       "    <tr>\n",
       "      <th>3</th>\n",
       "      <td>Juventus</td>\n",
       "      <td>30</td>\n",
       "      <td>17</td>\n",
       "      <td>8</td>\n",
       "      <td>5</td>\n",
       "      <td>47</td>\n",
       "      <td>26</td>\n",
       "      <td>59</td>\n",
       "      <td>40.3</td>\n",
       "      <td>28.4</td>\n",
       "      <td>+11.9</td>\n",
       "      <td>0,40</td>\n",
       "    </tr>\n",
       "    <tr>\n",
       "      <th>4</th>\n",
       "      <td>Roma</td>\n",
       "      <td>30</td>\n",
       "      <td>15</td>\n",
       "      <td>6</td>\n",
       "      <td>9</td>\n",
       "      <td>50</td>\n",
       "      <td>35</td>\n",
       "      <td>51</td>\n",
       "      <td>52.3</td>\n",
       "      <td>31.8</td>\n",
       "      <td>+20.5</td>\n",
       "      <td>0,68</td>\n",
       "    </tr>\n",
       "  </tbody>\n",
       "</table>\n",
       "</div>"
      ],
      "text/plain": [
       "        Team Games Wins Draws Losses Goals_for Goals_against Points xG_for  \\\n",
       "0      Milan    30   20     6      4        56            29     66   47.8   \n",
       "1     Napoli    30   19     6      5        53            22     63   46.9   \n",
       "2      Inter    29   17     9      3        62            24     60   60.2   \n",
       "3   Juventus    30   17     8      5        47            26     59   40.3   \n",
       "4       Roma    30   15     6      9        50            35     51   52.3   \n",
       "\n",
       "  xG_against xG_diff xG_diff_per90  \n",
       "0       29.4   +18.4          0,61  \n",
       "1       22.3   +24.7          0,82  \n",
       "2       30.8   +29.4         +1,01  \n",
       "3       28.4   +11.9          0,40  \n",
       "4       31.8   +20.5          0,68  "
      ]
     },
     "execution_count": 26,
     "metadata": {},
     "output_type": "execute_result"
    }
   ],
   "source": [
    "df.head()"
   ]
  },
  {
   "cell_type": "code",
   "execution_count": 28,
   "metadata": {},
   "outputs": [],
   "source": [
    "df.to_csv('../data/serieA.csv')"
   ]
  }
 ],
 "metadata": {
  "interpreter": {
   "hash": "7894a52d68d58fbd92560d3706c1758f91e373e9093849d544b4761ad70d7c45"
  },
  "kernelspec": {
   "display_name": "Python 3.9.7 ('webScraping')",
   "language": "python",
   "name": "python3"
  },
  "language_info": {
   "codemirror_mode": {
    "name": "ipython",
    "version": 3
   },
   "file_extension": ".py",
   "mimetype": "text/x-python",
   "name": "python",
   "nbconvert_exporter": "python",
   "pygments_lexer": "ipython3",
   "version": "3.9.7"
  },
  "orig_nbformat": 4
 },
 "nbformat": 4,
 "nbformat_minor": 2
}
