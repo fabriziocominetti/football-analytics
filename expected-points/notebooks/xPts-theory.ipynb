{
 "cells": [
  {
   "cell_type": "markdown",
   "metadata": {},
   "source": [
    "## **Expected Points**\n",
    "\n",
    "xPts Theory"
   ]
  },
  {
   "cell_type": "markdown",
   "metadata": {},
   "source": [
    "Expected Points = (3×𝑃win) + (1×𝑃draw) + (0×𝑃loss)"
   ]
  },
  {
   "cell_type": "code",
   "execution_count": 1,
   "metadata": {},
   "outputs": [],
   "source": [
    "#imports\n",
    "import pandas as pd\n",
    "import numpy as np\n",
    "from scipy.stats import poisson"
   ]
  },
  {
   "cell_type": "code",
   "execution_count": null,
   "metadata": {},
   "outputs": [],
   "source": [
    "#aggregate xG values for each team\n",
    "'''\n",
    "# xG values for each shot taken by Team A and Team B \n",
    "team_A_shots_xG = [0.1, 0.05, 0.2, 0.15] \n",
    "team_B_shots_xG = [0.05, 0.1, 0.05]\n",
    "team_A_xG = sum(team_A_shots_xG) \n",
    "team_B_xG = sum(team_B_shots_xG) \n",
    "\n",
    "print(f\"Team A Total xG: {team_A_xG}\") \n",
    "print(f\"Team B Total xG: {team_B_xG}\")\n",
    "\n",
    "Output:\n",
    "Team A Total xG: 0.5 \n",
    "Team B Total xG: 0.2\n",
    "'''"
   ]
  },
  {
   "cell_type": "markdown",
   "metadata": {},
   "source": [
    "The Poisson distribution models the probability of a given number of goals being scored based on an average rate (λ), which, in this case, is the team's total xG."
   ]
  },
  {
   "cell_type": "code",
   "execution_count": null,
   "metadata": {},
   "outputs": [],
   "source": [
    "#model goal scoring probabilities using poisson distribution\n",
    "'''\n",
    "# maximum number of goals to consider \n",
    "max_goals = 5 \n",
    "\n",
    "# calculate goal probabilities for Team A and Team B \n",
    "team_A_goal_probs = [poisson.pmf(i, team_A_xG) for i in range(max_goals + 1)] \n",
    "team_B_goal_probs = [poisson.pmf(i, team_B_xG) for i in range(max_goals + 1)]\n",
    "'''"
   ]
  },
  {
   "cell_type": "code",
   "execution_count": null,
   "metadata": {},
   "outputs": [],
   "source": [
    "#determine match outcome probabilities\n",
    "'''\n",
    "# probability matrix for all possible scorelines \n",
    "match_probs = np.outer(team_A_goal_probs, team_B_goal_probs)\n",
    "'''"
   ]
  },
  {
   "cell_type": "markdown",
   "metadata": {},
   "source": [
    "Each cell (i, j) in match_probs represents the probability of Team A scoring i goals and Team B scoring j goals."
   ]
  },
  {
   "cell_type": "code",
   "execution_count": null,
   "metadata": {},
   "outputs": [],
   "source": [
    "#calculate the probabilities of Team A winning, drawing, and losing\n",
    "'''\n",
    "# probability of Team A winning (Team A scores more than Team B) \n",
    "P_win = np.sum(np.tril(match_probs, -1)) \n",
    "\n",
    "# probability of a draw (both teams score the same number of goals) \n",
    "P_draw = np.sum(np.diag(match_probs)) \n",
    "\n",
    "# probability of Team A losing (Team A scores fewer goals than Team B) \n",
    "P_loss = np.sum(np.triu(match_probs, 1)) \n",
    "\n",
    "print(f\"Probability of Win: {P_win:.4f}\") \n",
    "print(f\"Probability of Draw: {P_draw:.4f}\") \n",
    "print(f\"Probability of Loss: {P_loss:.4f}\")\n",
    "\n",
    "Output:\n",
    "Probability of Win: 0.3371 \n",
    "Probability of Draw: 0.5475\n",
    "Probability of Loss: 0.1153\n",
    "'''"
   ]
  },
  {
   "cell_type": "code",
   "execution_count": null,
   "metadata": {},
   "outputs": [],
   "source": [
    "#calculate expected points\n",
    "'''\n",
    "expected_points = (3 * P_win) + (1 * P_draw) \n",
    "print(f\"Expected Points: {expected_points:.2f}\")\n",
    "\n",
    "Output:\n",
    "Expected Points: 1.56\n",
    "'''"
   ]
  },
  {
   "cell_type": "code",
   "execution_count": null,
   "metadata": {},
   "outputs": [],
   "source": [
    "#apply to multiple matches\n",
    "'''\n",
    "matches = [{'team': 'Team A', 'team_xG': 1.5, 'opponent_xG': 1.0},\n",
    "        {'team': 'Team B', 'team_xG': 0.8, 'opponent_xG': 1.2},\n",
    "        {'team': 'Team C', 'team_xG': 2.0, 'opponent_xG': 0.5}\n",
    "]\n",
    "\n",
    "def calculate_expected_points_from_xG(team_xG, opponent_xG, max_goals=10):\n",
    "    # goal probabilities for the team\n",
    "    team_goal_probs = [poisson.pmf(i, team_xG) for i in range(max_goals + 1)]\n",
    "    \n",
    "    # goal probabilities for the opponent\n",
    "    opponent_goal_probs = [poisson.pmf(i, opponent_xG) for i in range(max_goals + 1)]\n",
    "\n",
    "    # matrix of match probabilities\n",
    "    match_probs = np.outer(team_goal_probs, opponent_goal_probs)\n",
    "\n",
    "    # outcome probabilities\n",
    "    P_win = np.sum(np.tril(match_probs, -1))\n",
    "    P_draw = np.sum(np.diag(match_probs))\n",
    "    P_loss = np.sum(np.triu(match_probs, k=1))\n",
    "\n",
    "    # expected points calculation\n",
    "    expected_points = (3 * P_win) + (1 * P_draw)\n",
    "\n",
    "    return expected_points, P_win, P_draw, P_loss\n",
    "\n",
    "for match in matches:\n",
    "    expected_points, P_win, P_draw, P_loss = calculate_expected_points_from_xG(match['team_xG'], match['opponent_xG'])\n",
    "    print(f\"{match['team']} Expected Points: {expected_points:.2f}\")\n",
    "'''"
   ]
  }
 ],
 "metadata": {
  "kernelspec": {
   "display_name": "football",
   "language": "python",
   "name": "python3"
  },
  "language_info": {
   "codemirror_mode": {
    "name": "ipython",
    "version": 3
   },
   "file_extension": ".py",
   "mimetype": "text/x-python",
   "name": "python",
   "nbconvert_exporter": "python",
   "pygments_lexer": "ipython3",
   "version": "3.11.8"
  }
 },
 "nbformat": 4,
 "nbformat_minor": 2
}
