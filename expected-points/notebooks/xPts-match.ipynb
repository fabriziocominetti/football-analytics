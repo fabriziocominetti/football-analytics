{
 "cells": [
  {
   "cell_type": "markdown",
   "metadata": {},
   "source": [
    "## **Expected Points**\n",
    "\n",
    "xPts | AC Milan 4-2 Udinese Serie A 2022/23"
   ]
  },
  {
   "cell_type": "markdown",
   "metadata": {},
   "source": [
    "Expected Points = (3×𝑃win) + (1×𝑃draw) + (0×𝑃loss)"
   ]
  },
  {
   "cell_type": "code",
   "execution_count": 2,
   "metadata": {},
   "outputs": [],
   "source": [
    "#imports\n",
    "import pandas as pd\n",
    "import numpy as np\n",
    "from scipy.stats import poisson"
   ]
  },
  {
   "cell_type": "markdown",
   "metadata": {},
   "source": [
    "##### **Data Retrieval**"
   ]
  },
  {
   "cell_type": "markdown",
   "metadata": {},
   "source": [
    "- https://understat.readthedocs.io/en/latest/classes/understat.html#the-functions"
   ]
  },
  {
   "cell_type": "markdown",
   "metadata": {},
   "source": [
    "Understat.get_match_shots(match_id, options=None, **kwargs) <br/>\n",
    "_Returns a dictionary containing information about shots taken by the players in the given match._\n",
    "\n",
    "Parameters:\t\n",
    "- fixture_id (int) – A match’s ID.\n",
    "- options – Options to filter the data by, defaults to None.\n",
    "- options – dict, optional\n",
    "\n",
    "Returns: Dictionary containing information about the players who played in the match. | Return type: dict\n",
    "\n",
    "It returns information about the shots made by players who played in the given match. "
   ]
  },
  {
   "cell_type": "code",
   "execution_count": 2,
   "metadata": {},
   "outputs": [],
   "source": [
    "import asyncio\n",
    "import json\n",
    "import aiohttp\n",
    "from understat import Understat"
   ]
  },
  {
   "cell_type": "markdown",
   "metadata": {},
   "source": [
    "- Inter 1-2 AC Milan, 22/09/2024 | https://understat.com/match/27406"
   ]
  },
  {
   "cell_type": "code",
   "execution_count": null,
   "metadata": {},
   "outputs": [],
   "source": [
    "async with aiohttp.ClientSession() as session:\n",
    "    understat = Understat(session)\n",
    "    shots = await understat.get_match_shots(27406)\n",
    "    INTACM_shots = pd.DataFrame(shots)"
   ]
  },
  {
   "cell_type": "code",
   "execution_count": null,
   "metadata": {},
   "outputs": [],
   "source": [
    "# save as csv\n",
    "INTACM_shots.to_csv('../data/INTACM_shots.csv', index=False)"
   ]
  },
  {
   "cell_type": "markdown",
   "metadata": {},
   "source": [
    "Alternative, use data already collected"
   ]
  },
  {
   "cell_type": "markdown",
   "metadata": {},
   "source": [
    "##### **Data Preparation**"
   ]
  },
  {
   "cell_type": "code",
   "execution_count": 6,
   "metadata": {},
   "outputs": [],
   "source": [
    "df_ACMUDI_shots = pd.read_csv('../data/ACMUDI_22-23.csv')"
   ]
  },
  {
   "cell_type": "code",
   "execution_count": 7,
   "metadata": {},
   "outputs": [
    {
     "name": "stdout",
     "output_type": "stream",
     "text": [
      "(23, 14)\n",
      "\n",
      "Index(['team_id', 'player_id', 'player_name', 'min', 'expected_goals',\n",
      "       'event_type', 'team_color', 'match_id', 'is_own_goal', 'x', 'y',\n",
      "       'shot_type', 'situation', 'team_name'],\n",
      "      dtype='object')\n",
      "\n",
      "team_id             int64\n",
      "player_id           int64\n",
      "player_name        object\n",
      "min                 int64\n",
      "expected_goals    float64\n",
      "event_type         object\n",
      "team_color         object\n",
      "match_id            int64\n",
      "is_own_goal          bool\n",
      "x                 float64\n",
      "y                 float64\n",
      "shot_type          object\n",
      "situation          object\n",
      "team_name          object\n",
      "dtype: object\n"
     ]
    }
   ],
   "source": [
    "print(df_ACMUDI_shots.shape)\n",
    "print('')\n",
    "print(df_ACMUDI_shots.columns)\n",
    "print('')\n",
    "print(df_ACMUDI_shots.dtypes)"
   ]
  },
  {
   "cell_type": "code",
   "execution_count": 8,
   "metadata": {},
   "outputs": [
    {
     "data": {
      "text/html": [
       "<div>\n",
       "<style scoped>\n",
       "    .dataframe tbody tr th:only-of-type {\n",
       "        vertical-align: middle;\n",
       "    }\n",
       "\n",
       "    .dataframe tbody tr th {\n",
       "        vertical-align: top;\n",
       "    }\n",
       "\n",
       "    .dataframe thead th {\n",
       "        text-align: right;\n",
       "    }\n",
       "</style>\n",
       "<table border=\"1\" class=\"dataframe\">\n",
       "  <thead>\n",
       "    <tr style=\"text-align: right;\">\n",
       "      <th></th>\n",
       "      <th>team_id</th>\n",
       "      <th>player_id</th>\n",
       "      <th>player_name</th>\n",
       "      <th>min</th>\n",
       "      <th>expected_goals</th>\n",
       "      <th>event_type</th>\n",
       "      <th>team_color</th>\n",
       "      <th>match_id</th>\n",
       "      <th>is_own_goal</th>\n",
       "      <th>x</th>\n",
       "      <th>y</th>\n",
       "      <th>shot_type</th>\n",
       "      <th>situation</th>\n",
       "      <th>team_name</th>\n",
       "    </tr>\n",
       "  </thead>\n",
       "  <tbody>\n",
       "    <tr>\n",
       "      <th>0</th>\n",
       "      <td>8600</td>\n",
       "      <td>844504</td>\n",
       "      <td>Rodrigo Becao</td>\n",
       "      <td>2</td>\n",
       "      <td>0.086003</td>\n",
       "      <td>Goal</td>\n",
       "      <td>#907850</td>\n",
       "      <td>3919071</td>\n",
       "      <td>False</td>\n",
       "      <td>102.344825</td>\n",
       "      <td>39.545001</td>\n",
       "      <td>Header</td>\n",
       "      <td>FromCorner</td>\n",
       "      <td>Udinese</td>\n",
       "    </tr>\n",
       "    <tr>\n",
       "      <th>1</th>\n",
       "      <td>8564</td>\n",
       "      <td>750027</td>\n",
       "      <td>Brahim Diaz</td>\n",
       "      <td>7</td>\n",
       "      <td>0.054140</td>\n",
       "      <td>AttemptSaved</td>\n",
       "      <td>#302028</td>\n",
       "      <td>3919071</td>\n",
       "      <td>False</td>\n",
       "      <td>95.350879</td>\n",
       "      <td>19.304968</td>\n",
       "      <td>RightFoot</td>\n",
       "      <td>RegularPlay</td>\n",
       "      <td>Milan</td>\n",
       "    </tr>\n",
       "    <tr>\n",
       "      <th>2</th>\n",
       "      <td>8564</td>\n",
       "      <td>724371</td>\n",
       "      <td>Theo Hernández</td>\n",
       "      <td>11</td>\n",
       "      <td>0.788400</td>\n",
       "      <td>Goal</td>\n",
       "      <td>#302028</td>\n",
       "      <td>3919071</td>\n",
       "      <td>False</td>\n",
       "      <td>94.000000</td>\n",
       "      <td>34.000000</td>\n",
       "      <td>LeftFoot</td>\n",
       "      <td>Penalty</td>\n",
       "      <td>Milan</td>\n",
       "    </tr>\n",
       "    <tr>\n",
       "      <th>3</th>\n",
       "      <td>8564</td>\n",
       "      <td>265725</td>\n",
       "      <td>Ante Rebic</td>\n",
       "      <td>15</td>\n",
       "      <td>0.075055</td>\n",
       "      <td>Goal</td>\n",
       "      <td>#302028</td>\n",
       "      <td>3919071</td>\n",
       "      <td>False</td>\n",
       "      <td>94.000000</td>\n",
       "      <td>32.017501</td>\n",
       "      <td>RightFoot</td>\n",
       "      <td>RegularPlay</td>\n",
       "      <td>Milan</td>\n",
       "    </tr>\n",
       "    <tr>\n",
       "      <th>4</th>\n",
       "      <td>8564</td>\n",
       "      <td>848844</td>\n",
       "      <td>Rafael Leao</td>\n",
       "      <td>18</td>\n",
       "      <td>0.033549</td>\n",
       "      <td>Miss</td>\n",
       "      <td>#302028</td>\n",
       "      <td>3919071</td>\n",
       "      <td>False</td>\n",
       "      <td>78.768443</td>\n",
       "      <td>43.300128</td>\n",
       "      <td>LeftFoot</td>\n",
       "      <td>RegularPlay</td>\n",
       "      <td>Milan</td>\n",
       "    </tr>\n",
       "  </tbody>\n",
       "</table>\n",
       "</div>"
      ],
      "text/plain": [
       "   team_id  player_id     player_name  min  expected_goals    event_type   \n",
       "0     8600     844504   Rodrigo Becao    2        0.086003          Goal  \\\n",
       "1     8564     750027     Brahim Diaz    7        0.054140  AttemptSaved   \n",
       "2     8564     724371  Theo Hernández   11        0.788400          Goal   \n",
       "3     8564     265725      Ante Rebic   15        0.075055          Goal   \n",
       "4     8564     848844     Rafael Leao   18        0.033549          Miss   \n",
       "\n",
       "  team_color  match_id  is_own_goal           x          y  shot_type   \n",
       "0    #907850   3919071        False  102.344825  39.545001     Header  \\\n",
       "1    #302028   3919071        False   95.350879  19.304968  RightFoot   \n",
       "2    #302028   3919071        False   94.000000  34.000000   LeftFoot   \n",
       "3    #302028   3919071        False   94.000000  32.017501  RightFoot   \n",
       "4    #302028   3919071        False   78.768443  43.300128   LeftFoot   \n",
       "\n",
       "     situation team_name  \n",
       "0   FromCorner   Udinese  \n",
       "1  RegularPlay     Milan  \n",
       "2      Penalty     Milan  \n",
       "3  RegularPlay     Milan  \n",
       "4  RegularPlay     Milan  "
      ]
     },
     "execution_count": 8,
     "metadata": {},
     "output_type": "execute_result"
    }
   ],
   "source": [
    "df_ACMUDI_shots.head()"
   ]
  },
  {
   "cell_type": "markdown",
   "metadata": {},
   "source": [
    "##### **Data Modeling**"
   ]
  },
  {
   "cell_type": "code",
   "execution_count": 11,
   "metadata": {},
   "outputs": [
    {
     "name": "stdout",
     "output_type": "stream",
     "text": [
      "AC Milan Total xG: 2.325864648485184\n",
      "Udinese Total xG: 0.4874548017978663\n"
     ]
    }
   ],
   "source": [
    "# aggregate xG values for each team\n",
    "\n",
    "# xG values for each shot taken by Team A and Team B\n",
    "ACM_df = df_ACMUDI_shots[df_ACMUDI_shots['team_name'] == 'Milan']\n",
    "UDI_df = df_ACMUDI_shots[df_ACMUDI_shots['team_name'] == 'Udinese']\n",
    "\n",
    "ACM_shots_xG = ACM_df['expected_goals']\n",
    "UDI_shots_xG = UDI_df['expected_goals']\n",
    "\n",
    "ACM_xG = sum(ACM_shots_xG)\n",
    "UDI_xG = sum(UDI_shots_xG)\n",
    "\n",
    "print(f\"AC Milan Total xG: {ACM_xG}\") \n",
    "print(f\"Udinese Total xG: {UDI_xG}\")"
   ]
  },
  {
   "cell_type": "code",
   "execution_count": 12,
   "metadata": {},
   "outputs": [],
   "source": [
    "# model goal scoring probabilities using poisson distribution\n",
    "\n",
    "# maximum number of goals to consider\n",
    "max_goals = 5\n",
    "\n",
    "# calculate goal probabilities for Team A and Team B\n",
    "ACM_goal_probs = [poisson.pmf(i, ACM_xG) for i in range(max_goals + 1)]\n",
    "UDI_goal_probs = [poisson.pmf(i, UDI_xG) for i in range(max_goals + 1)]"
   ]
  },
  {
   "cell_type": "code",
   "execution_count": 13,
   "metadata": {},
   "outputs": [],
   "source": [
    "# determine match outcome probabilities\n",
    "\n",
    "# probability matrix for all possible scorelines \n",
    "match_probs = np.outer(ACM_goal_probs, UDI_goal_probs)"
   ]
  },
  {
   "cell_type": "code",
   "execution_count": 14,
   "metadata": {},
   "outputs": [
    {
     "name": "stdout",
     "output_type": "stream",
     "text": [
      "Probability of Win: 0.7574\n",
      "Probability of Draw: 0.1499\n",
      "Probability of Loss: 0.0612\n"
     ]
    }
   ],
   "source": [
    "# calculate the probabilities of Team A winning, drawing, and losing\n",
    "\n",
    "# probability of Team A winning (Team A scores more than Team B) \n",
    "P_win = np.sum(np.tril(match_probs, -1)) \n",
    "\n",
    "# probability of a draw (both teams score the same number of goals) \n",
    "P_draw = np.sum(np.diag(match_probs)) \n",
    "\n",
    "# probability of Team A losing (Team A scores fewer goals than Team B) \n",
    "P_loss = np.sum(np.triu(match_probs, 1)) \n",
    "\n",
    "print(f\"Probability of Win: {P_win:.4f}\") \n",
    "print(f\"Probability of Draw: {P_draw:.4f}\") \n",
    "print(f\"Probability of Loss: {P_loss:.4f}\")"
   ]
  },
  {
   "cell_type": "code",
   "execution_count": 15,
   "metadata": {},
   "outputs": [
    {
     "name": "stdout",
     "output_type": "stream",
     "text": [
      "Expected Points: 2.42\n"
     ]
    }
   ],
   "source": [
    "# calculate expected points\n",
    "\n",
    "expected_points = (3 * P_win) + (1 * P_draw) \n",
    "print(f\"Expected Points: {expected_points:.2f}\")"
   ]
  }
 ],
 "metadata": {
  "kernelspec": {
   "display_name": "football",
   "language": "python",
   "name": "python3"
  },
  "language_info": {
   "codemirror_mode": {
    "name": "ipython",
    "version": 3
   },
   "file_extension": ".py",
   "mimetype": "text/x-python",
   "name": "python",
   "nbconvert_exporter": "python",
   "pygments_lexer": "ipython3",
   "version": "3.11.8"
  }
 },
 "nbformat": 4,
 "nbformat_minor": 2
}
